{
 "cells": [
  {
   "cell_type": "markdown",
   "id": "28e381cb-5c3e-4d65-94bb-8f1dbc9bc26f",
   "metadata": {},
   "source": [
    "This is the continuation of the notebook `customer_lead_generator_eda.ipynb`."
   ]
  },
  {
   "cell_type": "code",
   "execution_count": 1,
   "id": "77022c7b-a955-444e-87cd-55479258f922",
   "metadata": {},
   "outputs": [
    {
     "name": "stdout",
     "output_type": "stream",
     "text": [
      "Requirement already satisfied: imblearn in /home/ria/apps/miniconda3/envs/MLG/lib/python3.10/site-packages (0.0)\n",
      "Requirement already satisfied: imbalanced-learn in /home/ria/apps/miniconda3/envs/MLG/lib/python3.10/site-packages (from imblearn) (0.11.0)\n",
      "Requirement already satisfied: numpy>=1.17.3 in /home/ria/apps/miniconda3/envs/MLG/lib/python3.10/site-packages (from imbalanced-learn->imblearn) (1.25.2)\n",
      "Requirement already satisfied: scipy>=1.5.0 in /home/ria/apps/miniconda3/envs/MLG/lib/python3.10/site-packages (from imbalanced-learn->imblearn) (1.10.1)\n",
      "Requirement already satisfied: scikit-learn>=1.0.2 in /home/ria/apps/miniconda3/envs/MLG/lib/python3.10/site-packages (from imbalanced-learn->imblearn) (1.2.2)\n",
      "Requirement already satisfied: joblib>=1.1.1 in /home/ria/apps/miniconda3/envs/MLG/lib/python3.10/site-packages (from imbalanced-learn->imblearn) (1.2.0)\n",
      "Requirement already satisfied: threadpoolctl>=2.0.0 in /home/ria/apps/miniconda3/envs/MLG/lib/python3.10/site-packages (from imbalanced-learn->imblearn) (2.2.0)\n"
     ]
    }
   ],
   "source": [
    "!pip install imblearn"
   ]
  },
  {
   "cell_type": "code",
   "execution_count": 2,
   "id": "72ac976e-0747-42a7-b8de-d447e4c49c70",
   "metadata": {},
   "outputs": [],
   "source": [
    "import numpy as np\n",
    "import pandas as pd\n",
    "\n",
    "from sklearn.metrics import classification_report, confusion_matrix, f1_score, roc_auc_score, roc_curve\n",
    "from sklearn.model_selection import train_test_split\n",
    "from sklearn.pipeline import Pipeline\n",
    "from sklearn.impute import KNNImputer\n",
    "from sklearn.preprocessing import StandardScaler\n",
    "from sklearn.linear_model import LogisticRegression\n",
    "from sklearn.ensemble import RandomForestClassifier\n",
    "from xgboost import XGBClassifier\n",
    "\n",
    "from imblearn.pipeline import Pipeline as ImbPipeline # don't overwrite sklearn's \"vanilla\" Pipeline\n",
    "from imblearn.over_sampling import SMOTE # for oversampling the minority class, i.e generating synthetic samples\n",
    "\n",
    "import matplotlib.pyplot as plt\n",
    "import seaborn as sns\n",
    "\n",
    "import os"
   ]
  },
  {
   "cell_type": "markdown",
   "id": "c8478b5f-3fbe-4d6a-be1b-aecc23516f5b",
   "metadata": {},
   "source": [
    "__Helper functions__\n",
    "\n",
    "Function to plot the ROC curve, calculate AUC for a base model and the AUC of our model."
   ]
  },
  {
   "cell_type": "code",
   "execution_count": 3,
   "id": "25d0c0d6-6a53-443f-b458-ef5f6294b51b",
   "metadata": {},
   "outputs": [],
   "source": [
    "def plot_roc(y_test, proba_preds, model_name):\n",
    "\n",
    "    # create linear line for dummy classifier with 50% random probability of predictions\n",
    "    base_probs = [0 for _ in range(len(y_test))] # 0 is the majority class, could also sample randomly\n",
    "    base_auc = roc_auc_score(y_test, base_probs)\n",
    "\n",
    "    # get auc for ML model\n",
    "    lr_auc = roc_auc_score(y_test, proba_preds)\n",
    "\n",
    "    # summarize scores\n",
    "    print('Logistic: ROC AUC=%.3f' % (lr_auc))\n",
    "\n",
    "    # calculate roc curves\n",
    "    ns_fpr, ns_tpr, _ = roc_curve(y_test, base_probs) # roc curve for the dummy model (3rd output: threshold, not using for plotting)\n",
    "    lr_fpr, lr_tpr, _ = roc_curve(y_test, proba_preds) # roc curve for your model\n",
    "\n",
    "    # plot the roc curve for the model\n",
    "    plt.plot(ns_fpr, ns_tpr, linestyle='--', label='Base')\n",
    "    plt.plot(lr_fpr, lr_tpr, marker='.', label=model_name)\n",
    "    plt.xlabel('False Positive Rate')\n",
    "    plt.ylabel('True Positive Rate')\n",
    "    plt.legend()\n",
    "    plt.show()"
   ]
  },
  {
   "cell_type": "markdown",
   "id": "09e18eea-d68c-470b-a0a7-c1d9d98c5112",
   "metadata": {},
   "source": [
    "Function to plot test scores. Chossing F1 score of minority class, because our data is very imbalanced and we want to optimize the prediction of the minority class (1):\n",
    "*   **`b_gekauft_gesamt`** (whether a purchase was made):\n",
    "    *   No Purchase (0): 98.49%\n",
    "    *   Purchase (1): 1.51%"
   ]
  },
  {
   "cell_type": "code",
   "execution_count": 4,
   "id": "bd854a13-8802-48f0-b99c-7ea6abfec653",
   "metadata": {},
   "outputs": [],
   "source": [
    "def plot_scores(scores):\n",
    "    scores_df = pd.DataFrame({\n",
    "        'model': scores.keys(), 'F1 score of minority class': scores.values()\n",
    "    })\n",
    "    scores_df = scores_df.sort_values('F1 score of minority class', ascending=True).set_index(\"model\")\n",
    "    f, ax = plt.subplots(figsize=(10,10)) \n",
    "    scores_df.plot(kind=\"barh\", ax=ax);"
   ]
  },
  {
   "cell_type": "markdown",
   "id": "fbf23a5e-cff1-4ca0-af0f-9eae99e9678f",
   "metadata": {},
   "source": [
    "## 3. Model Development\n",
    "\n",
    "### Import the P\n",
    "rocessed data"
   ]
  },
  {
   "cell_type": "code",
   "execution_count": 5,
   "id": "a682cd21-a405-4d6b-b145-c32ac0803f96",
   "metadata": {},
   "outputs": [
    {
     "data": {
      "text/html": [
       "<div>\n",
       "<style scoped>\n",
       "    .dataframe tbody tr th:only-of-type {\n",
       "        vertical-align: middle;\n",
       "    }\n",
       "\n",
       "    .dataframe tbody tr th {\n",
       "        vertical-align: top;\n",
       "    }\n",
       "\n",
       "    .dataframe thead th {\n",
       "        text-align: right;\n",
       "    }\n",
       "</style>\n",
       "<table border=\"1\" class=\"dataframe\">\n",
       "  <thead>\n",
       "    <tr style=\"text-align: right;\">\n",
       "      <th></th>\n",
       "      <th>b_specialisation_i</th>\n",
       "      <th>b_specialisation_h</th>\n",
       "      <th>b_specialisation_g</th>\n",
       "      <th>b_specialisation_f</th>\n",
       "      <th>b_specialisation_e</th>\n",
       "      <th>b_specialisation_d</th>\n",
       "      <th>b_specialisation_c</th>\n",
       "      <th>b_specialisation_b</th>\n",
       "      <th>b_specialisation_a</th>\n",
       "      <th>b_specialisation_j</th>\n",
       "      <th>...</th>\n",
       "      <th>q_2017 HHs: 5th Quintile (68.759 and above)</th>\n",
       "      <th>q_5th Quint by Total HH</th>\n",
       "      <th>q_2017 Purchasing Power: Per Capita</th>\n",
       "      <th>q_2017 Total Population</th>\n",
       "      <th>q_2017 Pop 15+/Edu: University, Fachhochschule</th>\n",
       "      <th>q_Uni by Total Pop</th>\n",
       "      <th>q_2017 Personal Care: Per Capita</th>\n",
       "      <th>q_2017 Medical Products: Per Capita</th>\n",
       "      <th>q_2017 Personal Effects: Per Capita</th>\n",
       "      <th>b_gekauft_gesamt</th>\n",
       "    </tr>\n",
       "  </thead>\n",
       "  <tbody>\n",
       "    <tr>\n",
       "      <th>0</th>\n",
       "      <td>0</td>\n",
       "      <td>0</td>\n",
       "      <td>0</td>\n",
       "      <td>0</td>\n",
       "      <td>0</td>\n",
       "      <td>0</td>\n",
       "      <td>0</td>\n",
       "      <td>0</td>\n",
       "      <td>0</td>\n",
       "      <td>1</td>\n",
       "      <td>...</td>\n",
       "      <td>195228</td>\n",
       "      <td>0.186735</td>\n",
       "      <td>23730.35</td>\n",
       "      <td>2194057</td>\n",
       "      <td>324656</td>\n",
       "      <td>0.147971</td>\n",
       "      <td>593.19</td>\n",
       "      <td>326.28</td>\n",
       "      <td>235.75</td>\n",
       "      <td>1</td>\n",
       "    </tr>\n",
       "    <tr>\n",
       "      <th>1</th>\n",
       "      <td>0</td>\n",
       "      <td>0</td>\n",
       "      <td>0</td>\n",
       "      <td>1</td>\n",
       "      <td>1</td>\n",
       "      <td>1</td>\n",
       "      <td>0</td>\n",
       "      <td>0</td>\n",
       "      <td>0</td>\n",
       "      <td>0</td>\n",
       "      <td>...</td>\n",
       "      <td>168291</td>\n",
       "      <td>0.179848</td>\n",
       "      <td>23343.26</td>\n",
       "      <td>1966798</td>\n",
       "      <td>281130</td>\n",
       "      <td>0.142938</td>\n",
       "      <td>588.54</td>\n",
       "      <td>320.36</td>\n",
       "      <td>230.66</td>\n",
       "      <td>1</td>\n",
       "    </tr>\n",
       "    <tr>\n",
       "      <th>2</th>\n",
       "      <td>0</td>\n",
       "      <td>0</td>\n",
       "      <td>0</td>\n",
       "      <td>1</td>\n",
       "      <td>0</td>\n",
       "      <td>1</td>\n",
       "      <td>0</td>\n",
       "      <td>0</td>\n",
       "      <td>0</td>\n",
       "      <td>1</td>\n",
       "      <td>...</td>\n",
       "      <td>189787</td>\n",
       "      <td>0.184935</td>\n",
       "      <td>23674.18</td>\n",
       "      <td>2149624</td>\n",
       "      <td>320326</td>\n",
       "      <td>0.149015</td>\n",
       "      <td>592.88</td>\n",
       "      <td>325.57</td>\n",
       "      <td>234.82</td>\n",
       "      <td>1</td>\n",
       "    </tr>\n",
       "    <tr>\n",
       "      <th>3</th>\n",
       "      <td>0</td>\n",
       "      <td>1</td>\n",
       "      <td>1</td>\n",
       "      <td>0</td>\n",
       "      <td>0</td>\n",
       "      <td>0</td>\n",
       "      <td>0</td>\n",
       "      <td>0</td>\n",
       "      <td>0</td>\n",
       "      <td>0</td>\n",
       "      <td>...</td>\n",
       "      <td>189634</td>\n",
       "      <td>0.184523</td>\n",
       "      <td>23572.26</td>\n",
       "      <td>2161445</td>\n",
       "      <td>310981</td>\n",
       "      <td>0.143876</td>\n",
       "      <td>590.84</td>\n",
       "      <td>324.06</td>\n",
       "      <td>233.81</td>\n",
       "      <td>0</td>\n",
       "    </tr>\n",
       "    <tr>\n",
       "      <th>4</th>\n",
       "      <td>0</td>\n",
       "      <td>0</td>\n",
       "      <td>0</td>\n",
       "      <td>0</td>\n",
       "      <td>0</td>\n",
       "      <td>1</td>\n",
       "      <td>0</td>\n",
       "      <td>0</td>\n",
       "      <td>0</td>\n",
       "      <td>1</td>\n",
       "      <td>...</td>\n",
       "      <td>207590</td>\n",
       "      <td>0.189871</td>\n",
       "      <td>23821.63</td>\n",
       "      <td>2302959</td>\n",
       "      <td>334940</td>\n",
       "      <td>0.145439</td>\n",
       "      <td>593.56</td>\n",
       "      <td>327.75</td>\n",
       "      <td>237.41</td>\n",
       "      <td>1</td>\n",
       "    </tr>\n",
       "  </tbody>\n",
       "</table>\n",
       "<p>5 rows × 24 columns</p>\n",
       "</div>"
      ],
      "text/plain": [
       "   b_specialisation_i  b_specialisation_h  b_specialisation_g  \\\n",
       "0                   0                   0                   0   \n",
       "1                   0                   0                   0   \n",
       "2                   0                   0                   0   \n",
       "3                   0                   1                   1   \n",
       "4                   0                   0                   0   \n",
       "\n",
       "   b_specialisation_f  b_specialisation_e  b_specialisation_d  \\\n",
       "0                   0                   0                   0   \n",
       "1                   1                   1                   1   \n",
       "2                   1                   0                   1   \n",
       "3                   0                   0                   0   \n",
       "4                   0                   0                   1   \n",
       "\n",
       "   b_specialisation_c  b_specialisation_b  b_specialisation_a  \\\n",
       "0                   0                   0                   0   \n",
       "1                   0                   0                   0   \n",
       "2                   0                   0                   0   \n",
       "3                   0                   0                   0   \n",
       "4                   0                   0                   0   \n",
       "\n",
       "   b_specialisation_j  ...  q_2017 HHs: 5th Quintile (68.759 and above)  \\\n",
       "0                   1  ...                                       195228   \n",
       "1                   0  ...                                       168291   \n",
       "2                   1  ...                                       189787   \n",
       "3                   0  ...                                       189634   \n",
       "4                   1  ...                                       207590   \n",
       "\n",
       "   q_5th Quint by Total HH  q_2017 Purchasing Power: Per Capita  \\\n",
       "0                 0.186735                             23730.35   \n",
       "1                 0.179848                             23343.26   \n",
       "2                 0.184935                             23674.18   \n",
       "3                 0.184523                             23572.26   \n",
       "4                 0.189871                             23821.63   \n",
       "\n",
       "   q_2017 Total Population  q_2017 Pop 15+/Edu: University, Fachhochschule  \\\n",
       "0                  2194057                                          324656   \n",
       "1                  1966798                                          281130   \n",
       "2                  2149624                                          320326   \n",
       "3                  2161445                                          310981   \n",
       "4                  2302959                                          334940   \n",
       "\n",
       "   q_Uni by Total Pop  q_2017 Personal Care: Per Capita  \\\n",
       "0            0.147971                            593.19   \n",
       "1            0.142938                            588.54   \n",
       "2            0.149015                            592.88   \n",
       "3            0.143876                            590.84   \n",
       "4            0.145439                            593.56   \n",
       "\n",
       "   q_2017 Medical Products: Per Capita  q_2017 Personal Effects: Per Capita  \\\n",
       "0                               326.28                               235.75   \n",
       "1                               320.36                               230.66   \n",
       "2                               325.57                               234.82   \n",
       "3                               324.06                               233.81   \n",
       "4                               327.75                               237.41   \n",
       "\n",
       "   b_gekauft_gesamt  \n",
       "0                 1  \n",
       "1                 1  \n",
       "2                 1  \n",
       "3                 0  \n",
       "4                 1  \n",
       "\n",
       "[5 rows x 24 columns]"
      ]
     },
     "execution_count": 5,
     "metadata": {},
     "output_type": "execute_result"
    }
   ],
   "source": [
    "data_folder = 'data'\n",
    "filename = 'CustomerData_LeadGenerator.csv'\n",
    "\n",
    "clean_filename = filename.replace('.csv', '_clean.csv')\n",
    "customer_data_path_clean = os.path.join(data_folder, clean_filename)\n",
    "\n",
    "clean_reduced_filename = filename.replace('.csv', '_clean_reduced.csv')\n",
    "customer_data_path_clean_reduced = os.path.join(data_folder, clean_reduced_filename)\n",
    "\n",
    "df = pd.read_csv(customer_data_path_clean, index_col=0)\n",
    "df.head()"
   ]
  },
  {
   "cell_type": "code",
   "execution_count": 6,
   "id": "e7a449c0-8806-4751-8e6c-440c9af85e48",
   "metadata": {},
   "outputs": [
    {
     "data": {
      "text/html": [
       "<div>\n",
       "<style scoped>\n",
       "    .dataframe tbody tr th:only-of-type {\n",
       "        vertical-align: middle;\n",
       "    }\n",
       "\n",
       "    .dataframe tbody tr th {\n",
       "        vertical-align: top;\n",
       "    }\n",
       "\n",
       "    .dataframe thead th {\n",
       "        text-align: right;\n",
       "    }\n",
       "</style>\n",
       "<table border=\"1\" class=\"dataframe\">\n",
       "  <thead>\n",
       "    <tr style=\"text-align: right;\">\n",
       "      <th></th>\n",
       "      <th>b_specialisation_i</th>\n",
       "      <th>b_specialisation_h</th>\n",
       "      <th>b_specialisation_g</th>\n",
       "      <th>b_specialisation_f</th>\n",
       "      <th>b_specialisation_e</th>\n",
       "      <th>b_specialisation_d</th>\n",
       "      <th>b_specialisation_c</th>\n",
       "      <th>b_specialisation_b</th>\n",
       "      <th>b_specialisation_a</th>\n",
       "      <th>b_specialisation_j</th>\n",
       "      <th>q_OpeningDays</th>\n",
       "      <th>q_OpeningHours</th>\n",
       "      <th>q_2017 Average Household Size</th>\n",
       "      <th>q_5th Quint by Total HH</th>\n",
       "      <th>q_2017 Purchasing Power: Per Capita</th>\n",
       "      <th>q_2017 Total Population</th>\n",
       "      <th>q_Uni by Total Pop</th>\n",
       "      <th>q_2017 Medical Products: Per Capita</th>\n",
       "      <th>b_gekauft_gesamt</th>\n",
       "    </tr>\n",
       "  </thead>\n",
       "  <tbody>\n",
       "    <tr>\n",
       "      <th>0</th>\n",
       "      <td>0</td>\n",
       "      <td>0</td>\n",
       "      <td>0</td>\n",
       "      <td>0</td>\n",
       "      <td>0</td>\n",
       "      <td>0</td>\n",
       "      <td>0</td>\n",
       "      <td>0</td>\n",
       "      <td>0</td>\n",
       "      <td>1</td>\n",
       "      <td>4</td>\n",
       "      <td>36.0</td>\n",
       "      <td>2.1</td>\n",
       "      <td>0.186735</td>\n",
       "      <td>23730.35</td>\n",
       "      <td>2194057</td>\n",
       "      <td>0.147971</td>\n",
       "      <td>326.28</td>\n",
       "      <td>1</td>\n",
       "    </tr>\n",
       "    <tr>\n",
       "      <th>1</th>\n",
       "      <td>0</td>\n",
       "      <td>0</td>\n",
       "      <td>0</td>\n",
       "      <td>1</td>\n",
       "      <td>1</td>\n",
       "      <td>1</td>\n",
       "      <td>0</td>\n",
       "      <td>0</td>\n",
       "      <td>0</td>\n",
       "      <td>0</td>\n",
       "      <td>4</td>\n",
       "      <td>20.0</td>\n",
       "      <td>2.1</td>\n",
       "      <td>0.179848</td>\n",
       "      <td>23343.26</td>\n",
       "      <td>1966798</td>\n",
       "      <td>0.142938</td>\n",
       "      <td>320.36</td>\n",
       "      <td>1</td>\n",
       "    </tr>\n",
       "    <tr>\n",
       "      <th>2</th>\n",
       "      <td>0</td>\n",
       "      <td>0</td>\n",
       "      <td>0</td>\n",
       "      <td>1</td>\n",
       "      <td>0</td>\n",
       "      <td>1</td>\n",
       "      <td>0</td>\n",
       "      <td>0</td>\n",
       "      <td>0</td>\n",
       "      <td>1</td>\n",
       "      <td>0</td>\n",
       "      <td>0.0</td>\n",
       "      <td>2.1</td>\n",
       "      <td>0.184935</td>\n",
       "      <td>23674.18</td>\n",
       "      <td>2149624</td>\n",
       "      <td>0.149015</td>\n",
       "      <td>325.57</td>\n",
       "      <td>1</td>\n",
       "    </tr>\n",
       "    <tr>\n",
       "      <th>3</th>\n",
       "      <td>0</td>\n",
       "      <td>1</td>\n",
       "      <td>1</td>\n",
       "      <td>0</td>\n",
       "      <td>0</td>\n",
       "      <td>0</td>\n",
       "      <td>0</td>\n",
       "      <td>0</td>\n",
       "      <td>0</td>\n",
       "      <td>0</td>\n",
       "      <td>4</td>\n",
       "      <td>20.0</td>\n",
       "      <td>2.1</td>\n",
       "      <td>0.184523</td>\n",
       "      <td>23572.26</td>\n",
       "      <td>2161445</td>\n",
       "      <td>0.143876</td>\n",
       "      <td>324.06</td>\n",
       "      <td>0</td>\n",
       "    </tr>\n",
       "    <tr>\n",
       "      <th>4</th>\n",
       "      <td>0</td>\n",
       "      <td>0</td>\n",
       "      <td>0</td>\n",
       "      <td>0</td>\n",
       "      <td>0</td>\n",
       "      <td>1</td>\n",
       "      <td>0</td>\n",
       "      <td>0</td>\n",
       "      <td>0</td>\n",
       "      <td>1</td>\n",
       "      <td>5</td>\n",
       "      <td>33.0</td>\n",
       "      <td>2.1</td>\n",
       "      <td>0.189871</td>\n",
       "      <td>23821.63</td>\n",
       "      <td>2302959</td>\n",
       "      <td>0.145439</td>\n",
       "      <td>327.75</td>\n",
       "      <td>1</td>\n",
       "    </tr>\n",
       "    <tr>\n",
       "      <th>...</th>\n",
       "      <td>...</td>\n",
       "      <td>...</td>\n",
       "      <td>...</td>\n",
       "      <td>...</td>\n",
       "      <td>...</td>\n",
       "      <td>...</td>\n",
       "      <td>...</td>\n",
       "      <td>...</td>\n",
       "      <td>...</td>\n",
       "      <td>...</td>\n",
       "      <td>...</td>\n",
       "      <td>...</td>\n",
       "      <td>...</td>\n",
       "      <td>...</td>\n",
       "      <td>...</td>\n",
       "      <td>...</td>\n",
       "      <td>...</td>\n",
       "      <td>...</td>\n",
       "      <td>...</td>\n",
       "    </tr>\n",
       "    <tr>\n",
       "      <th>3768</th>\n",
       "      <td>0</td>\n",
       "      <td>0</td>\n",
       "      <td>0</td>\n",
       "      <td>0</td>\n",
       "      <td>0</td>\n",
       "      <td>0</td>\n",
       "      <td>0</td>\n",
       "      <td>0</td>\n",
       "      <td>0</td>\n",
       "      <td>0</td>\n",
       "      <td>0</td>\n",
       "      <td>0.0</td>\n",
       "      <td>2.2</td>\n",
       "      <td>0.203542</td>\n",
       "      <td>23869.52</td>\n",
       "      <td>327760</td>\n",
       "      <td>0.125418</td>\n",
       "      <td>325.57</td>\n",
       "      <td>0</td>\n",
       "    </tr>\n",
       "    <tr>\n",
       "      <th>3769</th>\n",
       "      <td>0</td>\n",
       "      <td>0</td>\n",
       "      <td>0</td>\n",
       "      <td>0</td>\n",
       "      <td>0</td>\n",
       "      <td>0</td>\n",
       "      <td>0</td>\n",
       "      <td>0</td>\n",
       "      <td>0</td>\n",
       "      <td>1</td>\n",
       "      <td>0</td>\n",
       "      <td>0.0</td>\n",
       "      <td>2.1</td>\n",
       "      <td>0.184899</td>\n",
       "      <td>23677.97</td>\n",
       "      <td>2150320</td>\n",
       "      <td>0.149148</td>\n",
       "      <td>326.32</td>\n",
       "      <td>0</td>\n",
       "    </tr>\n",
       "    <tr>\n",
       "      <th>3770</th>\n",
       "      <td>0</td>\n",
       "      <td>0</td>\n",
       "      <td>0</td>\n",
       "      <td>0</td>\n",
       "      <td>0</td>\n",
       "      <td>0</td>\n",
       "      <td>0</td>\n",
       "      <td>0</td>\n",
       "      <td>0</td>\n",
       "      <td>0</td>\n",
       "      <td>0</td>\n",
       "      <td>0.0</td>\n",
       "      <td>2.1</td>\n",
       "      <td>0.186292</td>\n",
       "      <td>23721.89</td>\n",
       "      <td>2167556</td>\n",
       "      <td>0.149137</td>\n",
       "      <td>326.22</td>\n",
       "      <td>0</td>\n",
       "    </tr>\n",
       "    <tr>\n",
       "      <th>3771</th>\n",
       "      <td>0</td>\n",
       "      <td>0</td>\n",
       "      <td>0</td>\n",
       "      <td>0</td>\n",
       "      <td>0</td>\n",
       "      <td>0</td>\n",
       "      <td>0</td>\n",
       "      <td>0</td>\n",
       "      <td>0</td>\n",
       "      <td>1</td>\n",
       "      <td>0</td>\n",
       "      <td>0.0</td>\n",
       "      <td>2.2</td>\n",
       "      <td>0.222034</td>\n",
       "      <td>24711.33</td>\n",
       "      <td>328260</td>\n",
       "      <td>0.116490</td>\n",
       "      <td>342.68</td>\n",
       "      <td>0</td>\n",
       "    </tr>\n",
       "    <tr>\n",
       "      <th>3772</th>\n",
       "      <td>0</td>\n",
       "      <td>1</td>\n",
       "      <td>1</td>\n",
       "      <td>0</td>\n",
       "      <td>1</td>\n",
       "      <td>0</td>\n",
       "      <td>0</td>\n",
       "      <td>0</td>\n",
       "      <td>1</td>\n",
       "      <td>0</td>\n",
       "      <td>4</td>\n",
       "      <td>27.0</td>\n",
       "      <td>2.1</td>\n",
       "      <td>0.163071</td>\n",
       "      <td>22698.68</td>\n",
       "      <td>294286</td>\n",
       "      <td>0.099230</td>\n",
       "      <td>343.46</td>\n",
       "      <td>0</td>\n",
       "    </tr>\n",
       "  </tbody>\n",
       "</table>\n",
       "<p>3773 rows × 19 columns</p>\n",
       "</div>"
      ],
      "text/plain": [
       "      b_specialisation_i  b_specialisation_h  b_specialisation_g  \\\n",
       "0                      0                   0                   0   \n",
       "1                      0                   0                   0   \n",
       "2                      0                   0                   0   \n",
       "3                      0                   1                   1   \n",
       "4                      0                   0                   0   \n",
       "...                  ...                 ...                 ...   \n",
       "3768                   0                   0                   0   \n",
       "3769                   0                   0                   0   \n",
       "3770                   0                   0                   0   \n",
       "3771                   0                   0                   0   \n",
       "3772                   0                   1                   1   \n",
       "\n",
       "      b_specialisation_f  b_specialisation_e  b_specialisation_d  \\\n",
       "0                      0                   0                   0   \n",
       "1                      1                   1                   1   \n",
       "2                      1                   0                   1   \n",
       "3                      0                   0                   0   \n",
       "4                      0                   0                   1   \n",
       "...                  ...                 ...                 ...   \n",
       "3768                   0                   0                   0   \n",
       "3769                   0                   0                   0   \n",
       "3770                   0                   0                   0   \n",
       "3771                   0                   0                   0   \n",
       "3772                   0                   1                   0   \n",
       "\n",
       "      b_specialisation_c  b_specialisation_b  b_specialisation_a  \\\n",
       "0                      0                   0                   0   \n",
       "1                      0                   0                   0   \n",
       "2                      0                   0                   0   \n",
       "3                      0                   0                   0   \n",
       "4                      0                   0                   0   \n",
       "...                  ...                 ...                 ...   \n",
       "3768                   0                   0                   0   \n",
       "3769                   0                   0                   0   \n",
       "3770                   0                   0                   0   \n",
       "3771                   0                   0                   0   \n",
       "3772                   0                   0                   1   \n",
       "\n",
       "      b_specialisation_j  q_OpeningDays  q_OpeningHours  \\\n",
       "0                      1              4            36.0   \n",
       "1                      0              4            20.0   \n",
       "2                      1              0             0.0   \n",
       "3                      0              4            20.0   \n",
       "4                      1              5            33.0   \n",
       "...                  ...            ...             ...   \n",
       "3768                   0              0             0.0   \n",
       "3769                   1              0             0.0   \n",
       "3770                   0              0             0.0   \n",
       "3771                   1              0             0.0   \n",
       "3772                   0              4            27.0   \n",
       "\n",
       "      q_2017 Average Household Size  q_5th Quint by Total HH  \\\n",
       "0                               2.1                 0.186735   \n",
       "1                               2.1                 0.179848   \n",
       "2                               2.1                 0.184935   \n",
       "3                               2.1                 0.184523   \n",
       "4                               2.1                 0.189871   \n",
       "...                             ...                      ...   \n",
       "3768                            2.2                 0.203542   \n",
       "3769                            2.1                 0.184899   \n",
       "3770                            2.1                 0.186292   \n",
       "3771                            2.2                 0.222034   \n",
       "3772                            2.1                 0.163071   \n",
       "\n",
       "      q_2017 Purchasing Power: Per Capita  q_2017 Total Population  \\\n",
       "0                                23730.35                  2194057   \n",
       "1                                23343.26                  1966798   \n",
       "2                                23674.18                  2149624   \n",
       "3                                23572.26                  2161445   \n",
       "4                                23821.63                  2302959   \n",
       "...                                   ...                      ...   \n",
       "3768                             23869.52                   327760   \n",
       "3769                             23677.97                  2150320   \n",
       "3770                             23721.89                  2167556   \n",
       "3771                             24711.33                   328260   \n",
       "3772                             22698.68                   294286   \n",
       "\n",
       "      q_Uni by Total Pop  q_2017 Medical Products: Per Capita  \\\n",
       "0               0.147971                               326.28   \n",
       "1               0.142938                               320.36   \n",
       "2               0.149015                               325.57   \n",
       "3               0.143876                               324.06   \n",
       "4               0.145439                               327.75   \n",
       "...                  ...                                  ...   \n",
       "3768            0.125418                               325.57   \n",
       "3769            0.149148                               326.32   \n",
       "3770            0.149137                               326.22   \n",
       "3771            0.116490                               342.68   \n",
       "3772            0.099230                               343.46   \n",
       "\n",
       "      b_gekauft_gesamt  \n",
       "0                    1  \n",
       "1                    1  \n",
       "2                    1  \n",
       "3                    0  \n",
       "4                    1  \n",
       "...                ...  \n",
       "3768                 0  \n",
       "3769                 0  \n",
       "3770                 0  \n",
       "3771                 0  \n",
       "3772                 0  \n",
       "\n",
       "[3773 rows x 19 columns]"
      ]
     },
     "execution_count": 6,
     "metadata": {},
     "output_type": "execute_result"
    }
   ],
   "source": [
    "df_reduced = pd.read_csv(customer_data_path_clean_reduced, index_col=0)\n",
    "df_reduced"
   ]
  },
  {
   "cell_type": "markdown",
   "id": "aab094ee-cf16-4eba-b485-8ec900c63dc6",
   "metadata": {},
   "source": [
    "### Logistic Regression Model using Reduced Data\n",
    "#### Train - test split\n",
    "Using 80% of the data for training the model and the remaining 20% for testing."
   ]
  },
  {
   "cell_type": "code",
   "execution_count": 7,
   "id": "37ee90e5-63e1-4a2c-93f3-7ffdf7ed7170",
   "metadata": {},
   "outputs": [
    {
     "data": {
      "text/plain": [
       "((3018, 19), (755, 19))"
      ]
     },
     "execution_count": 7,
     "metadata": {},
     "output_type": "execute_result"
    }
   ],
   "source": [
    "target = \"b_gekauft_gesamt\"\n",
    "df_reduced_train, df_reduced_test = train_test_split(\n",
    "    df_reduced, test_size=0.2, random_state=5, stratify=df_reduced[target])\n",
    "# without stratify=y the class proportions might shift a bit - ensures equal class proportions\n",
    "df_reduced_train.shape, df_reduced_test.shape"
   ]
  },
  {
   "cell_type": "code",
   "execution_count": 8,
   "id": "63dfa49c-dc3f-4d1b-871b-2df90fe92e9b",
   "metadata": {},
   "outputs": [
    {
     "data": {
      "text/plain": [
       "((3018, 18), (755, 18), (3018,), (755,))"
      ]
     },
     "execution_count": 8,
     "metadata": {},
     "output_type": "execute_result"
    }
   ],
   "source": [
    "X_reduced_train = df_reduced_train.drop(columns=[target])\n",
    "y_train = df_reduced_train[target]\n",
    "X_reduced_test = df_reduced_test.drop(columns=[target])\n",
    "y_test = df_reduced_test[target]\n",
    "X_reduced_train.shape, X_reduced_test.shape, y_train.shape, y_test.shape"
   ]
  },
  {
   "cell_type": "code",
   "execution_count": 9,
   "id": "0cc8dbc3-dc66-4c3c-aa83-2b319a2a8340",
   "metadata": {},
   "outputs": [
    {
     "data": {
      "text/plain": [
       "0    2972\n",
       "1      46\n",
       "Name: b_gekauft_gesamt, dtype: int64"
      ]
     },
     "execution_count": 9,
     "metadata": {},
     "output_type": "execute_result"
    }
   ],
   "source": [
    "# Check how balanced our data is\n",
    "y_train.value_counts()"
   ]
  },
  {
   "cell_type": "code",
   "execution_count": 10,
   "id": "7e0fd46d-a5d3-46e0-8518-806e76b0b660",
   "metadata": {},
   "outputs": [
    {
     "data": {
      "text/plain": [
       "0    744\n",
       "1     11\n",
       "Name: b_gekauft_gesamt, dtype: int64"
      ]
     },
     "execution_count": 10,
     "metadata": {},
     "output_type": "execute_result"
    }
   ],
   "source": [
    "y_test.value_counts()"
   ]
  },
  {
   "cell_type": "markdown",
   "id": "d8b2f71d-0365-46b6-a486-430b3cef9f4a",
   "metadata": {},
   "source": [
    "Since there are only 46 positive samples in the training set, undersampling the majority class is not an option. Let's try:\n",
    "1. Rebalancing the data using class weighting\n",
    "2. Oversampling the minority class using SMOTE - Synthetic Over-Sampling\n",
    "\n",
    "#### Logistic Regression model using class weights\n",
    "* Using class_weight = ‘balanced’, as the dataset is unbalanced\n",
    "* Using solver = 'lbfgs' because it works for no penalty Logistic Regression"
   ]
  },
  {
   "cell_type": "code",
   "execution_count": 11,
   "id": "476fa2ed-e2a5-411e-8573-b52b13ef96d4",
   "metadata": {},
   "outputs": [
    {
     "data": {
      "text/html": [
       "<style>#sk-container-id-1 {color: black;background-color: white;}#sk-container-id-1 pre{padding: 0;}#sk-container-id-1 div.sk-toggleable {background-color: white;}#sk-container-id-1 label.sk-toggleable__label {cursor: pointer;display: block;width: 100%;margin-bottom: 0;padding: 0.3em;box-sizing: border-box;text-align: center;}#sk-container-id-1 label.sk-toggleable__label-arrow:before {content: \"▸\";float: left;margin-right: 0.25em;color: #696969;}#sk-container-id-1 label.sk-toggleable__label-arrow:hover:before {color: black;}#sk-container-id-1 div.sk-estimator:hover label.sk-toggleable__label-arrow:before {color: black;}#sk-container-id-1 div.sk-toggleable__content {max-height: 0;max-width: 0;overflow: hidden;text-align: left;background-color: #f0f8ff;}#sk-container-id-1 div.sk-toggleable__content pre {margin: 0.2em;color: black;border-radius: 0.25em;background-color: #f0f8ff;}#sk-container-id-1 input.sk-toggleable__control:checked~div.sk-toggleable__content {max-height: 200px;max-width: 100%;overflow: auto;}#sk-container-id-1 input.sk-toggleable__control:checked~label.sk-toggleable__label-arrow:before {content: \"▾\";}#sk-container-id-1 div.sk-estimator input.sk-toggleable__control:checked~label.sk-toggleable__label {background-color: #d4ebff;}#sk-container-id-1 div.sk-label input.sk-toggleable__control:checked~label.sk-toggleable__label {background-color: #d4ebff;}#sk-container-id-1 input.sk-hidden--visually {border: 0;clip: rect(1px 1px 1px 1px);clip: rect(1px, 1px, 1px, 1px);height: 1px;margin: -1px;overflow: hidden;padding: 0;position: absolute;width: 1px;}#sk-container-id-1 div.sk-estimator {font-family: monospace;background-color: #f0f8ff;border: 1px dotted black;border-radius: 0.25em;box-sizing: border-box;margin-bottom: 0.5em;}#sk-container-id-1 div.sk-estimator:hover {background-color: #d4ebff;}#sk-container-id-1 div.sk-parallel-item::after {content: \"\";width: 100%;border-bottom: 1px solid gray;flex-grow: 1;}#sk-container-id-1 div.sk-label:hover label.sk-toggleable__label {background-color: #d4ebff;}#sk-container-id-1 div.sk-serial::before {content: \"\";position: absolute;border-left: 1px solid gray;box-sizing: border-box;top: 0;bottom: 0;left: 50%;z-index: 0;}#sk-container-id-1 div.sk-serial {display: flex;flex-direction: column;align-items: center;background-color: white;padding-right: 0.2em;padding-left: 0.2em;position: relative;}#sk-container-id-1 div.sk-item {position: relative;z-index: 1;}#sk-container-id-1 div.sk-parallel {display: flex;align-items: stretch;justify-content: center;background-color: white;position: relative;}#sk-container-id-1 div.sk-item::before, #sk-container-id-1 div.sk-parallel-item::before {content: \"\";position: absolute;border-left: 1px solid gray;box-sizing: border-box;top: 0;bottom: 0;left: 50%;z-index: -1;}#sk-container-id-1 div.sk-parallel-item {display: flex;flex-direction: column;z-index: 1;position: relative;background-color: white;}#sk-container-id-1 div.sk-parallel-item:first-child::after {align-self: flex-end;width: 50%;}#sk-container-id-1 div.sk-parallel-item:last-child::after {align-self: flex-start;width: 50%;}#sk-container-id-1 div.sk-parallel-item:only-child::after {width: 0;}#sk-container-id-1 div.sk-dashed-wrapped {border: 1px dashed gray;margin: 0 0.4em 0.5em 0.4em;box-sizing: border-box;padding-bottom: 0.4em;background-color: white;}#sk-container-id-1 div.sk-label label {font-family: monospace;font-weight: bold;display: inline-block;line-height: 1.2em;}#sk-container-id-1 div.sk-label-container {text-align: center;}#sk-container-id-1 div.sk-container {/* jupyter's `normalize.less` sets `[hidden] { display: none; }` but bootstrap.min.css set `[hidden] { display: none !important; }` so we also need the `!important` here to be able to override the default hidden behavior on the sphinx rendered scikit-learn.org. See: https://github.com/scikit-learn/scikit-learn/issues/21755 */display: inline-block !important;position: relative;}#sk-container-id-1 div.sk-text-repr-fallback {display: none;}</style><div id=\"sk-container-id-1\" class=\"sk-top-container\"><div class=\"sk-text-repr-fallback\"><pre>LogisticRegression(class_weight=&#x27;balanced&#x27;, max_iter=1000, penalty=None,\n",
       "                   random_state=42)</pre><b>In a Jupyter environment, please rerun this cell to show the HTML representation or trust the notebook. <br />On GitHub, the HTML representation is unable to render, please try loading this page with nbviewer.org.</b></div><div class=\"sk-container\" hidden><div class=\"sk-item\"><div class=\"sk-estimator sk-toggleable\"><input class=\"sk-toggleable__control sk-hidden--visually\" id=\"sk-estimator-id-1\" type=\"checkbox\" checked><label for=\"sk-estimator-id-1\" class=\"sk-toggleable__label sk-toggleable__label-arrow\">LogisticRegression</label><div class=\"sk-toggleable__content\"><pre>LogisticRegression(class_weight=&#x27;balanced&#x27;, max_iter=1000, penalty=None,\n",
       "                   random_state=42)</pre></div></div></div></div></div>"
      ],
      "text/plain": [
       "LogisticRegression(class_weight='balanced', max_iter=1000, penalty=None,\n",
       "                   random_state=42)"
      ]
     },
     "execution_count": 11,
     "metadata": {},
     "output_type": "execute_result"
    }
   ],
   "source": [
    "model_logreg = LogisticRegression(\n",
    "    class_weight=\"balanced\", solver=\"lbfgs\", penalty=None, random_state=42, max_iter=1000\n",
    ")\n",
    "model_logreg"
   ]
  },
  {
   "cell_type": "code",
   "execution_count": 12,
   "id": "26eed0e9-6f6f-4212-80ca-3da7038ab459",
   "metadata": {},
   "outputs": [
    {
     "data": {
      "text/plain": [
       "{'C': 1.0,\n",
       " 'class_weight': 'balanced',\n",
       " 'dual': False,\n",
       " 'fit_intercept': True,\n",
       " 'intercept_scaling': 1,\n",
       " 'l1_ratio': None,\n",
       " 'max_iter': 1000,\n",
       " 'multi_class': 'auto',\n",
       " 'n_jobs': None,\n",
       " 'penalty': None,\n",
       " 'random_state': 42,\n",
       " 'solver': 'lbfgs',\n",
       " 'tol': 0.0001,\n",
       " 'verbose': 0,\n",
       " 'warm_start': False}"
      ]
     },
     "execution_count": 12,
     "metadata": {},
     "output_type": "execute_result"
    }
   ],
   "source": [
    "model_logreg.get_params()"
   ]
  },
  {
   "cell_type": "markdown",
   "id": "3759b90a-d298-4620-901e-3bae6693a19f",
   "metadata": {},
   "source": [
    "* Define Numeric Transformer and Logistic Regression Pipeline\n",
    "* Since we have only numeric features, we simply use `KNNImputer` for missing values imputation and `StandardScaler` for scaling\n",
    "* If we would have categorical features, we would need to\n",
    "  1) separate features by type,\n",
    "  2) in one `Pipeline`, fill missing values using `SimpleImputer` and transform categorical features into integers using `OneHotEncoder`,\n",
    "  3) in other `Pipeline`, transform numerical features using `KNNImputer` and `StandardScaler`,\n",
    "  4) combine the two pipelines into one using `ColumnTransformer` and, finally,\n",
    "  5) add it as the first step in the final `Pipeline` for modelling."
   ]
  },
  {
   "cell_type": "code",
   "execution_count": 13,
   "id": "4cec560e-0d52-4451-aee1-d16549dea6df",
   "metadata": {},
   "outputs": [
    {
     "data": {
      "text/html": [
       "<style>#sk-container-id-2 {color: black;background-color: white;}#sk-container-id-2 pre{padding: 0;}#sk-container-id-2 div.sk-toggleable {background-color: white;}#sk-container-id-2 label.sk-toggleable__label {cursor: pointer;display: block;width: 100%;margin-bottom: 0;padding: 0.3em;box-sizing: border-box;text-align: center;}#sk-container-id-2 label.sk-toggleable__label-arrow:before {content: \"▸\";float: left;margin-right: 0.25em;color: #696969;}#sk-container-id-2 label.sk-toggleable__label-arrow:hover:before {color: black;}#sk-container-id-2 div.sk-estimator:hover label.sk-toggleable__label-arrow:before {color: black;}#sk-container-id-2 div.sk-toggleable__content {max-height: 0;max-width: 0;overflow: hidden;text-align: left;background-color: #f0f8ff;}#sk-container-id-2 div.sk-toggleable__content pre {margin: 0.2em;color: black;border-radius: 0.25em;background-color: #f0f8ff;}#sk-container-id-2 input.sk-toggleable__control:checked~div.sk-toggleable__content {max-height: 200px;max-width: 100%;overflow: auto;}#sk-container-id-2 input.sk-toggleable__control:checked~label.sk-toggleable__label-arrow:before {content: \"▾\";}#sk-container-id-2 div.sk-estimator input.sk-toggleable__control:checked~label.sk-toggleable__label {background-color: #d4ebff;}#sk-container-id-2 div.sk-label input.sk-toggleable__control:checked~label.sk-toggleable__label {background-color: #d4ebff;}#sk-container-id-2 input.sk-hidden--visually {border: 0;clip: rect(1px 1px 1px 1px);clip: rect(1px, 1px, 1px, 1px);height: 1px;margin: -1px;overflow: hidden;padding: 0;position: absolute;width: 1px;}#sk-container-id-2 div.sk-estimator {font-family: monospace;background-color: #f0f8ff;border: 1px dotted black;border-radius: 0.25em;box-sizing: border-box;margin-bottom: 0.5em;}#sk-container-id-2 div.sk-estimator:hover {background-color: #d4ebff;}#sk-container-id-2 div.sk-parallel-item::after {content: \"\";width: 100%;border-bottom: 1px solid gray;flex-grow: 1;}#sk-container-id-2 div.sk-label:hover label.sk-toggleable__label {background-color: #d4ebff;}#sk-container-id-2 div.sk-serial::before {content: \"\";position: absolute;border-left: 1px solid gray;box-sizing: border-box;top: 0;bottom: 0;left: 50%;z-index: 0;}#sk-container-id-2 div.sk-serial {display: flex;flex-direction: column;align-items: center;background-color: white;padding-right: 0.2em;padding-left: 0.2em;position: relative;}#sk-container-id-2 div.sk-item {position: relative;z-index: 1;}#sk-container-id-2 div.sk-parallel {display: flex;align-items: stretch;justify-content: center;background-color: white;position: relative;}#sk-container-id-2 div.sk-item::before, #sk-container-id-2 div.sk-parallel-item::before {content: \"\";position: absolute;border-left: 1px solid gray;box-sizing: border-box;top: 0;bottom: 0;left: 50%;z-index: -1;}#sk-container-id-2 div.sk-parallel-item {display: flex;flex-direction: column;z-index: 1;position: relative;background-color: white;}#sk-container-id-2 div.sk-parallel-item:first-child::after {align-self: flex-end;width: 50%;}#sk-container-id-2 div.sk-parallel-item:last-child::after {align-self: flex-start;width: 50%;}#sk-container-id-2 div.sk-parallel-item:only-child::after {width: 0;}#sk-container-id-2 div.sk-dashed-wrapped {border: 1px dashed gray;margin: 0 0.4em 0.5em 0.4em;box-sizing: border-box;padding-bottom: 0.4em;background-color: white;}#sk-container-id-2 div.sk-label label {font-family: monospace;font-weight: bold;display: inline-block;line-height: 1.2em;}#sk-container-id-2 div.sk-label-container {text-align: center;}#sk-container-id-2 div.sk-container {/* jupyter's `normalize.less` sets `[hidden] { display: none; }` but bootstrap.min.css set `[hidden] { display: none !important; }` so we also need the `!important` here to be able to override the default hidden behavior on the sphinx rendered scikit-learn.org. See: https://github.com/scikit-learn/scikit-learn/issues/21755 */display: inline-block !important;position: relative;}#sk-container-id-2 div.sk-text-repr-fallback {display: none;}</style><div id=\"sk-container-id-2\" class=\"sk-top-container\"><div class=\"sk-text-repr-fallback\"><pre>Pipeline(steps=[(&#x27;knn_imputer&#x27;, KNNImputer()), (&#x27;scaler&#x27;, StandardScaler()),\n",
       "                (&#x27;classifier&#x27;,\n",
       "                 LogisticRegression(class_weight=&#x27;balanced&#x27;, max_iter=1000,\n",
       "                                    penalty=None, random_state=42))])</pre><b>In a Jupyter environment, please rerun this cell to show the HTML representation or trust the notebook. <br />On GitHub, the HTML representation is unable to render, please try loading this page with nbviewer.org.</b></div><div class=\"sk-container\" hidden><div class=\"sk-item sk-dashed-wrapped\"><div class=\"sk-label-container\"><div class=\"sk-label sk-toggleable\"><input class=\"sk-toggleable__control sk-hidden--visually\" id=\"sk-estimator-id-2\" type=\"checkbox\" ><label for=\"sk-estimator-id-2\" class=\"sk-toggleable__label sk-toggleable__label-arrow\">Pipeline</label><div class=\"sk-toggleable__content\"><pre>Pipeline(steps=[(&#x27;knn_imputer&#x27;, KNNImputer()), (&#x27;scaler&#x27;, StandardScaler()),\n",
       "                (&#x27;classifier&#x27;,\n",
       "                 LogisticRegression(class_weight=&#x27;balanced&#x27;, max_iter=1000,\n",
       "                                    penalty=None, random_state=42))])</pre></div></div></div><div class=\"sk-serial\"><div class=\"sk-item\"><div class=\"sk-estimator sk-toggleable\"><input class=\"sk-toggleable__control sk-hidden--visually\" id=\"sk-estimator-id-3\" type=\"checkbox\" ><label for=\"sk-estimator-id-3\" class=\"sk-toggleable__label sk-toggleable__label-arrow\">KNNImputer</label><div class=\"sk-toggleable__content\"><pre>KNNImputer()</pre></div></div></div><div class=\"sk-item\"><div class=\"sk-estimator sk-toggleable\"><input class=\"sk-toggleable__control sk-hidden--visually\" id=\"sk-estimator-id-4\" type=\"checkbox\" ><label for=\"sk-estimator-id-4\" class=\"sk-toggleable__label sk-toggleable__label-arrow\">StandardScaler</label><div class=\"sk-toggleable__content\"><pre>StandardScaler()</pre></div></div></div><div class=\"sk-item\"><div class=\"sk-estimator sk-toggleable\"><input class=\"sk-toggleable__control sk-hidden--visually\" id=\"sk-estimator-id-5\" type=\"checkbox\" ><label for=\"sk-estimator-id-5\" class=\"sk-toggleable__label sk-toggleable__label-arrow\">LogisticRegression</label><div class=\"sk-toggleable__content\"><pre>LogisticRegression(class_weight=&#x27;balanced&#x27;, max_iter=1000, penalty=None,\n",
       "                   random_state=42)</pre></div></div></div></div></div></div></div>"
      ],
      "text/plain": [
       "Pipeline(steps=[('knn_imputer', KNNImputer()), ('scaler', StandardScaler()),\n",
       "                ('classifier',\n",
       "                 LogisticRegression(class_weight='balanced', max_iter=1000,\n",
       "                                    penalty=None, random_state=42))])"
      ]
     },
     "execution_count": 13,
     "metadata": {},
     "output_type": "execute_result"
    }
   ],
   "source": [
    "pipeline_logreg = Pipeline(steps=[\n",
    "    (\"knn_imputer\", KNNImputer(n_neighbors=5).set_output(transform=\"pandas\")),\n",
    "    (\"scaler\", StandardScaler().set_output(transform=\"pandas\")),\n",
    "    (\"classifier\", model_logreg)\n",
    "])\n",
    "\n",
    "pipeline_logreg"
   ]
  },
  {
   "cell_type": "code",
   "execution_count": 14,
   "id": "abd1c1d9-fee5-4487-a18e-09d8a11354c8",
   "metadata": {},
   "outputs": [],
   "source": [
    "scores = {} # dictionary to store F1 scores of all compared models\n",
    "model_name_reduced = \"Logistic Regression with Class Weights (X_reduced)\"\n",
    "\n",
    "pipeline_logreg.fit(X_reduced_train, y_train)\n",
    "pred_logreg_reduced = pipeline_logreg.predict(X_reduced_test)\n",
    "scores[model_name_reduced] = f1_score(y_test, pred_logreg_reduced) # it is F1 score of the minority class"
   ]
  },
  {
   "cell_type": "code",
   "execution_count": 15,
   "id": "620f0d59-41b5-4323-b321-07fb0664566a",
   "metadata": {},
   "outputs": [
    {
     "name": "stdout",
     "output_type": "stream",
     "text": [
      "              precision    recall  f1-score   support\n",
      "\n",
      "           0       0.99      0.76      0.86       744\n",
      "           1       0.04      0.73      0.08        11\n",
      "\n",
      "    accuracy                           0.76       755\n",
      "   macro avg       0.52      0.75      0.47       755\n",
      "weighted avg       0.98      0.76      0.85       755\n",
      "\n"
     ]
    }
   ],
   "source": [
    "print(classification_report(y_test, pred_logreg_reduced))"
   ]
  },
  {
   "cell_type": "code",
   "execution_count": 16,
   "id": "cf98fa12-abdb-4b8e-9caf-66d9823ab293",
   "metadata": {},
   "outputs": [
    {
     "name": "stdout",
     "output_type": "stream",
     "text": [
      "[[569 175]\n",
      " [  3   8]]\n"
     ]
    }
   ],
   "source": [
    "print(confusion_matrix(y_test, pred_logreg_reduced, labels=[0, 1]))"
   ]
  },
  {
   "cell_type": "code",
   "execution_count": 17,
   "id": "d8bef652-2384-4770-9141-419aa4079642",
   "metadata": {},
   "outputs": [
    {
     "name": "stdout",
     "output_type": "stream",
     "text": [
      "Logistic: ROC AUC=0.780\n"
     ]
    },
    {
     "data": {
      "image/png": "[encoded data removed]",
      "text/plain": [
       "<Figure size 640x480 with 1 Axes>"
      ]
     },
     "metadata": {},
     "output_type": "display_data"
    }
   ],
   "source": [
    "proba_preds_logreg_reduced = pipeline_logreg.predict_proba(X_reduced_test)[:, 1]\n",
    "plot_roc(y_test, proba_preds_logreg_reduced, model_name=model_name_reduced)"
   ]
  },
  {
   "cell_type": "markdown",
   "id": "adce5182-bec9-4640-b415-3d7b42adaf6a",
   "metadata": {},
   "source": [
    "#### Logistic Regression Model using SMOTE - Synthetic Over-Sampling"
   ]
  },
  {
   "cell_type": "code",
   "execution_count": 18,
   "id": "b57ceeef-f812-4a8c-8338-cc543d7fc096",
   "metadata": {},
   "outputs": [
    {
     "data": {
      "text/html": [
       "<style>#sk-container-id-3 {color: black;background-color: white;}#sk-container-id-3 pre{padding: 0;}#sk-container-id-3 div.sk-toggleable {background-color: white;}#sk-container-id-3 label.sk-toggleable__label {cursor: pointer;display: block;width: 100%;margin-bottom: 0;padding: 0.3em;box-sizing: border-box;text-align: center;}#sk-container-id-3 label.sk-toggleable__label-arrow:before {content: \"▸\";float: left;margin-right: 0.25em;color: #696969;}#sk-container-id-3 label.sk-toggleable__label-arrow:hover:before {color: black;}#sk-container-id-3 div.sk-estimator:hover label.sk-toggleable__label-arrow:before {color: black;}#sk-container-id-3 div.sk-toggleable__content {max-height: 0;max-width: 0;overflow: hidden;text-align: left;background-color: #f0f8ff;}#sk-container-id-3 div.sk-toggleable__content pre {margin: 0.2em;color: black;border-radius: 0.25em;background-color: #f0f8ff;}#sk-container-id-3 input.sk-toggleable__control:checked~div.sk-toggleable__content {max-height: 200px;max-width: 100%;overflow: auto;}#sk-container-id-3 input.sk-toggleable__control:checked~label.sk-toggleable__label-arrow:before {content: \"▾\";}#sk-container-id-3 div.sk-estimator input.sk-toggleable__control:checked~label.sk-toggleable__label {background-color: #d4ebff;}#sk-container-id-3 div.sk-label input.sk-toggleable__control:checked~label.sk-toggleable__label {background-color: #d4ebff;}#sk-container-id-3 input.sk-hidden--visually {border: 0;clip: rect(1px 1px 1px 1px);clip: rect(1px, 1px, 1px, 1px);height: 1px;margin: -1px;overflow: hidden;padding: 0;position: absolute;width: 1px;}#sk-container-id-3 div.sk-estimator {font-family: monospace;background-color: #f0f8ff;border: 1px dotted black;border-radius: 0.25em;box-sizing: border-box;margin-bottom: 0.5em;}#sk-container-id-3 div.sk-estimator:hover {background-color: #d4ebff;}#sk-container-id-3 div.sk-parallel-item::after {content: \"\";width: 100%;border-bottom: 1px solid gray;flex-grow: 1;}#sk-container-id-3 div.sk-label:hover label.sk-toggleable__label {background-color: #d4ebff;}#sk-container-id-3 div.sk-serial::before {content: \"\";position: absolute;border-left: 1px solid gray;box-sizing: border-box;top: 0;bottom: 0;left: 50%;z-index: 0;}#sk-container-id-3 div.sk-serial {display: flex;flex-direction: column;align-items: center;background-color: white;padding-right: 0.2em;padding-left: 0.2em;position: relative;}#sk-container-id-3 div.sk-item {position: relative;z-index: 1;}#sk-container-id-3 div.sk-parallel {display: flex;align-items: stretch;justify-content: center;background-color: white;position: relative;}#sk-container-id-3 div.sk-item::before, #sk-container-id-3 div.sk-parallel-item::before {content: \"\";position: absolute;border-left: 1px solid gray;box-sizing: border-box;top: 0;bottom: 0;left: 50%;z-index: -1;}#sk-container-id-3 div.sk-parallel-item {display: flex;flex-direction: column;z-index: 1;position: relative;background-color: white;}#sk-container-id-3 div.sk-parallel-item:first-child::after {align-self: flex-end;width: 50%;}#sk-container-id-3 div.sk-parallel-item:last-child::after {align-self: flex-start;width: 50%;}#sk-container-id-3 div.sk-parallel-item:only-child::after {width: 0;}#sk-container-id-3 div.sk-dashed-wrapped {border: 1px dashed gray;margin: 0 0.4em 0.5em 0.4em;box-sizing: border-box;padding-bottom: 0.4em;background-color: white;}#sk-container-id-3 div.sk-label label {font-family: monospace;font-weight: bold;display: inline-block;line-height: 1.2em;}#sk-container-id-3 div.sk-label-container {text-align: center;}#sk-container-id-3 div.sk-container {/* jupyter's `normalize.less` sets `[hidden] { display: none; }` but bootstrap.min.css set `[hidden] { display: none !important; }` so we also need the `!important` here to be able to override the default hidden behavior on the sphinx rendered scikit-learn.org. See: https://github.com/scikit-learn/scikit-learn/issues/21755 */display: inline-block !important;position: relative;}#sk-container-id-3 div.sk-text-repr-fallback {display: none;}</style><div id=\"sk-container-id-3\" class=\"sk-top-container\"><div class=\"sk-text-repr-fallback\"><pre>Pipeline(steps=[(&#x27;knn_imputer&#x27;, KNNImputer()), (&#x27;scaler&#x27;, StandardScaler()),\n",
       "                (&#x27;smote&#x27;, SMOTE(random_state=42)),\n",
       "                (&#x27;classifier&#x27;,\n",
       "                 LogisticRegression(class_weight=&#x27;balanced&#x27;, max_iter=1000,\n",
       "                                    penalty=None, random_state=42))])</pre><b>In a Jupyter environment, please rerun this cell to show the HTML representation or trust the notebook. <br />On GitHub, the HTML representation is unable to render, please try loading this page with nbviewer.org.</b></div><div class=\"sk-container\" hidden><div class=\"sk-item sk-dashed-wrapped\"><div class=\"sk-label-container\"><div class=\"sk-label sk-toggleable\"><input class=\"sk-toggleable__control sk-hidden--visually\" id=\"sk-estimator-id-6\" type=\"checkbox\" ><label for=\"sk-estimator-id-6\" class=\"sk-toggleable__label sk-toggleable__label-arrow\">Pipeline</label><div class=\"sk-toggleable__content\"><pre>Pipeline(steps=[(&#x27;knn_imputer&#x27;, KNNImputer()), (&#x27;scaler&#x27;, StandardScaler()),\n",
       "                (&#x27;smote&#x27;, SMOTE(random_state=42)),\n",
       "                (&#x27;classifier&#x27;,\n",
       "                 LogisticRegression(class_weight=&#x27;balanced&#x27;, max_iter=1000,\n",
       "                                    penalty=None, random_state=42))])</pre></div></div></div><div class=\"sk-serial\"><div class=\"sk-item\"><div class=\"sk-estimator sk-toggleable\"><input class=\"sk-toggleable__control sk-hidden--visually\" id=\"sk-estimator-id-7\" type=\"checkbox\" ><label for=\"sk-estimator-id-7\" class=\"sk-toggleable__label sk-toggleable__label-arrow\">KNNImputer</label><div class=\"sk-toggleable__content\"><pre>KNNImputer()</pre></div></div></div><div class=\"sk-item\"><div class=\"sk-estimator sk-toggleable\"><input class=\"sk-toggleable__control sk-hidden--visually\" id=\"sk-estimator-id-8\" type=\"checkbox\" ><label for=\"sk-estimator-id-8\" class=\"sk-toggleable__label sk-toggleable__label-arrow\">StandardScaler</label><div class=\"sk-toggleable__content\"><pre>StandardScaler()</pre></div></div></div><div class=\"sk-item\"><div class=\"sk-estimator sk-toggleable\"><input class=\"sk-toggleable__control sk-hidden--visually\" id=\"sk-estimator-id-9\" type=\"checkbox\" ><label for=\"sk-estimator-id-9\" class=\"sk-toggleable__label sk-toggleable__label-arrow\">SMOTE</label><div class=\"sk-toggleable__content\"><pre>SMOTE(random_state=42)</pre></div></div></div><div class=\"sk-item\"><div class=\"sk-estimator sk-toggleable\"><input class=\"sk-toggleable__control sk-hidden--visually\" id=\"sk-estimator-id-10\" type=\"checkbox\" ><label for=\"sk-estimator-id-10\" class=\"sk-toggleable__label sk-toggleable__label-arrow\">LogisticRegression</label><div class=\"sk-toggleable__content\"><pre>LogisticRegression(class_weight=&#x27;balanced&#x27;, max_iter=1000, penalty=None,\n",
       "                   random_state=42)</pre></div></div></div></div></div></div></div>"
      ],
      "text/plain": [
       "Pipeline(steps=[('knn_imputer', KNNImputer()), ('scaler', StandardScaler()),\n",
       "                ('smote', SMOTE(random_state=42)),\n",
       "                ('classifier',\n",
       "                 LogisticRegression(class_weight='balanced', max_iter=1000,\n",
       "                                    penalty=None, random_state=42))])"
      ]
     },
     "execution_count": 18,
     "metadata": {},
     "output_type": "execute_result"
    }
   ],
   "source": [
    "pipeline_smote_logreg = ImbPipeline(steps=[\n",
    "    (\"knn_imputer\", KNNImputer(n_neighbors=5).set_output(transform=\"pandas\")),\n",
    "    (\"scaler\", StandardScaler().set_output(transform=\"pandas\")),\n",
    "    (\"smote\", SMOTE(random_state=42)), # this step is only in imblearn.pipeline's Pipeline\n",
    "    (\"classifier\", model_logreg)\n",
    "                              ])\n",
    "pipeline_smote_logreg"
   ]
  },
  {
   "cell_type": "code",
   "execution_count": 19,
   "id": "5bb6675b-8bb2-418f-9d10-3f028d0bd15f",
   "metadata": {},
   "outputs": [
    {
     "data": {
      "text/html": [
       "<style>#sk-container-id-4 {color: black;background-color: white;}#sk-container-id-4 pre{padding: 0;}#sk-container-id-4 div.sk-toggleable {background-color: white;}#sk-container-id-4 label.sk-toggleable__label {cursor: pointer;display: block;width: 100%;margin-bottom: 0;padding: 0.3em;box-sizing: border-box;text-align: center;}#sk-container-id-4 label.sk-toggleable__label-arrow:before {content: \"▸\";float: left;margin-right: 0.25em;color: #696969;}#sk-container-id-4 label.sk-toggleable__label-arrow:hover:before {color: black;}#sk-container-id-4 div.sk-estimator:hover label.sk-toggleable__label-arrow:before {color: black;}#sk-container-id-4 div.sk-toggleable__content {max-height: 0;max-width: 0;overflow: hidden;text-align: left;background-color: #f0f8ff;}#sk-container-id-4 div.sk-toggleable__content pre {margin: 0.2em;color: black;border-radius: 0.25em;background-color: #f0f8ff;}#sk-container-id-4 input.sk-toggleable__control:checked~div.sk-toggleable__content {max-height: 200px;max-width: 100%;overflow: auto;}#sk-container-id-4 input.sk-toggleable__control:checked~label.sk-toggleable__label-arrow:before {content: \"▾\";}#sk-container-id-4 div.sk-estimator input.sk-toggleable__control:checked~label.sk-toggleable__label {background-color: #d4ebff;}#sk-container-id-4 div.sk-label input.sk-toggleable__control:checked~label.sk-toggleable__label {background-color: #d4ebff;}#sk-container-id-4 input.sk-hidden--visually {border: 0;clip: rect(1px 1px 1px 1px);clip: rect(1px, 1px, 1px, 1px);height: 1px;margin: -1px;overflow: hidden;padding: 0;position: absolute;width: 1px;}#sk-container-id-4 div.sk-estimator {font-family: monospace;background-color: #f0f8ff;border: 1px dotted black;border-radius: 0.25em;box-sizing: border-box;margin-bottom: 0.5em;}#sk-container-id-4 div.sk-estimator:hover {background-color: #d4ebff;}#sk-container-id-4 div.sk-parallel-item::after {content: \"\";width: 100%;border-bottom: 1px solid gray;flex-grow: 1;}#sk-container-id-4 div.sk-label:hover label.sk-toggleable__label {background-color: #d4ebff;}#sk-container-id-4 div.sk-serial::before {content: \"\";position: absolute;border-left: 1px solid gray;box-sizing: border-box;top: 0;bottom: 0;left: 50%;z-index: 0;}#sk-container-id-4 div.sk-serial {display: flex;flex-direction: column;align-items: center;background-color: white;padding-right: 0.2em;padding-left: 0.2em;position: relative;}#sk-container-id-4 div.sk-item {position: relative;z-index: 1;}#sk-container-id-4 div.sk-parallel {display: flex;align-items: stretch;justify-content: center;background-color: white;position: relative;}#sk-container-id-4 div.sk-item::before, #sk-container-id-4 div.sk-parallel-item::before {content: \"\";position: absolute;border-left: 1px solid gray;box-sizing: border-box;top: 0;bottom: 0;left: 50%;z-index: -1;}#sk-container-id-4 div.sk-parallel-item {display: flex;flex-direction: column;z-index: 1;position: relative;background-color: white;}#sk-container-id-4 div.sk-parallel-item:first-child::after {align-self: flex-end;width: 50%;}#sk-container-id-4 div.sk-parallel-item:last-child::after {align-self: flex-start;width: 50%;}#sk-container-id-4 div.sk-parallel-item:only-child::after {width: 0;}#sk-container-id-4 div.sk-dashed-wrapped {border: 1px dashed gray;margin: 0 0.4em 0.5em 0.4em;box-sizing: border-box;padding-bottom: 0.4em;background-color: white;}#sk-container-id-4 div.sk-label label {font-family: monospace;font-weight: bold;display: inline-block;line-height: 1.2em;}#sk-container-id-4 div.sk-label-container {text-align: center;}#sk-container-id-4 div.sk-container {/* jupyter's `normalize.less` sets `[hidden] { display: none; }` but bootstrap.min.css set `[hidden] { display: none !important; }` so we also need the `!important` here to be able to override the default hidden behavior on the sphinx rendered scikit-learn.org. See: https://github.com/scikit-learn/scikit-learn/issues/21755 */display: inline-block !important;position: relative;}#sk-container-id-4 div.sk-text-repr-fallback {display: none;}</style><div id=\"sk-container-id-4\" class=\"sk-top-container\"><div class=\"sk-text-repr-fallback\"><pre>Pipeline(steps=[(&#x27;knn_imputer&#x27;, KNNImputer()), (&#x27;scaler&#x27;, StandardScaler()),\n",
       "                (&#x27;smote&#x27;, SMOTE(random_state=42))])</pre><b>In a Jupyter environment, please rerun this cell to show the HTML representation or trust the notebook. <br />On GitHub, the HTML representation is unable to render, please try loading this page with nbviewer.org.</b></div><div class=\"sk-container\" hidden><div class=\"sk-item sk-dashed-wrapped\"><div class=\"sk-label-container\"><div class=\"sk-label sk-toggleable\"><input class=\"sk-toggleable__control sk-hidden--visually\" id=\"sk-estimator-id-11\" type=\"checkbox\" ><label for=\"sk-estimator-id-11\" class=\"sk-toggleable__label sk-toggleable__label-arrow\">Pipeline</label><div class=\"sk-toggleable__content\"><pre>Pipeline(steps=[(&#x27;knn_imputer&#x27;, KNNImputer()), (&#x27;scaler&#x27;, StandardScaler()),\n",
       "                (&#x27;smote&#x27;, SMOTE(random_state=42))])</pre></div></div></div><div class=\"sk-serial\"><div class=\"sk-item\"><div class=\"sk-estimator sk-toggleable\"><input class=\"sk-toggleable__control sk-hidden--visually\" id=\"sk-estimator-id-12\" type=\"checkbox\" ><label for=\"sk-estimator-id-12\" class=\"sk-toggleable__label sk-toggleable__label-arrow\">KNNImputer</label><div class=\"sk-toggleable__content\"><pre>KNNImputer()</pre></div></div></div><div class=\"sk-item\"><div class=\"sk-estimator sk-toggleable\"><input class=\"sk-toggleable__control sk-hidden--visually\" id=\"sk-estimator-id-13\" type=\"checkbox\" ><label for=\"sk-estimator-id-13\" class=\"sk-toggleable__label sk-toggleable__label-arrow\">StandardScaler</label><div class=\"sk-toggleable__content\"><pre>StandardScaler()</pre></div></div></div><div class=\"sk-item\"><div class=\"sk-estimator sk-toggleable\"><input class=\"sk-toggleable__control sk-hidden--visually\" id=\"sk-estimator-id-14\" type=\"checkbox\" ><label for=\"sk-estimator-id-14\" class=\"sk-toggleable__label sk-toggleable__label-arrow\">SMOTE</label><div class=\"sk-toggleable__content\"><pre>SMOTE(random_state=42)</pre></div></div></div></div></div></div></div>"
      ],
      "text/plain": [
       "Pipeline(steps=[('knn_imputer', KNNImputer()), ('scaler', StandardScaler()),\n",
       "                ('smote', SMOTE(random_state=42))])"
      ]
     },
     "execution_count": 19,
     "metadata": {},
     "output_type": "execute_result"
    }
   ],
   "source": [
    "# Checking the upsampling\n",
    "pipeline_smote_logreg[:3]"
   ]
  },
  {
   "cell_type": "code",
   "execution_count": 20,
   "id": "cb402f33-ea5b-4325-9779-62e44dcb7edd",
   "metadata": {},
   "outputs": [
    {
     "data": {
      "text/plain": [
       "0    2972\n",
       "1    2972\n",
       "Name: b_gekauft_gesamt, dtype: int64"
      ]
     },
     "execution_count": 20,
     "metadata": {},
     "output_type": "execute_result"
    }
   ],
   "source": [
    "X_train_res, y_train_res = pipeline_smote_logreg[:3].fit_resample(X_reduced_train, y_train)\n",
    "y_train_res.value_counts() # now 1 label is as frequent as 0"
   ]
  },
  {
   "cell_type": "code",
   "execution_count": 21,
   "id": "431a0e27-71f7-4733-9a69-69fa24e49d52",
   "metadata": {},
   "outputs": [
    {
     "data": {
      "text/plain": [
       "0    2972\n",
       "1      46\n",
       "Name: b_gekauft_gesamt, dtype: int64"
      ]
     },
     "execution_count": 21,
     "metadata": {},
     "output_type": "execute_result"
    }
   ],
   "source": [
    "y_train.value_counts() # before upsampling"
   ]
  },
  {
   "cell_type": "code",
   "execution_count": 22,
   "id": "a0f8dd2d-7f64-4efb-9126-dcc8fc45d52e",
   "metadata": {},
   "outputs": [],
   "source": [
    "model_name_smote_reduced = \"Logistic Regression with SMOTE (X_reduced)\"\n",
    "\n",
    "pipeline_smote_logreg.fit(X_reduced_train, y_train)\n",
    "pred_logreg_smote_reduced = pipeline_smote_logreg.predict(X_reduced_test)\n",
    "scores[model_name_smote_reduced] = f1_score(y_test, pred_logreg_smote_reduced) # it is F1 score of the minority class"
   ]
  },
  {
   "cell_type": "code",
   "execution_count": 23,
   "id": "d3feba84-f9e9-4660-b6f3-041e18fb75a9",
   "metadata": {},
   "outputs": [
    {
     "name": "stdout",
     "output_type": "stream",
     "text": [
      "              precision    recall  f1-score   support\n",
      "\n",
      "           0       0.99      0.74      0.85       744\n",
      "           1       0.04      0.73      0.08        11\n",
      "\n",
      "    accuracy                           0.74       755\n",
      "   macro avg       0.52      0.73      0.46       755\n",
      "weighted avg       0.98      0.74      0.84       755\n",
      "\n"
     ]
    }
   ],
   "source": [
    "print(classification_report(y_test, pred_logreg_smote_reduced))"
   ]
  },
  {
   "cell_type": "code",
   "execution_count": 24,
   "id": "7e5e293b-b226-4053-b210-e68ded306185",
   "metadata": {},
   "outputs": [
    {
     "name": "stdout",
     "output_type": "stream",
     "text": [
      "[[550 194]\n",
      " [  3   8]]\n"
     ]
    }
   ],
   "source": [
    "print(confusion_matrix(y_test, pred_logreg_smote_reduced, labels=[0, 1]))"
   ]
  },
  {
   "cell_type": "code",
   "execution_count": 25,
   "id": "de763906-c264-4b43-a4bf-7370e8ad0e5e",
   "metadata": {},
   "outputs": [
    {
     "name": "stdout",
     "output_type": "stream",
     "text": [
      "Logistic: ROC AUC=0.759\n"
     ]
    },
    {
     "data": {
      "image/png": "[encoded data removed]",
      "text/plain": [
       "<Figure size 640x480 with 1 Axes>"
      ]
     },
     "metadata": {},
     "output_type": "display_data"
    }
   ],
   "source": [
    "proba_preds_logreg_smote_reduced = pipeline_smote_logreg.predict_proba(X_reduced_test)[:, 1]\n",
    "plot_roc(y_test, proba_preds_logreg_smote_reduced, model_name=model_name_smote_reduced)"
   ]
  },
  {
   "cell_type": "markdown",
   "id": "30d9b7c5-4b68-461b-a259-5d65f96280dc",
   "metadata": {},
   "source": [
    "### Logistic Regression Model using Full Data\n",
    "#### Train - test split"
   ]
  },
  {
   "cell_type": "code",
   "execution_count": 26,
   "id": "0e1b7752-df69-4319-abba-9cdd0bd197c6",
   "metadata": {},
   "outputs": [
    {
     "data": {
      "text/plain": [
       "((3018, 24), (755, 24))"
      ]
     },
     "execution_count": 26,
     "metadata": {},
     "output_type": "execute_result"
    }
   ],
   "source": [
    "df_train, df_test = train_test_split(\n",
    "    df, test_size=0.2, random_state=5, stratify=df[target])\n",
    "df_train.shape, df_test.shape"
   ]
  },
  {
   "cell_type": "code",
   "execution_count": 27,
   "id": "6c9153e1-f179-4bb7-9220-0e68158c42e1",
   "metadata": {},
   "outputs": [
    {
     "data": {
      "text/plain": [
       "((3018, 23), (755, 23), (3018,), (755,))"
      ]
     },
     "execution_count": 27,
     "metadata": {},
     "output_type": "execute_result"
    }
   ],
   "source": [
    "X_train = df_train.drop(columns=[target])\n",
    "#y_train = df_train[target] #same as before\n",
    "X_test = df_test.drop(columns=[target])\n",
    "#y_test = df_test[target] #same as before\n",
    "X_train.shape, X_test.shape, y_train.shape, y_test.shape"
   ]
  },
  {
   "cell_type": "markdown",
   "id": "c6236519-bd2e-4ee3-8804-2fe766e5c513",
   "metadata": {},
   "source": [
    "#### Logistic Regression Model using Class Weights"
   ]
  },
  {
   "cell_type": "code",
   "execution_count": 28,
   "id": "cc3c4b25-ee60-4792-8960-2b5fb8b0ea17",
   "metadata": {},
   "outputs": [],
   "source": [
    "model_name = \"Logistic Regression with Class Weights (X full)\"\n",
    "\n",
    "pipeline_logreg.fit(X_train, y_train)\n",
    "pred_logreg = pipeline_logreg.predict(X_test)\n",
    "scores[model_name] = f1_score(y_test, pred_logreg)"
   ]
  },
  {
   "cell_type": "code",
   "execution_count": 29,
   "id": "9c9cb1a1-c081-4eef-82e2-f48759b772a4",
   "metadata": {},
   "outputs": [
    {
     "name": "stdout",
     "output_type": "stream",
     "text": [
      "              precision    recall  f1-score   support\n",
      "\n",
      "           0       0.99      0.76      0.86       744\n",
      "           1       0.04      0.73      0.08        11\n",
      "\n",
      "    accuracy                           0.76       755\n",
      "   macro avg       0.52      0.74      0.47       755\n",
      "weighted avg       0.98      0.76      0.85       755\n",
      "\n"
     ]
    }
   ],
   "source": [
    "print(classification_report(y_test, pred_logreg))"
   ]
  },
  {
   "cell_type": "code",
   "execution_count": 30,
   "id": "37e6d406-f71b-423a-ab0a-25bceca12fb1",
   "metadata": {},
   "outputs": [
    {
     "name": "stdout",
     "output_type": "stream",
     "text": [
      "[[563 181]\n",
      " [  3   8]]\n"
     ]
    }
   ],
   "source": [
    "print(confusion_matrix(y_test, pred_logreg, labels=[0, 1]))"
   ]
  },
  {
   "cell_type": "code",
   "execution_count": 31,
   "id": "f30520ba-4d59-456e-8efa-38d35690ec8f",
   "metadata": {},
   "outputs": [
    {
     "name": "stdout",
     "output_type": "stream",
     "text": [
      "Logistic: ROC AUC=0.772\n"
     ]
    },
    {
     "data": {
      "image/png": "[encoded data removed]",
      "text/plain": [
       "<Figure size 640x480 with 1 Axes>"
      ]
     },
     "metadata": {},
     "output_type": "display_data"
    }
   ],
   "source": [
    "proba_preds_logreg = pipeline_logreg.predict_proba(X_test)[:, 1]\n",
    "plot_roc(y_test, proba_preds_logreg, model_name=model_name)"
   ]
  },
  {
   "cell_type": "markdown",
   "id": "26c2c746-b65f-441c-b64b-709387082d13",
   "metadata": {},
   "source": [
    "### Compare model performance"
   ]
  },
  {
   "cell_type": "code",
   "execution_count": 32,
   "id": "3cfe6a62-72bb-4679-9820-d34aafa55c20",
   "metadata": {},
   "outputs": [
    {
     "data": {
      "image/png": "[encoded data removed]",
      "text/plain": [
       "<Figure size 1000x1000 with 1 Axes>"
      ]
     },
     "metadata": {},
     "output_type": "display_data"
    }
   ],
   "source": [
    "plot_scores(scores)"
   ]
  },
  {
   "cell_type": "markdown",
   "id": "0eec4872-f272-46f2-9964-a5be13381a82",
   "metadata": {},
   "source": [
    "__Conclusion__\n",
    "* Logistic regression model using SMOTE performes worse for the majority class and the same for the minority class compared to using class weights.\n",
    "* Logistic regression model using full data performes comparable to the same model but using reduced data.\n",
    "* Will not try undersamling because there is already very little data for the minority label (46 samples).\n",
    "* It's time to try a tree-based model, which is more robust to class imbalance."
   ]
  },
  {
   "cell_type": "markdown",
   "id": "e925b985-1688-4106-a51b-088ee17aa633",
   "metadata": {},
   "source": [
    "#### Random Forest Classifier using Full Data"
   ]
  },
  {
   "cell_type": "code",
   "execution_count": 33,
   "id": "baf0aca4-e4ae-44b8-9e25-6f1ad1e3419e",
   "metadata": {},
   "outputs": [
    {
     "data": {
      "text/html": [
       "<style>#sk-container-id-5 {color: black;background-color: white;}#sk-container-id-5 pre{padding: 0;}#sk-container-id-5 div.sk-toggleable {background-color: white;}#sk-container-id-5 label.sk-toggleable__label {cursor: pointer;display: block;width: 100%;margin-bottom: 0;padding: 0.3em;box-sizing: border-box;text-align: center;}#sk-container-id-5 label.sk-toggleable__label-arrow:before {content: \"▸\";float: left;margin-right: 0.25em;color: #696969;}#sk-container-id-5 label.sk-toggleable__label-arrow:hover:before {color: black;}#sk-container-id-5 div.sk-estimator:hover label.sk-toggleable__label-arrow:before {color: black;}#sk-container-id-5 div.sk-toggleable__content {max-height: 0;max-width: 0;overflow: hidden;text-align: left;background-color: #f0f8ff;}#sk-container-id-5 div.sk-toggleable__content pre {margin: 0.2em;color: black;border-radius: 0.25em;background-color: #f0f8ff;}#sk-container-id-5 input.sk-toggleable__control:checked~div.sk-toggleable__content {max-height: 200px;max-width: 100%;overflow: auto;}#sk-container-id-5 input.sk-toggleable__control:checked~label.sk-toggleable__label-arrow:before {content: \"▾\";}#sk-container-id-5 div.sk-estimator input.sk-toggleable__control:checked~label.sk-toggleable__label {background-color: #d4ebff;}#sk-container-id-5 div.sk-label input.sk-toggleable__control:checked~label.sk-toggleable__label {background-color: #d4ebff;}#sk-container-id-5 input.sk-hidden--visually {border: 0;clip: rect(1px 1px 1px 1px);clip: rect(1px, 1px, 1px, 1px);height: 1px;margin: -1px;overflow: hidden;padding: 0;position: absolute;width: 1px;}#sk-container-id-5 div.sk-estimator {font-family: monospace;background-color: #f0f8ff;border: 1px dotted black;border-radius: 0.25em;box-sizing: border-box;margin-bottom: 0.5em;}#sk-container-id-5 div.sk-estimator:hover {background-color: #d4ebff;}#sk-container-id-5 div.sk-parallel-item::after {content: \"\";width: 100%;border-bottom: 1px solid gray;flex-grow: 1;}#sk-container-id-5 div.sk-label:hover label.sk-toggleable__label {background-color: #d4ebff;}#sk-container-id-5 div.sk-serial::before {content: \"\";position: absolute;border-left: 1px solid gray;box-sizing: border-box;top: 0;bottom: 0;left: 50%;z-index: 0;}#sk-container-id-5 div.sk-serial {display: flex;flex-direction: column;align-items: center;background-color: white;padding-right: 0.2em;padding-left: 0.2em;position: relative;}#sk-container-id-5 div.sk-item {position: relative;z-index: 1;}#sk-container-id-5 div.sk-parallel {display: flex;align-items: stretch;justify-content: center;background-color: white;position: relative;}#sk-container-id-5 div.sk-item::before, #sk-container-id-5 div.sk-parallel-item::before {content: \"\";position: absolute;border-left: 1px solid gray;box-sizing: border-box;top: 0;bottom: 0;left: 50%;z-index: -1;}#sk-container-id-5 div.sk-parallel-item {display: flex;flex-direction: column;z-index: 1;position: relative;background-color: white;}#sk-container-id-5 div.sk-parallel-item:first-child::after {align-self: flex-end;width: 50%;}#sk-container-id-5 div.sk-parallel-item:last-child::after {align-self: flex-start;width: 50%;}#sk-container-id-5 div.sk-parallel-item:only-child::after {width: 0;}#sk-container-id-5 div.sk-dashed-wrapped {border: 1px dashed gray;margin: 0 0.4em 0.5em 0.4em;box-sizing: border-box;padding-bottom: 0.4em;background-color: white;}#sk-container-id-5 div.sk-label label {font-family: monospace;font-weight: bold;display: inline-block;line-height: 1.2em;}#sk-container-id-5 div.sk-label-container {text-align: center;}#sk-container-id-5 div.sk-container {/* jupyter's `normalize.less` sets `[hidden] { display: none; }` but bootstrap.min.css set `[hidden] { display: none !important; }` so we also need the `!important` here to be able to override the default hidden behavior on the sphinx rendered scikit-learn.org. See: https://github.com/scikit-learn/scikit-learn/issues/21755 */display: inline-block !important;position: relative;}#sk-container-id-5 div.sk-text-repr-fallback {display: none;}</style><div id=\"sk-container-id-5\" class=\"sk-top-container\"><div class=\"sk-text-repr-fallback\"><pre>Pipeline(steps=[(&#x27;knn_imputer&#x27;, KNNImputer()), (&#x27;scaler&#x27;, StandardScaler()),\n",
       "                (&#x27;classifier&#x27;,\n",
       "                 RandomForestClassifier(class_weight=&#x27;balanced&#x27;,\n",
       "                                        n_estimators=500, random_state=42))])</pre><b>In a Jupyter environment, please rerun this cell to show the HTML representation or trust the notebook. <br />On GitHub, the HTML representation is unable to render, please try loading this page with nbviewer.org.</b></div><div class=\"sk-container\" hidden><div class=\"sk-item sk-dashed-wrapped\"><div class=\"sk-label-container\"><div class=\"sk-label sk-toggleable\"><input class=\"sk-toggleable__control sk-hidden--visually\" id=\"sk-estimator-id-15\" type=\"checkbox\" ><label for=\"sk-estimator-id-15\" class=\"sk-toggleable__label sk-toggleable__label-arrow\">Pipeline</label><div class=\"sk-toggleable__content\"><pre>Pipeline(steps=[(&#x27;knn_imputer&#x27;, KNNImputer()), (&#x27;scaler&#x27;, StandardScaler()),\n",
       "                (&#x27;classifier&#x27;,\n",
       "                 RandomForestClassifier(class_weight=&#x27;balanced&#x27;,\n",
       "                                        n_estimators=500, random_state=42))])</pre></div></div></div><div class=\"sk-serial\"><div class=\"sk-item\"><div class=\"sk-estimator sk-toggleable\"><input class=\"sk-toggleable__control sk-hidden--visually\" id=\"sk-estimator-id-16\" type=\"checkbox\" ><label for=\"sk-estimator-id-16\" class=\"sk-toggleable__label sk-toggleable__label-arrow\">KNNImputer</label><div class=\"sk-toggleable__content\"><pre>KNNImputer()</pre></div></div></div><div class=\"sk-item\"><div class=\"sk-estimator sk-toggleable\"><input class=\"sk-toggleable__control sk-hidden--visually\" id=\"sk-estimator-id-17\" type=\"checkbox\" ><label for=\"sk-estimator-id-17\" class=\"sk-toggleable__label sk-toggleable__label-arrow\">StandardScaler</label><div class=\"sk-toggleable__content\"><pre>StandardScaler()</pre></div></div></div><div class=\"sk-item\"><div class=\"sk-estimator sk-toggleable\"><input class=\"sk-toggleable__control sk-hidden--visually\" id=\"sk-estimator-id-18\" type=\"checkbox\" ><label for=\"sk-estimator-id-18\" class=\"sk-toggleable__label sk-toggleable__label-arrow\">RandomForestClassifier</label><div class=\"sk-toggleable__content\"><pre>RandomForestClassifier(class_weight=&#x27;balanced&#x27;, n_estimators=500,\n",
       "                       random_state=42)</pre></div></div></div></div></div></div></div>"
      ],
      "text/plain": [
       "Pipeline(steps=[('knn_imputer', KNNImputer()), ('scaler', StandardScaler()),\n",
       "                ('classifier',\n",
       "                 RandomForestClassifier(class_weight='balanced',\n",
       "                                        n_estimators=500, random_state=42))])"
      ]
     },
     "execution_count": 33,
     "metadata": {},
     "output_type": "execute_result"
    }
   ],
   "source": [
    "rfc = RandomForestClassifier(class_weight=\"balanced\", # does not work (nothing predicted as '0', UndefinedMetricWarning)\n",
    "                             n_estimators=500, random_state=42)\n",
    "# Tree-based models do not require scaling\n",
    "pipeline_rfc = Pipeline([\n",
    "    (\"knn_imputer\", KNNImputer(n_neighbors=5).set_output(transform=\"pandas\")),\n",
    "    (\"scaler\", StandardScaler().set_output(transform=\"pandas\")), # scaling is not necessary for tree-based models, tried both\n",
    "    (\"classifier\", rfc)\n",
    "])\n",
    "pipeline_rfc"
   ]
  },
  {
   "cell_type": "code",
   "execution_count": 34,
   "id": "d6e6f6dd-a945-4920-8f63-dfdb1d06fc5e",
   "metadata": {},
   "outputs": [],
   "source": [
    "model_name = \"RandomForestClassifier (X full)\"\n",
    "\n",
    "pipeline_rfc.fit(X_train, y_train)\n",
    "pred_rfc = pipeline_rfc.predict(X_test)\n",
    "scores[model_name] = f1_score(y_test, pred_rfc)"
   ]
  },
  {
   "cell_type": "code",
   "execution_count": 35,
   "id": "77577c7f-f4ce-4a51-8bb4-75cd164f731b",
   "metadata": {},
   "outputs": [
    {
     "name": "stdout",
     "output_type": "stream",
     "text": [
      "              precision    recall  f1-score   support\n",
      "\n",
      "           0       0.99      1.00      0.99       744\n",
      "           1       0.00      0.00      0.00        11\n",
      "\n",
      "    accuracy                           0.99       755\n",
      "   macro avg       0.49      0.50      0.50       755\n",
      "weighted avg       0.97      0.99      0.98       755\n",
      "\n"
     ]
    },
    {
     "name": "stderr",
     "output_type": "stream",
     "text": [
      "/home/ria/apps/miniconda3/envs/MLG/lib/python3.10/site-packages/sklearn/metrics/_classification.py:1344: UndefinedMetricWarning: Precision and F-score are ill-defined and being set to 0.0 in labels with no predicted samples. Use `zero_division` parameter to control this behavior.\n",
      "  _warn_prf(average, modifier, msg_start, len(result))\n",
      "/home/ria/apps/miniconda3/envs/MLG/lib/python3.10/site-packages/sklearn/metrics/_classification.py:1344: UndefinedMetricWarning: Precision and F-score are ill-defined and being set to 0.0 in labels with no predicted samples. Use `zero_division` parameter to control this behavior.\n",
      "  _warn_prf(average, modifier, msg_start, len(result))\n",
      "/home/ria/apps/miniconda3/envs/MLG/lib/python3.10/site-packages/sklearn/metrics/_classification.py:1344: UndefinedMetricWarning: Precision and F-score are ill-defined and being set to 0.0 in labels with no predicted samples. Use `zero_division` parameter to control this behavior.\n",
      "  _warn_prf(average, modifier, msg_start, len(result))\n"
     ]
    }
   ],
   "source": [
    "print(classification_report(y_test, pred_rfc))"
   ]
  },
  {
   "cell_type": "code",
   "execution_count": 36,
   "id": "96f24ab6-0ff3-4a2c-8697-1df57a785ce6",
   "metadata": {},
   "outputs": [
    {
     "name": "stdout",
     "output_type": "stream",
     "text": [
      "[[744   0]\n",
      " [ 11   0]]\n"
     ]
    }
   ],
   "source": [
    "print(confusion_matrix(y_test, pred_rfc, labels=[0, 1]))"
   ]
  },
  {
   "cell_type": "code",
   "execution_count": 37,
   "id": "375305b7-d5f8-4318-85ff-b7152bb50a2a",
   "metadata": {},
   "outputs": [
    {
     "name": "stdout",
     "output_type": "stream",
     "text": [
      "Logistic: ROC AUC=0.717\n"
     ]
    },
    {
     "data": {
      "image/png": "[encoded data removed]",
      "text/plain": [
       "<Figure size 640x480 with 1 Axes>"
      ]
     },
     "metadata": {},
     "output_type": "display_data"
    }
   ],
   "source": [
    "proba_preds_rfc = pipeline_rfc.predict_proba(X_test)[:, 1]\n",
    "plot_roc(y_test, proba_preds_rfc, model_name=model_name)"
   ]
  },
  {
   "cell_type": "markdown",
   "id": "41e0b3f3-1342-4f97-b0fc-e380d83e960d",
   "metadata": {},
   "source": [
    "#### Feature importance from the RandomForest Model\n",
    "\n",
    "Trees based models like RandomForest, XGBoost, etc. provide us feature importance based on the training."
   ]
  },
  {
   "cell_type": "code",
   "execution_count": 38,
   "id": "8f34ad7c-9ce3-4928-9b43-194b2618564d",
   "metadata": {},
   "outputs": [
    {
     "data": {
      "text/plain": [
       "array([0.01920502, 0.00719583, 0.01076128, 0.03103347, 0.03521613,\n",
       "       0.0246792 , 0.00073201, 0.00612808, 0.00807296, 0.02308956,\n",
       "       0.02171691, 0.05349265, 0.01785496, 0.06441284, 0.0636319 ,\n",
       "       0.06985555, 0.07089115, 0.05743218, 0.07305234, 0.07943268,\n",
       "       0.09729021, 0.08131025, 0.08351284])"
      ]
     },
     "execution_count": 38,
     "metadata": {},
     "output_type": "execute_result"
    }
   ],
   "source": [
    "rfc.feature_importances_"
   ]
  },
  {
   "cell_type": "code",
   "execution_count": 39,
   "id": "06bbbff1-41e7-40a8-a261-16529694dd63",
   "metadata": {},
   "outputs": [
    {
     "data": {
      "text/html": [
       "<div>\n",
       "<style scoped>\n",
       "    .dataframe tbody tr th:only-of-type {\n",
       "        vertical-align: middle;\n",
       "    }\n",
       "\n",
       "    .dataframe tbody tr th {\n",
       "        vertical-align: top;\n",
       "    }\n",
       "\n",
       "    .dataframe thead th {\n",
       "        text-align: right;\n",
       "    }\n",
       "</style>\n",
       "<table border=\"1\" class=\"dataframe\">\n",
       "  <thead>\n",
       "    <tr style=\"text-align: right;\">\n",
       "      <th></th>\n",
       "      <th>importance</th>\n",
       "    </tr>\n",
       "    <tr>\n",
       "      <th>feature</th>\n",
       "      <th></th>\n",
       "    </tr>\n",
       "  </thead>\n",
       "  <tbody>\n",
       "    <tr>\n",
       "      <th>b_specialisation_c</th>\n",
       "      <td>0.001</td>\n",
       "    </tr>\n",
       "    <tr>\n",
       "      <th>b_specialisation_b</th>\n",
       "      <td>0.006</td>\n",
       "    </tr>\n",
       "    <tr>\n",
       "      <th>b_specialisation_h</th>\n",
       "      <td>0.007</td>\n",
       "    </tr>\n",
       "    <tr>\n",
       "      <th>b_specialisation_a</th>\n",
       "      <td>0.008</td>\n",
       "    </tr>\n",
       "    <tr>\n",
       "      <th>b_specialisation_g</th>\n",
       "      <td>0.011</td>\n",
       "    </tr>\n",
       "    <tr>\n",
       "      <th>q_2017 Average Household Size</th>\n",
       "      <td>0.018</td>\n",
       "    </tr>\n",
       "    <tr>\n",
       "      <th>b_specialisation_i</th>\n",
       "      <td>0.019</td>\n",
       "    </tr>\n",
       "    <tr>\n",
       "      <th>q_OpeningDays</th>\n",
       "      <td>0.022</td>\n",
       "    </tr>\n",
       "    <tr>\n",
       "      <th>b_specialisation_j</th>\n",
       "      <td>0.023</td>\n",
       "    </tr>\n",
       "    <tr>\n",
       "      <th>b_specialisation_d</th>\n",
       "      <td>0.025</td>\n",
       "    </tr>\n",
       "    <tr>\n",
       "      <th>b_specialisation_f</th>\n",
       "      <td>0.031</td>\n",
       "    </tr>\n",
       "    <tr>\n",
       "      <th>b_specialisation_e</th>\n",
       "      <td>0.035</td>\n",
       "    </tr>\n",
       "    <tr>\n",
       "      <th>q_OpeningHours</th>\n",
       "      <td>0.053</td>\n",
       "    </tr>\n",
       "    <tr>\n",
       "      <th>q_2017 Total Population</th>\n",
       "      <td>0.057</td>\n",
       "    </tr>\n",
       "    <tr>\n",
       "      <th>q_2017 Total Households</th>\n",
       "      <td>0.064</td>\n",
       "    </tr>\n",
       "    <tr>\n",
       "      <th>q_2017 HHs: 5th Quintile (68.759 and above)</th>\n",
       "      <td>0.064</td>\n",
       "    </tr>\n",
       "    <tr>\n",
       "      <th>q_5th Quint by Total HH</th>\n",
       "      <td>0.070</td>\n",
       "    </tr>\n",
       "    <tr>\n",
       "      <th>q_2017 Purchasing Power: Per Capita</th>\n",
       "      <td>0.071</td>\n",
       "    </tr>\n",
       "    <tr>\n",
       "      <th>q_2017 Pop 15+/Edu: University, Fachhochschule</th>\n",
       "      <td>0.073</td>\n",
       "    </tr>\n",
       "    <tr>\n",
       "      <th>q_Uni by Total Pop</th>\n",
       "      <td>0.079</td>\n",
       "    </tr>\n",
       "    <tr>\n",
       "      <th>q_2017 Medical Products: Per Capita</th>\n",
       "      <td>0.081</td>\n",
       "    </tr>\n",
       "    <tr>\n",
       "      <th>q_2017 Personal Effects: Per Capita</th>\n",
       "      <td>0.084</td>\n",
       "    </tr>\n",
       "    <tr>\n",
       "      <th>q_2017 Personal Care: Per Capita</th>\n",
       "      <td>0.097</td>\n",
       "    </tr>\n",
       "  </tbody>\n",
       "</table>\n",
       "</div>"
      ],
      "text/plain": [
       "                                                importance\n",
       "feature                                                   \n",
       "b_specialisation_c                                   0.001\n",
       "b_specialisation_b                                   0.006\n",
       "b_specialisation_h                                   0.007\n",
       "b_specialisation_a                                   0.008\n",
       "b_specialisation_g                                   0.011\n",
       "q_2017 Average Household Size                        0.018\n",
       "b_specialisation_i                                   0.019\n",
       "q_OpeningDays                                        0.022\n",
       "b_specialisation_j                                   0.023\n",
       "b_specialisation_d                                   0.025\n",
       "b_specialisation_f                                   0.031\n",
       "b_specialisation_e                                   0.035\n",
       "q_OpeningHours                                       0.053\n",
       "q_2017 Total Population                              0.057\n",
       "q_2017 Total Households                              0.064\n",
       "q_2017 HHs: 5th Quintile (68.759 and above)          0.064\n",
       "q_5th Quint by Total HH                              0.070\n",
       "q_2017 Purchasing Power: Per Capita                  0.071\n",
       "q_2017 Pop 15+/Edu: University, Fachhochschule       0.073\n",
       "q_Uni by Total Pop                                   0.079\n",
       "q_2017 Medical Products: Per Capita                  0.081\n",
       "q_2017 Personal Effects: Per Capita                  0.084\n",
       "q_2017 Personal Care: Per Capita                     0.097"
      ]
     },
     "execution_count": 39,
     "metadata": {},
     "output_type": "execute_result"
    }
   ],
   "source": [
    "rfc_importances = pd.DataFrame(\n",
    "    {\"feature\": X_train.columns, \"importance\": np.round(rfc.feature_importances_, 3)}\n",
    ")\n",
    "rfc_importances = rfc_importances.sort_values(\"importance\", ascending=True).set_index(\n",
    "    \"feature\"\n",
    ")\n",
    "rfc_importances"
   ]
  },
  {
   "cell_type": "code",
   "execution_count": 40,
   "id": "1b1ed2df-2027-4495-9f4e-a1d3824eaba4",
   "metadata": {},
   "outputs": [
    {
     "data": {
      "image/png": "[encoded data removed]",
      "text/plain": [
       "<Figure size 1000x1000 with 1 Axes>"
      ]
     },
     "metadata": {},
     "output_type": "display_data"
    }
   ],
   "source": [
    "f, ax = plt.subplots(figsize=(10, 10)) \n",
    "rfc_importances.plot(kind=\"barh\",ax=ax);"
   ]
  },
  {
   "cell_type": "markdown",
   "id": "f2a6ac87-0365-4251-a1a6-0d60ded74ada",
   "metadata": {},
   "source": [
    "#### XGBoost Classifier using Full Data"
   ]
  },
  {
   "cell_type": "code",
   "execution_count": 41,
   "id": "af4710e5-1b14-4987-ba28-e288e539efb7",
   "metadata": {},
   "outputs": [
    {
     "data": {
      "text/plain": [
       "64.6086956521739"
      ]
     },
     "execution_count": 41,
     "metadata": {},
     "output_type": "execute_result"
    }
   ],
   "source": [
    "# scale_pos_weight parameter calcution: sum(negative instances) / sum(positive instances)\n",
    "y_train.value_counts()[0] / y_train.value_counts()[1]"
   ]
  },
  {
   "cell_type": "code",
   "execution_count": 42,
   "id": "6586eea1-fb65-43cc-b1dd-5375de6e5a30",
   "metadata": {},
   "outputs": [
    {
     "data": {
      "text/html": [
       "<style>#sk-container-id-6 {color: black;background-color: white;}#sk-container-id-6 pre{padding: 0;}#sk-container-id-6 div.sk-toggleable {background-color: white;}#sk-container-id-6 label.sk-toggleable__label {cursor: pointer;display: block;width: 100%;margin-bottom: 0;padding: 0.3em;box-sizing: border-box;text-align: center;}#sk-container-id-6 label.sk-toggleable__label-arrow:before {content: \"▸\";float: left;margin-right: 0.25em;color: #696969;}#sk-container-id-6 label.sk-toggleable__label-arrow:hover:before {color: black;}#sk-container-id-6 div.sk-estimator:hover label.sk-toggleable__label-arrow:before {color: black;}#sk-container-id-6 div.sk-toggleable__content {max-height: 0;max-width: 0;overflow: hidden;text-align: left;background-color: #f0f8ff;}#sk-container-id-6 div.sk-toggleable__content pre {margin: 0.2em;color: black;border-radius: 0.25em;background-color: #f0f8ff;}#sk-container-id-6 input.sk-toggleable__control:checked~div.sk-toggleable__content {max-height: 200px;max-width: 100%;overflow: auto;}#sk-container-id-6 input.sk-toggleable__control:checked~label.sk-toggleable__label-arrow:before {content: \"▾\";}#sk-container-id-6 div.sk-estimator input.sk-toggleable__control:checked~label.sk-toggleable__label {background-color: #d4ebff;}#sk-container-id-6 div.sk-label input.sk-toggleable__control:checked~label.sk-toggleable__label {background-color: #d4ebff;}#sk-container-id-6 input.sk-hidden--visually {border: 0;clip: rect(1px 1px 1px 1px);clip: rect(1px, 1px, 1px, 1px);height: 1px;margin: -1px;overflow: hidden;padding: 0;position: absolute;width: 1px;}#sk-container-id-6 div.sk-estimator {font-family: monospace;background-color: #f0f8ff;border: 1px dotted black;border-radius: 0.25em;box-sizing: border-box;margin-bottom: 0.5em;}#sk-container-id-6 div.sk-estimator:hover {background-color: #d4ebff;}#sk-container-id-6 div.sk-parallel-item::after {content: \"\";width: 100%;border-bottom: 1px solid gray;flex-grow: 1;}#sk-container-id-6 div.sk-label:hover label.sk-toggleable__label {background-color: #d4ebff;}#sk-container-id-6 div.sk-serial::before {content: \"\";position: absolute;border-left: 1px solid gray;box-sizing: border-box;top: 0;bottom: 0;left: 50%;z-index: 0;}#sk-container-id-6 div.sk-serial {display: flex;flex-direction: column;align-items: center;background-color: white;padding-right: 0.2em;padding-left: 0.2em;position: relative;}#sk-container-id-6 div.sk-item {position: relative;z-index: 1;}#sk-container-id-6 div.sk-parallel {display: flex;align-items: stretch;justify-content: center;background-color: white;position: relative;}#sk-container-id-6 div.sk-item::before, #sk-container-id-6 div.sk-parallel-item::before {content: \"\";position: absolute;border-left: 1px solid gray;box-sizing: border-box;top: 0;bottom: 0;left: 50%;z-index: -1;}#sk-container-id-6 div.sk-parallel-item {display: flex;flex-direction: column;z-index: 1;position: relative;background-color: white;}#sk-container-id-6 div.sk-parallel-item:first-child::after {align-self: flex-end;width: 50%;}#sk-container-id-6 div.sk-parallel-item:last-child::after {align-self: flex-start;width: 50%;}#sk-container-id-6 div.sk-parallel-item:only-child::after {width: 0;}#sk-container-id-6 div.sk-dashed-wrapped {border: 1px dashed gray;margin: 0 0.4em 0.5em 0.4em;box-sizing: border-box;padding-bottom: 0.4em;background-color: white;}#sk-container-id-6 div.sk-label label {font-family: monospace;font-weight: bold;display: inline-block;line-height: 1.2em;}#sk-container-id-6 div.sk-label-container {text-align: center;}#sk-container-id-6 div.sk-container {/* jupyter's `normalize.less` sets `[hidden] { display: none; }` but bootstrap.min.css set `[hidden] { display: none !important; }` so we also need the `!important` here to be able to override the default hidden behavior on the sphinx rendered scikit-learn.org. See: https://github.com/scikit-learn/scikit-learn/issues/21755 */display: inline-block !important;position: relative;}#sk-container-id-6 div.sk-text-repr-fallback {display: none;}</style><div id=\"sk-container-id-6\" class=\"sk-top-container\"><div class=\"sk-text-repr-fallback\"><pre>XGBClassifier(base_score=None, booster=None, callbacks=None,\n",
       "              colsample_bylevel=None, colsample_bynode=None,\n",
       "              colsample_bytree=None, early_stopping_rounds=None,\n",
       "              enable_categorical=False, eval_metric=None, feature_types=None,\n",
       "              gamma=None, gpu_id=None, grow_policy=None, importance_type=None,\n",
       "              interaction_constraints=None, learning_rate=None, max_bin=None,\n",
       "              max_cat_threshold=None, max_cat_to_onehot=None,\n",
       "              max_delta_step=None, max_depth=None, max_leaves=None,\n",
       "              min_child_weight=None, missing=nan, monotone_constraints=None,\n",
       "              n_estimators=500, n_jobs=None, num_parallel_tree=None,\n",
       "              predictor=None, random_state=42, ...)</pre><b>In a Jupyter environment, please rerun this cell to show the HTML representation or trust the notebook. <br />On GitHub, the HTML representation is unable to render, please try loading this page with nbviewer.org.</b></div><div class=\"sk-container\" hidden><div class=\"sk-item\"><div class=\"sk-estimator sk-toggleable\"><input class=\"sk-toggleable__control sk-hidden--visually\" id=\"sk-estimator-id-19\" type=\"checkbox\" checked><label for=\"sk-estimator-id-19\" class=\"sk-toggleable__label sk-toggleable__label-arrow\">XGBClassifier</label><div class=\"sk-toggleable__content\"><pre>XGBClassifier(base_score=None, booster=None, callbacks=None,\n",
       "              colsample_bylevel=None, colsample_bynode=None,\n",
       "              colsample_bytree=None, early_stopping_rounds=None,\n",
       "              enable_categorical=False, eval_metric=None, feature_types=None,\n",
       "              gamma=None, gpu_id=None, grow_policy=None, importance_type=None,\n",
       "              interaction_constraints=None, learning_rate=None, max_bin=None,\n",
       "              max_cat_threshold=None, max_cat_to_onehot=None,\n",
       "              max_delta_step=None, max_depth=None, max_leaves=None,\n",
       "              min_child_weight=None, missing=nan, monotone_constraints=None,\n",
       "              n_estimators=500, n_jobs=None, num_parallel_tree=None,\n",
       "              predictor=None, random_state=42, ...)</pre></div></div></div></div></div>"
      ],
      "text/plain": [
       "XGBClassifier(base_score=None, booster=None, callbacks=None,\n",
       "              colsample_bylevel=None, colsample_bynode=None,\n",
       "              colsample_bytree=None, early_stopping_rounds=None,\n",
       "              enable_categorical=False, eval_metric=None, feature_types=None,\n",
       "              gamma=None, gpu_id=None, grow_policy=None, importance_type=None,\n",
       "              interaction_constraints=None, learning_rate=None, max_bin=None,\n",
       "              max_cat_threshold=None, max_cat_to_onehot=None,\n",
       "              max_delta_step=None, max_depth=None, max_leaves=None,\n",
       "              min_child_weight=None, missing=nan, monotone_constraints=None,\n",
       "              n_estimators=500, n_jobs=None, num_parallel_tree=None,\n",
       "              predictor=None, random_state=42, ...)"
      ]
     },
     "execution_count": 42,
     "metadata": {},
     "output_type": "execute_result"
    }
   ],
   "source": [
    "xgb = XGBClassifier(scale_pos_weight=65, n_estimators=500, random_state=42)\n",
    "xgb"
   ]
  },
  {
   "cell_type": "code",
   "execution_count": 43,
   "id": "c0dfe129-6124-4112-b22e-dc6072f81838",
   "metadata": {},
   "outputs": [
    {
     "data": {
      "text/html": [
       "<style>#sk-container-id-7 {color: black;background-color: white;}#sk-container-id-7 pre{padding: 0;}#sk-container-id-7 div.sk-toggleable {background-color: white;}#sk-container-id-7 label.sk-toggleable__label {cursor: pointer;display: block;width: 100%;margin-bottom: 0;padding: 0.3em;box-sizing: border-box;text-align: center;}#sk-container-id-7 label.sk-toggleable__label-arrow:before {content: \"▸\";float: left;margin-right: 0.25em;color: #696969;}#sk-container-id-7 label.sk-toggleable__label-arrow:hover:before {color: black;}#sk-container-id-7 div.sk-estimator:hover label.sk-toggleable__label-arrow:before {color: black;}#sk-container-id-7 div.sk-toggleable__content {max-height: 0;max-width: 0;overflow: hidden;text-align: left;background-color: #f0f8ff;}#sk-container-id-7 div.sk-toggleable__content pre {margin: 0.2em;color: black;border-radius: 0.25em;background-color: #f0f8ff;}#sk-container-id-7 input.sk-toggleable__control:checked~div.sk-toggleable__content {max-height: 200px;max-width: 100%;overflow: auto;}#sk-container-id-7 input.sk-toggleable__control:checked~label.sk-toggleable__label-arrow:before {content: \"▾\";}#sk-container-id-7 div.sk-estimator input.sk-toggleable__control:checked~label.sk-toggleable__label {background-color: #d4ebff;}#sk-container-id-7 div.sk-label input.sk-toggleable__control:checked~label.sk-toggleable__label {background-color: #d4ebff;}#sk-container-id-7 input.sk-hidden--visually {border: 0;clip: rect(1px 1px 1px 1px);clip: rect(1px, 1px, 1px, 1px);height: 1px;margin: -1px;overflow: hidden;padding: 0;position: absolute;width: 1px;}#sk-container-id-7 div.sk-estimator {font-family: monospace;background-color: #f0f8ff;border: 1px dotted black;border-radius: 0.25em;box-sizing: border-box;margin-bottom: 0.5em;}#sk-container-id-7 div.sk-estimator:hover {background-color: #d4ebff;}#sk-container-id-7 div.sk-parallel-item::after {content: \"\";width: 100%;border-bottom: 1px solid gray;flex-grow: 1;}#sk-container-id-7 div.sk-label:hover label.sk-toggleable__label {background-color: #d4ebff;}#sk-container-id-7 div.sk-serial::before {content: \"\";position: absolute;border-left: 1px solid gray;box-sizing: border-box;top: 0;bottom: 0;left: 50%;z-index: 0;}#sk-container-id-7 div.sk-serial {display: flex;flex-direction: column;align-items: center;background-color: white;padding-right: 0.2em;padding-left: 0.2em;position: relative;}#sk-container-id-7 div.sk-item {position: relative;z-index: 1;}#sk-container-id-7 div.sk-parallel {display: flex;align-items: stretch;justify-content: center;background-color: white;position: relative;}#sk-container-id-7 div.sk-item::before, #sk-container-id-7 div.sk-parallel-item::before {content: \"\";position: absolute;border-left: 1px solid gray;box-sizing: border-box;top: 0;bottom: 0;left: 50%;z-index: -1;}#sk-container-id-7 div.sk-parallel-item {display: flex;flex-direction: column;z-index: 1;position: relative;background-color: white;}#sk-container-id-7 div.sk-parallel-item:first-child::after {align-self: flex-end;width: 50%;}#sk-container-id-7 div.sk-parallel-item:last-child::after {align-self: flex-start;width: 50%;}#sk-container-id-7 div.sk-parallel-item:only-child::after {width: 0;}#sk-container-id-7 div.sk-dashed-wrapped {border: 1px dashed gray;margin: 0 0.4em 0.5em 0.4em;box-sizing: border-box;padding-bottom: 0.4em;background-color: white;}#sk-container-id-7 div.sk-label label {font-family: monospace;font-weight: bold;display: inline-block;line-height: 1.2em;}#sk-container-id-7 div.sk-label-container {text-align: center;}#sk-container-id-7 div.sk-container {/* jupyter's `normalize.less` sets `[hidden] { display: none; }` but bootstrap.min.css set `[hidden] { display: none !important; }` so we also need the `!important` here to be able to override the default hidden behavior on the sphinx rendered scikit-learn.org. See: https://github.com/scikit-learn/scikit-learn/issues/21755 */display: inline-block !important;position: relative;}#sk-container-id-7 div.sk-text-repr-fallback {display: none;}</style><div id=\"sk-container-id-7\" class=\"sk-top-container\"><div class=\"sk-text-repr-fallback\"><pre>Pipeline(steps=[(&#x27;knn_imputer&#x27;, KNNImputer()), (&#x27;scaler&#x27;, StandardScaler()),\n",
       "                (&#x27;model&#x27;,\n",
       "                 XGBClassifier(base_score=None, booster=None, callbacks=None,\n",
       "                               colsample_bylevel=None, colsample_bynode=None,\n",
       "                               colsample_bytree=None,\n",
       "                               early_stopping_rounds=None,\n",
       "                               enable_categorical=False, eval_metric=None,\n",
       "                               feature_types=None, gamma=None, gpu_id=None,\n",
       "                               grow_policy=None, importance_type=None,\n",
       "                               interaction_constraints=None, learning_rate=None,\n",
       "                               max_bin=None, max_cat_threshold=None,\n",
       "                               max_cat_to_onehot=None, max_delta_step=None,\n",
       "                               max_depth=None, max_leaves=None,\n",
       "                               min_child_weight=None, missing=nan,\n",
       "                               monotone_constraints=None, n_estimators=500,\n",
       "                               n_jobs=None, num_parallel_tree=None,\n",
       "                               predictor=None, random_state=42, ...))])</pre><b>In a Jupyter environment, please rerun this cell to show the HTML representation or trust the notebook. <br />On GitHub, the HTML representation is unable to render, please try loading this page with nbviewer.org.</b></div><div class=\"sk-container\" hidden><div class=\"sk-item sk-dashed-wrapped\"><div class=\"sk-label-container\"><div class=\"sk-label sk-toggleable\"><input class=\"sk-toggleable__control sk-hidden--visually\" id=\"sk-estimator-id-20\" type=\"checkbox\" ><label for=\"sk-estimator-id-20\" class=\"sk-toggleable__label sk-toggleable__label-arrow\">Pipeline</label><div class=\"sk-toggleable__content\"><pre>Pipeline(steps=[(&#x27;knn_imputer&#x27;, KNNImputer()), (&#x27;scaler&#x27;, StandardScaler()),\n",
       "                (&#x27;model&#x27;,\n",
       "                 XGBClassifier(base_score=None, booster=None, callbacks=None,\n",
       "                               colsample_bylevel=None, colsample_bynode=None,\n",
       "                               colsample_bytree=None,\n",
       "                               early_stopping_rounds=None,\n",
       "                               enable_categorical=False, eval_metric=None,\n",
       "                               feature_types=None, gamma=None, gpu_id=None,\n",
       "                               grow_policy=None, importance_type=None,\n",
       "                               interaction_constraints=None, learning_rate=None,\n",
       "                               max_bin=None, max_cat_threshold=None,\n",
       "                               max_cat_to_onehot=None, max_delta_step=None,\n",
       "                               max_depth=None, max_leaves=None,\n",
       "                               min_child_weight=None, missing=nan,\n",
       "                               monotone_constraints=None, n_estimators=500,\n",
       "                               n_jobs=None, num_parallel_tree=None,\n",
       "                               predictor=None, random_state=42, ...))])</pre></div></div></div><div class=\"sk-serial\"><div class=\"sk-item\"><div class=\"sk-estimator sk-toggleable\"><input class=\"sk-toggleable__control sk-hidden--visually\" id=\"sk-estimator-id-21\" type=\"checkbox\" ><label for=\"sk-estimator-id-21\" class=\"sk-toggleable__label sk-toggleable__label-arrow\">KNNImputer</label><div class=\"sk-toggleable__content\"><pre>KNNImputer()</pre></div></div></div><div class=\"sk-item\"><div class=\"sk-estimator sk-toggleable\"><input class=\"sk-toggleable__control sk-hidden--visually\" id=\"sk-estimator-id-22\" type=\"checkbox\" ><label for=\"sk-estimator-id-22\" class=\"sk-toggleable__label sk-toggleable__label-arrow\">StandardScaler</label><div class=\"sk-toggleable__content\"><pre>StandardScaler()</pre></div></div></div><div class=\"sk-item\"><div class=\"sk-estimator sk-toggleable\"><input class=\"sk-toggleable__control sk-hidden--visually\" id=\"sk-estimator-id-23\" type=\"checkbox\" ><label for=\"sk-estimator-id-23\" class=\"sk-toggleable__label sk-toggleable__label-arrow\">XGBClassifier</label><div class=\"sk-toggleable__content\"><pre>XGBClassifier(base_score=None, booster=None, callbacks=None,\n",
       "              colsample_bylevel=None, colsample_bynode=None,\n",
       "              colsample_bytree=None, early_stopping_rounds=None,\n",
       "              enable_categorical=False, eval_metric=None, feature_types=None,\n",
       "              gamma=None, gpu_id=None, grow_policy=None, importance_type=None,\n",
       "              interaction_constraints=None, learning_rate=None, max_bin=None,\n",
       "              max_cat_threshold=None, max_cat_to_onehot=None,\n",
       "              max_delta_step=None, max_depth=None, max_leaves=None,\n",
       "              min_child_weight=None, missing=nan, monotone_constraints=None,\n",
       "              n_estimators=500, n_jobs=None, num_parallel_tree=None,\n",
       "              predictor=None, random_state=42, ...)</pre></div></div></div></div></div></div></div>"
      ],
      "text/plain": [
       "Pipeline(steps=[('knn_imputer', KNNImputer()), ('scaler', StandardScaler()),\n",
       "                ('model',\n",
       "                 XGBClassifier(base_score=None, booster=None, callbacks=None,\n",
       "                               colsample_bylevel=None, colsample_bynode=None,\n",
       "                               colsample_bytree=None,\n",
       "                               early_stopping_rounds=None,\n",
       "                               enable_categorical=False, eval_metric=None,\n",
       "                               feature_types=None, gamma=None, gpu_id=None,\n",
       "                               grow_policy=None, importance_type=None,\n",
       "                               interaction_constraints=None, learning_rate=None,\n",
       "                               max_bin=None, max_cat_threshold=None,\n",
       "                               max_cat_to_onehot=None, max_delta_step=None,\n",
       "                               max_depth=None, max_leaves=None,\n",
       "                               min_child_weight=None, missing=nan,\n",
       "                               monotone_constraints=None, n_estimators=500,\n",
       "                               n_jobs=None, num_parallel_tree=None,\n",
       "                               predictor=None, random_state=42, ...))])"
      ]
     },
     "execution_count": 43,
     "metadata": {},
     "output_type": "execute_result"
    }
   ],
   "source": [
    "pipeline_xgb = Pipeline([(\"knn_imputer\", KNNImputer(n_neighbors=5).set_output(transform=\"pandas\")),\n",
    "                         (\"scaler\", StandardScaler()),\n",
    "                         (\"model\", xgb)])\n",
    "pipeline_xgb"
   ]
  },
  {
   "cell_type": "code",
   "execution_count": 44,
   "id": "91032e30-95b8-4b93-a6e0-95cd6093a205",
   "metadata": {},
   "outputs": [],
   "source": [
    "model_name = \"XGBoost (X full)\"\n",
    "\n",
    "pipeline_xgb.fit(X_train, y_train)\n",
    "pred_xgb = pipeline_xgb.predict(X_test)\n",
    "scores[model_name] = f1_score(y_test, pred_rfc)"
   ]
  },
  {
   "cell_type": "code",
   "execution_count": 45,
   "id": "1e6c6a97-e009-4948-a229-a68c5cd6d605",
   "metadata": {},
   "outputs": [
    {
     "name": "stdout",
     "output_type": "stream",
     "text": [
      "              precision    recall  f1-score   support\n",
      "\n",
      "           0       0.99      1.00      0.99       744\n",
      "           1       0.00      0.00      0.00        11\n",
      "\n",
      "    accuracy                           0.99       755\n",
      "   macro avg       0.49      0.50      0.50       755\n",
      "weighted avg       0.97      0.99      0.98       755\n",
      "\n"
     ]
    },
    {
     "name": "stderr",
     "output_type": "stream",
     "text": [
      "/home/ria/apps/miniconda3/envs/MLG/lib/python3.10/site-packages/sklearn/metrics/_classification.py:1344: UndefinedMetricWarning: Precision and F-score are ill-defined and being set to 0.0 in labels with no predicted samples. Use `zero_division` parameter to control this behavior.\n",
      "  _warn_prf(average, modifier, msg_start, len(result))\n",
      "/home/ria/apps/miniconda3/envs/MLG/lib/python3.10/site-packages/sklearn/metrics/_classification.py:1344: UndefinedMetricWarning: Precision and F-score are ill-defined and being set to 0.0 in labels with no predicted samples. Use `zero_division` parameter to control this behavior.\n",
      "  _warn_prf(average, modifier, msg_start, len(result))\n",
      "/home/ria/apps/miniconda3/envs/MLG/lib/python3.10/site-packages/sklearn/metrics/_classification.py:1344: UndefinedMetricWarning: Precision and F-score are ill-defined and being set to 0.0 in labels with no predicted samples. Use `zero_division` parameter to control this behavior.\n",
      "  _warn_prf(average, modifier, msg_start, len(result))\n"
     ]
    }
   ],
   "source": [
    "print(classification_report(y_test, pred_rfc))"
   ]
  },
  {
   "cell_type": "code",
   "execution_count": 46,
   "id": "b8502a47-86dd-467c-bb19-3d9fde04816f",
   "metadata": {},
   "outputs": [
    {
     "name": "stdout",
     "output_type": "stream",
     "text": [
      "[[744   0]\n",
      " [ 11   0]]\n"
     ]
    }
   ],
   "source": [
    "print(confusion_matrix(y_test, pred_rfc, labels=[0, 1]))"
   ]
  },
  {
   "cell_type": "code",
   "execution_count": 47,
   "id": "5f6ab321-db47-4ed0-9168-dbee2a76d3f8",
   "metadata": {},
   "outputs": [
    {
     "name": "stdout",
     "output_type": "stream",
     "text": [
      "Logistic: ROC AUC=0.658\n"
     ]
    },
    {
     "data": {
      "image/png": "[encoded data removed]",
      "text/plain": [
       "<Figure size 640x480 with 1 Axes>"
      ]
     },
     "metadata": {},
     "output_type": "display_data"
    }
   ],
   "source": [
    "proba_preds_xgb = pipeline_xgb.predict_proba(X_test)[:, 1]\n",
    "plot_roc(y_test, proba_preds_xgb, model_name=model_name)"
   ]
  },
  {
   "cell_type": "markdown",
   "id": "06b4f6f1-32e0-4680-9f8f-d5b6a933005c",
   "metadata": {},
   "source": [
    "#### Feature importance from the XGBoost Model"
   ]
  },
  {
   "cell_type": "code",
   "execution_count": 49,
   "id": "76f4e5b3-5d47-42dd-9d25-db4ac0fc159a",
   "metadata": {},
   "outputs": [
    {
     "data": {
      "text/plain": [
       "array([0.09001559, 0.03533258, 0.02505949, 0.07553358, 0.21648453,\n",
       "       0.1297177 , 0.        , 0.0247237 , 0.02610716, 0.03769668,\n",
       "       0.01818496, 0.02305949, 0.00394311, 0.03522763, 0.02395237,\n",
       "       0.0098686 , 0.01650915, 0.02144909, 0.05093203, 0.01823268,\n",
       "       0.05473837, 0.02530329, 0.03792832], dtype=float32)"
      ]
     },
     "execution_count": 49,
     "metadata": {},
     "output_type": "execute_result"
    }
   ],
   "source": [
    "xgb.feature_importances_"
   ]
  },
  {
   "cell_type": "code",
   "execution_count": 50,
   "id": "a3861cb6-3a1d-46f1-9641-21ab4df0475e",
   "metadata": {},
   "outputs": [
    {
     "data": {
      "text/html": [
       "<div>\n",
       "<style scoped>\n",
       "    .dataframe tbody tr th:only-of-type {\n",
       "        vertical-align: middle;\n",
       "    }\n",
       "\n",
       "    .dataframe tbody tr th {\n",
       "        vertical-align: top;\n",
       "    }\n",
       "\n",
       "    .dataframe thead th {\n",
       "        text-align: right;\n",
       "    }\n",
       "</style>\n",
       "<table border=\"1\" class=\"dataframe\">\n",
       "  <thead>\n",
       "    <tr style=\"text-align: right;\">\n",
       "      <th></th>\n",
       "      <th>importance</th>\n",
       "    </tr>\n",
       "    <tr>\n",
       "      <th>feature</th>\n",
       "      <th></th>\n",
       "    </tr>\n",
       "  </thead>\n",
       "  <tbody>\n",
       "    <tr>\n",
       "      <th>b_specialisation_c</th>\n",
       "      <td>0.000</td>\n",
       "    </tr>\n",
       "    <tr>\n",
       "      <th>q_2017 Average Household Size</th>\n",
       "      <td>0.004</td>\n",
       "    </tr>\n",
       "    <tr>\n",
       "      <th>q_5th Quint by Total HH</th>\n",
       "      <td>0.010</td>\n",
       "    </tr>\n",
       "    <tr>\n",
       "      <th>q_2017 Purchasing Power: Per Capita</th>\n",
       "      <td>0.017</td>\n",
       "    </tr>\n",
       "    <tr>\n",
       "      <th>q_Uni by Total Pop</th>\n",
       "      <td>0.018</td>\n",
       "    </tr>\n",
       "    <tr>\n",
       "      <th>q_OpeningDays</th>\n",
       "      <td>0.018</td>\n",
       "    </tr>\n",
       "    <tr>\n",
       "      <th>q_2017 Total Population</th>\n",
       "      <td>0.021</td>\n",
       "    </tr>\n",
       "    <tr>\n",
       "      <th>q_OpeningHours</th>\n",
       "      <td>0.023</td>\n",
       "    </tr>\n",
       "    <tr>\n",
       "      <th>q_2017 HHs: 5th Quintile (68.759 and above)</th>\n",
       "      <td>0.024</td>\n",
       "    </tr>\n",
       "    <tr>\n",
       "      <th>b_specialisation_g</th>\n",
       "      <td>0.025</td>\n",
       "    </tr>\n",
       "    <tr>\n",
       "      <th>b_specialisation_b</th>\n",
       "      <td>0.025</td>\n",
       "    </tr>\n",
       "    <tr>\n",
       "      <th>q_2017 Medical Products: Per Capita</th>\n",
       "      <td>0.025</td>\n",
       "    </tr>\n",
       "    <tr>\n",
       "      <th>b_specialisation_a</th>\n",
       "      <td>0.026</td>\n",
       "    </tr>\n",
       "    <tr>\n",
       "      <th>b_specialisation_h</th>\n",
       "      <td>0.035</td>\n",
       "    </tr>\n",
       "    <tr>\n",
       "      <th>q_2017 Total Households</th>\n",
       "      <td>0.035</td>\n",
       "    </tr>\n",
       "    <tr>\n",
       "      <th>q_2017 Personal Effects: Per Capita</th>\n",
       "      <td>0.038</td>\n",
       "    </tr>\n",
       "    <tr>\n",
       "      <th>b_specialisation_j</th>\n",
       "      <td>0.038</td>\n",
       "    </tr>\n",
       "    <tr>\n",
       "      <th>q_2017 Pop 15+/Edu: University, Fachhochschule</th>\n",
       "      <td>0.051</td>\n",
       "    </tr>\n",
       "    <tr>\n",
       "      <th>q_2017 Personal Care: Per Capita</th>\n",
       "      <td>0.055</td>\n",
       "    </tr>\n",
       "    <tr>\n",
       "      <th>b_specialisation_f</th>\n",
       "      <td>0.076</td>\n",
       "    </tr>\n",
       "    <tr>\n",
       "      <th>b_specialisation_i</th>\n",
       "      <td>0.090</td>\n",
       "    </tr>\n",
       "    <tr>\n",
       "      <th>b_specialisation_d</th>\n",
       "      <td>0.130</td>\n",
       "    </tr>\n",
       "    <tr>\n",
       "      <th>b_specialisation_e</th>\n",
       "      <td>0.216</td>\n",
       "    </tr>\n",
       "  </tbody>\n",
       "</table>\n",
       "</div>"
      ],
      "text/plain": [
       "                                                importance\n",
       "feature                                                   \n",
       "b_specialisation_c                                   0.000\n",
       "q_2017 Average Household Size                        0.004\n",
       "q_5th Quint by Total HH                              0.010\n",
       "q_2017 Purchasing Power: Per Capita                  0.017\n",
       "q_Uni by Total Pop                                   0.018\n",
       "q_OpeningDays                                        0.018\n",
       "q_2017 Total Population                              0.021\n",
       "q_OpeningHours                                       0.023\n",
       "q_2017 HHs: 5th Quintile (68.759 and above)          0.024\n",
       "b_specialisation_g                                   0.025\n",
       "b_specialisation_b                                   0.025\n",
       "q_2017 Medical Products: Per Capita                  0.025\n",
       "b_specialisation_a                                   0.026\n",
       "b_specialisation_h                                   0.035\n",
       "q_2017 Total Households                              0.035\n",
       "q_2017 Personal Effects: Per Capita                  0.038\n",
       "b_specialisation_j                                   0.038\n",
       "q_2017 Pop 15+/Edu: University, Fachhochschule       0.051\n",
       "q_2017 Personal Care: Per Capita                     0.055\n",
       "b_specialisation_f                                   0.076\n",
       "b_specialisation_i                                   0.090\n",
       "b_specialisation_d                                   0.130\n",
       "b_specialisation_e                                   0.216"
      ]
     },
     "execution_count": 50,
     "metadata": {},
     "output_type": "execute_result"
    }
   ],
   "source": [
    "xgb_importances = pd.DataFrame(\n",
    "    {\"feature\": X_train.columns, \"importance\": np.round(xgb.feature_importances_, 3)}\n",
    ")\n",
    "xgb_importances = xgb_importances.sort_values(\"importance\", ascending=True).set_index(\n",
    "    \"feature\"\n",
    ")\n",
    "xgb_importances"
   ]
  },
  {
   "cell_type": "code",
   "execution_count": 51,
   "id": "7ca6ce54-29ce-4daf-87aa-2d7fad6eba17",
   "metadata": {},
   "outputs": [
    {
     "data": {
      "image/png": "[encoded data removed]",
      "text/plain": [
       "<Figure size 1000x1000 with 1 Axes>"
      ]
     },
     "metadata": {},
     "output_type": "display_data"
    }
   ],
   "source": [
    "f, ax = plt.subplots(figsize=(10, 10)) \n",
    "xgb_importances.plot(kind=\"barh\",ax=ax);"
   ]
  },
  {
   "cell_type": "markdown",
   "id": "b939ffb2-3a6b-4336-8fee-2b39778ce270",
   "metadata": {},
   "source": [
    "### Conclusions\n",
    "* Most of the features have low importance scores and their order by importance is different between Random Forest and XgBoost.\n",
    "* The low performance of the models with balancing techniques on the minority class and the low feature importances indicate that the data might have been synthetically generated.\n",
    "* One approach that usually help to improve the performance is to to reduce the features based on their importance and then train models using only the more important features.\n",
    "* Next, I am selecting features with XGboost-importance above 0.02 based on the plot above and using them to train multiple classification models using low-code library, PyCaret, in the following notebook: `customer_lead_generator_modelling_pycaret.ipynb`.\n",
    "* I also tried to do automatic feature reduction based on multicollinearity using PyCaret, but no model was significantly better then logistic regression models trained above.\n",
    "* Besides the high class imbalance, another problem with the data is small sample size, especially for the minority class. Increasing the sample size would improve the ability of the modelling algorithms to learn patterns from the data and better generalize to new data, leading to more accurate predictions."
   ]
  },
  {
   "cell_type": "code",
   "execution_count": 52,
   "id": "7b8218fd-fb80-4654-a65b-be15d438859c",
   "metadata": {},
   "outputs": [
    {
     "name": "stdout",
     "output_type": "stream",
     "text": [
      "17\n"
     ]
    },
    {
     "data": {
      "text/html": [
       "<div>\n",
       "<style scoped>\n",
       "    .dataframe tbody tr th:only-of-type {\n",
       "        vertical-align: middle;\n",
       "    }\n",
       "\n",
       "    .dataframe tbody tr th {\n",
       "        vertical-align: top;\n",
       "    }\n",
       "\n",
       "    .dataframe thead th {\n",
       "        text-align: right;\n",
       "    }\n",
       "</style>\n",
       "<table border=\"1\" class=\"dataframe\">\n",
       "  <thead>\n",
       "    <tr style=\"text-align: right;\">\n",
       "      <th></th>\n",
       "      <th>importance</th>\n",
       "    </tr>\n",
       "    <tr>\n",
       "      <th>feature</th>\n",
       "      <th></th>\n",
       "    </tr>\n",
       "  </thead>\n",
       "  <tbody>\n",
       "    <tr>\n",
       "      <th>b_specialisation_e</th>\n",
       "      <td>0.216</td>\n",
       "    </tr>\n",
       "    <tr>\n",
       "      <th>b_specialisation_d</th>\n",
       "      <td>0.130</td>\n",
       "    </tr>\n",
       "    <tr>\n",
       "      <th>b_specialisation_i</th>\n",
       "      <td>0.090</td>\n",
       "    </tr>\n",
       "    <tr>\n",
       "      <th>b_specialisation_f</th>\n",
       "      <td>0.076</td>\n",
       "    </tr>\n",
       "    <tr>\n",
       "      <th>q_2017 Personal Care: Per Capita</th>\n",
       "      <td>0.055</td>\n",
       "    </tr>\n",
       "    <tr>\n",
       "      <th>q_2017 Pop 15+/Edu: University, Fachhochschule</th>\n",
       "      <td>0.051</td>\n",
       "    </tr>\n",
       "    <tr>\n",
       "      <th>q_2017 Personal Effects: Per Capita</th>\n",
       "      <td>0.038</td>\n",
       "    </tr>\n",
       "    <tr>\n",
       "      <th>b_specialisation_j</th>\n",
       "      <td>0.038</td>\n",
       "    </tr>\n",
       "    <tr>\n",
       "      <th>q_2017 Total Households</th>\n",
       "      <td>0.035</td>\n",
       "    </tr>\n",
       "    <tr>\n",
       "      <th>b_specialisation_h</th>\n",
       "      <td>0.035</td>\n",
       "    </tr>\n",
       "    <tr>\n",
       "      <th>b_specialisation_a</th>\n",
       "      <td>0.026</td>\n",
       "    </tr>\n",
       "    <tr>\n",
       "      <th>q_2017 Medical Products: Per Capita</th>\n",
       "      <td>0.025</td>\n",
       "    </tr>\n",
       "    <tr>\n",
       "      <th>b_specialisation_b</th>\n",
       "      <td>0.025</td>\n",
       "    </tr>\n",
       "    <tr>\n",
       "      <th>b_specialisation_g</th>\n",
       "      <td>0.025</td>\n",
       "    </tr>\n",
       "    <tr>\n",
       "      <th>q_2017 HHs: 5th Quintile (68.759 and above)</th>\n",
       "      <td>0.024</td>\n",
       "    </tr>\n",
       "    <tr>\n",
       "      <th>q_OpeningHours</th>\n",
       "      <td>0.023</td>\n",
       "    </tr>\n",
       "    <tr>\n",
       "      <th>q_2017 Total Population</th>\n",
       "      <td>0.021</td>\n",
       "    </tr>\n",
       "  </tbody>\n",
       "</table>\n",
       "</div>"
      ],
      "text/plain": [
       "                                                importance\n",
       "feature                                                   \n",
       "b_specialisation_e                                   0.216\n",
       "b_specialisation_d                                   0.130\n",
       "b_specialisation_i                                   0.090\n",
       "b_specialisation_f                                   0.076\n",
       "q_2017 Personal Care: Per Capita                     0.055\n",
       "q_2017 Pop 15+/Edu: University, Fachhochschule       0.051\n",
       "q_2017 Personal Effects: Per Capita                  0.038\n",
       "b_specialisation_j                                   0.038\n",
       "q_2017 Total Households                              0.035\n",
       "b_specialisation_h                                   0.035\n",
       "b_specialisation_a                                   0.026\n",
       "q_2017 Medical Products: Per Capita                  0.025\n",
       "b_specialisation_b                                   0.025\n",
       "b_specialisation_g                                   0.025\n",
       "q_2017 HHs: 5th Quintile (68.759 and above)          0.024\n",
       "q_OpeningHours                                       0.023\n",
       "q_2017 Total Population                              0.021"
      ]
     },
     "execution_count": 52,
     "metadata": {},
     "output_type": "execute_result"
    }
   ],
   "source": [
    "important_features = xgb_importances[xgb_importances.importance > 0.02].sort_values(\"importance\", ascending=False)\n",
    "print(len(important_features))\n",
    "important_features"
   ]
  },
  {
   "cell_type": "code",
   "execution_count": 53,
   "id": "595eb6de-98f4-4f4d-b50b-c8deff32c2b0",
   "metadata": {},
   "outputs": [
    {
     "data": {
      "text/html": [
       "<div>\n",
       "<style scoped>\n",
       "    .dataframe tbody tr th:only-of-type {\n",
       "        vertical-align: middle;\n",
       "    }\n",
       "\n",
       "    .dataframe tbody tr th {\n",
       "        vertical-align: top;\n",
       "    }\n",
       "\n",
       "    .dataframe thead th {\n",
       "        text-align: right;\n",
       "    }\n",
       "</style>\n",
       "<table border=\"1\" class=\"dataframe\">\n",
       "  <thead>\n",
       "    <tr style=\"text-align: right;\">\n",
       "      <th></th>\n",
       "      <th>b_specialisation_e</th>\n",
       "      <th>b_specialisation_d</th>\n",
       "      <th>b_specialisation_i</th>\n",
       "      <th>b_specialisation_f</th>\n",
       "      <th>q_2017 Personal Care: Per Capita</th>\n",
       "      <th>q_2017 Pop 15+/Edu: University, Fachhochschule</th>\n",
       "      <th>q_2017 Personal Effects: Per Capita</th>\n",
       "      <th>b_specialisation_j</th>\n",
       "      <th>q_2017 Total Households</th>\n",
       "      <th>b_specialisation_h</th>\n",
       "      <th>b_specialisation_a</th>\n",
       "      <th>q_2017 Medical Products: Per Capita</th>\n",
       "      <th>b_specialisation_b</th>\n",
       "      <th>b_specialisation_g</th>\n",
       "      <th>q_2017 HHs: 5th Quintile (68.759 and above)</th>\n",
       "      <th>q_OpeningHours</th>\n",
       "      <th>q_2017 Total Population</th>\n",
       "    </tr>\n",
       "  </thead>\n",
       "  <tbody>\n",
       "    <tr>\n",
       "      <th>1475</th>\n",
       "      <td>1</td>\n",
       "      <td>0</td>\n",
       "      <td>0</td>\n",
       "      <td>0</td>\n",
       "      <td>592.36</td>\n",
       "      <td>322983</td>\n",
       "      <td>234.87</td>\n",
       "      <td>0</td>\n",
       "      <td>1047901</td>\n",
       "      <td>1</td>\n",
       "      <td>0</td>\n",
       "      <td>325.87</td>\n",
       "      <td>0</td>\n",
       "      <td>1</td>\n",
       "      <td>193787</td>\n",
       "      <td>20.0</td>\n",
       "      <td>2198616</td>\n",
       "    </tr>\n",
       "    <tr>\n",
       "      <th>65</th>\n",
       "      <td>0</td>\n",
       "      <td>0</td>\n",
       "      <td>0</td>\n",
       "      <td>0</td>\n",
       "      <td>589.09</td>\n",
       "      <td>69464</td>\n",
       "      <td>237.50</td>\n",
       "      <td>0</td>\n",
       "      <td>211946</td>\n",
       "      <td>0</td>\n",
       "      <td>0</td>\n",
       "      <td>326.34</td>\n",
       "      <td>0</td>\n",
       "      <td>1</td>\n",
       "      <td>42641</td>\n",
       "      <td>0.0</td>\n",
       "      <td>454573</td>\n",
       "    </tr>\n",
       "    <tr>\n",
       "      <th>2226</th>\n",
       "      <td>1</td>\n",
       "      <td>0</td>\n",
       "      <td>0</td>\n",
       "      <td>0</td>\n",
       "      <td>590.05</td>\n",
       "      <td>291043</td>\n",
       "      <td>232.02</td>\n",
       "      <td>1</td>\n",
       "      <td>962669</td>\n",
       "      <td>1</td>\n",
       "      <td>0</td>\n",
       "      <td>323.33</td>\n",
       "      <td>0</td>\n",
       "      <td>1</td>\n",
       "      <td>173260</td>\n",
       "      <td>0.0</td>\n",
       "      <td>2015517</td>\n",
       "    </tr>\n",
       "    <tr>\n",
       "      <th>2034</th>\n",
       "      <td>1</td>\n",
       "      <td>0</td>\n",
       "      <td>1</td>\n",
       "      <td>1</td>\n",
       "      <td>564.32</td>\n",
       "      <td>18344</td>\n",
       "      <td>238.39</td>\n",
       "      <td>0</td>\n",
       "      <td>109185</td>\n",
       "      <td>0</td>\n",
       "      <td>0</td>\n",
       "      <td>330.21</td>\n",
       "      <td>0</td>\n",
       "      <td>0</td>\n",
       "      <td>22659</td>\n",
       "      <td>27.0</td>\n",
       "      <td>254994</td>\n",
       "    </tr>\n",
       "    <tr>\n",
       "      <th>2643</th>\n",
       "      <td>0</td>\n",
       "      <td>0</td>\n",
       "      <td>0</td>\n",
       "      <td>0</td>\n",
       "      <td>592.58</td>\n",
       "      <td>38724</td>\n",
       "      <td>252.89</td>\n",
       "      <td>0</td>\n",
       "      <td>151203</td>\n",
       "      <td>0</td>\n",
       "      <td>0</td>\n",
       "      <td>341.76</td>\n",
       "      <td>0</td>\n",
       "      <td>0</td>\n",
       "      <td>33686</td>\n",
       "      <td>20.0</td>\n",
       "      <td>335485</td>\n",
       "    </tr>\n",
       "  </tbody>\n",
       "</table>\n",
       "</div>"
      ],
      "text/plain": [
       "      b_specialisation_e  b_specialisation_d  b_specialisation_i  \\\n",
       "1475                   1                   0                   0   \n",
       "65                     0                   0                   0   \n",
       "2226                   1                   0                   0   \n",
       "2034                   1                   0                   1   \n",
       "2643                   0                   0                   0   \n",
       "\n",
       "      b_specialisation_f  q_2017 Personal Care: Per Capita  \\\n",
       "1475                   0                            592.36   \n",
       "65                     0                            589.09   \n",
       "2226                   0                            590.05   \n",
       "2034                   1                            564.32   \n",
       "2643                   0                            592.58   \n",
       "\n",
       "      q_2017 Pop 15+/Edu: University, Fachhochschule  \\\n",
       "1475                                          322983   \n",
       "65                                             69464   \n",
       "2226                                          291043   \n",
       "2034                                           18344   \n",
       "2643                                           38724   \n",
       "\n",
       "      q_2017 Personal Effects: Per Capita  b_specialisation_j  \\\n",
       "1475                               234.87                   0   \n",
       "65                                 237.50                   0   \n",
       "2226                               232.02                   1   \n",
       "2034                               238.39                   0   \n",
       "2643                               252.89                   0   \n",
       "\n",
       "      q_2017 Total Households  b_specialisation_h  b_specialisation_a  \\\n",
       "1475                  1047901                   1                   0   \n",
       "65                     211946                   0                   0   \n",
       "2226                   962669                   1                   0   \n",
       "2034                   109185                   0                   0   \n",
       "2643                   151203                   0                   0   \n",
       "\n",
       "      q_2017 Medical Products: Per Capita  b_specialisation_b  \\\n",
       "1475                               325.87                   0   \n",
       "65                                 326.34                   0   \n",
       "2226                               323.33                   0   \n",
       "2034                               330.21                   0   \n",
       "2643                               341.76                   0   \n",
       "\n",
       "      b_specialisation_g  q_2017 HHs: 5th Quintile (68.759 and above)  \\\n",
       "1475                   1                                       193787   \n",
       "65                     1                                        42641   \n",
       "2226                   1                                       173260   \n",
       "2034                   0                                        22659   \n",
       "2643                   0                                        33686   \n",
       "\n",
       "      q_OpeningHours  q_2017 Total Population  \n",
       "1475            20.0                  2198616  \n",
       "65               0.0                   454573  \n",
       "2226             0.0                  2015517  \n",
       "2034            27.0                   254994  \n",
       "2643            20.0                   335485  "
      ]
     },
     "execution_count": 53,
     "metadata": {},
     "output_type": "execute_result"
    }
   ],
   "source": [
    "# Select only those important columns in train and test set\n",
    "columns = important_features.index.values\n",
    "X_train_selected = X_train.loc[:, columns]\n",
    "X_train_selected.head()"
   ]
  },
  {
   "cell_type": "code",
   "execution_count": 54,
   "id": "b6d8b322-f060-4a55-b913-d50183321023",
   "metadata": {},
   "outputs": [
    {
     "data": {
      "text/html": [
       "<div>\n",
       "<style scoped>\n",
       "    .dataframe tbody tr th:only-of-type {\n",
       "        vertical-align: middle;\n",
       "    }\n",
       "\n",
       "    .dataframe tbody tr th {\n",
       "        vertical-align: top;\n",
       "    }\n",
       "\n",
       "    .dataframe thead th {\n",
       "        text-align: right;\n",
       "    }\n",
       "</style>\n",
       "<table border=\"1\" class=\"dataframe\">\n",
       "  <thead>\n",
       "    <tr style=\"text-align: right;\">\n",
       "      <th></th>\n",
       "      <th>b_specialisation_e</th>\n",
       "      <th>b_specialisation_d</th>\n",
       "      <th>b_specialisation_i</th>\n",
       "      <th>b_specialisation_f</th>\n",
       "      <th>q_2017 Personal Care: Per Capita</th>\n",
       "      <th>q_2017 Pop 15+/Edu: University, Fachhochschule</th>\n",
       "      <th>q_2017 Personal Effects: Per Capita</th>\n",
       "      <th>b_specialisation_j</th>\n",
       "      <th>q_2017 Total Households</th>\n",
       "      <th>b_specialisation_h</th>\n",
       "      <th>b_specialisation_a</th>\n",
       "      <th>q_2017 Medical Products: Per Capita</th>\n",
       "      <th>b_specialisation_b</th>\n",
       "      <th>b_specialisation_g</th>\n",
       "      <th>q_2017 HHs: 5th Quintile (68.759 and above)</th>\n",
       "      <th>q_OpeningHours</th>\n",
       "      <th>q_2017 Total Population</th>\n",
       "    </tr>\n",
       "  </thead>\n",
       "  <tbody>\n",
       "    <tr>\n",
       "      <th>742</th>\n",
       "      <td>1</td>\n",
       "      <td>0</td>\n",
       "      <td>0</td>\n",
       "      <td>0</td>\n",
       "      <td>536.11</td>\n",
       "      <td>1311</td>\n",
       "      <td>213.21</td>\n",
       "      <td>0</td>\n",
       "      <td>13766</td>\n",
       "      <td>1</td>\n",
       "      <td>0</td>\n",
       "      <td>318.80</td>\n",
       "      <td>0</td>\n",
       "      <td>0</td>\n",
       "      <td>2193</td>\n",
       "      <td>27.0</td>\n",
       "      <td>32416</td>\n",
       "    </tr>\n",
       "    <tr>\n",
       "      <th>592</th>\n",
       "      <td>0</td>\n",
       "      <td>0</td>\n",
       "      <td>0</td>\n",
       "      <td>0</td>\n",
       "      <td>589.14</td>\n",
       "      <td>295134</td>\n",
       "      <td>229.28</td>\n",
       "      <td>0</td>\n",
       "      <td>940947</td>\n",
       "      <td>0</td>\n",
       "      <td>0</td>\n",
       "      <td>320.47</td>\n",
       "      <td>0</td>\n",
       "      <td>0</td>\n",
       "      <td>165741</td>\n",
       "      <td>29.5</td>\n",
       "      <td>1962729</td>\n",
       "    </tr>\n",
       "    <tr>\n",
       "      <th>112</th>\n",
       "      <td>0</td>\n",
       "      <td>0</td>\n",
       "      <td>0</td>\n",
       "      <td>0</td>\n",
       "      <td>593.74</td>\n",
       "      <td>334839</td>\n",
       "      <td>237.38</td>\n",
       "      <td>1</td>\n",
       "      <td>1085613</td>\n",
       "      <td>0</td>\n",
       "      <td>0</td>\n",
       "      <td>327.78</td>\n",
       "      <td>0</td>\n",
       "      <td>0</td>\n",
       "      <td>205969</td>\n",
       "      <td>0.0</td>\n",
       "      <td>2285107</td>\n",
       "    </tr>\n",
       "    <tr>\n",
       "      <th>3408</th>\n",
       "      <td>0</td>\n",
       "      <td>0</td>\n",
       "      <td>0</td>\n",
       "      <td>0</td>\n",
       "      <td>543.27</td>\n",
       "      <td>4057</td>\n",
       "      <td>230.41</td>\n",
       "      <td>0</td>\n",
       "      <td>31967</td>\n",
       "      <td>0</td>\n",
       "      <td>0</td>\n",
       "      <td>333.26</td>\n",
       "      <td>0</td>\n",
       "      <td>0</td>\n",
       "      <td>6289</td>\n",
       "      <td>20.0</td>\n",
       "      <td>76357</td>\n",
       "    </tr>\n",
       "    <tr>\n",
       "      <th>3567</th>\n",
       "      <td>1</td>\n",
       "      <td>0</td>\n",
       "      <td>1</td>\n",
       "      <td>1</td>\n",
       "      <td>581.46</td>\n",
       "      <td>70850</td>\n",
       "      <td>235.25</td>\n",
       "      <td>1</td>\n",
       "      <td>230364</td>\n",
       "      <td>0</td>\n",
       "      <td>0</td>\n",
       "      <td>323.27</td>\n",
       "      <td>0</td>\n",
       "      <td>1</td>\n",
       "      <td>46642</td>\n",
       "      <td>0.0</td>\n",
       "      <td>503689</td>\n",
       "    </tr>\n",
       "  </tbody>\n",
       "</table>\n",
       "</div>"
      ],
      "text/plain": [
       "      b_specialisation_e  b_specialisation_d  b_specialisation_i  \\\n",
       "742                    1                   0                   0   \n",
       "592                    0                   0                   0   \n",
       "112                    0                   0                   0   \n",
       "3408                   0                   0                   0   \n",
       "3567                   1                   0                   1   \n",
       "\n",
       "      b_specialisation_f  q_2017 Personal Care: Per Capita  \\\n",
       "742                    0                            536.11   \n",
       "592                    0                            589.14   \n",
       "112                    0                            593.74   \n",
       "3408                   0                            543.27   \n",
       "3567                   1                            581.46   \n",
       "\n",
       "      q_2017 Pop 15+/Edu: University, Fachhochschule  \\\n",
       "742                                             1311   \n",
       "592                                           295134   \n",
       "112                                           334839   \n",
       "3408                                            4057   \n",
       "3567                                           70850   \n",
       "\n",
       "      q_2017 Personal Effects: Per Capita  b_specialisation_j  \\\n",
       "742                                213.21                   0   \n",
       "592                                229.28                   0   \n",
       "112                                237.38                   1   \n",
       "3408                               230.41                   0   \n",
       "3567                               235.25                   1   \n",
       "\n",
       "      q_2017 Total Households  b_specialisation_h  b_specialisation_a  \\\n",
       "742                     13766                   1                   0   \n",
       "592                    940947                   0                   0   \n",
       "112                   1085613                   0                   0   \n",
       "3408                    31967                   0                   0   \n",
       "3567                   230364                   0                   0   \n",
       "\n",
       "      q_2017 Medical Products: Per Capita  b_specialisation_b  \\\n",
       "742                                318.80                   0   \n",
       "592                                320.47                   0   \n",
       "112                                327.78                   0   \n",
       "3408                               333.26                   0   \n",
       "3567                               323.27                   0   \n",
       "\n",
       "      b_specialisation_g  q_2017 HHs: 5th Quintile (68.759 and above)  \\\n",
       "742                    0                                         2193   \n",
       "592                    0                                       165741   \n",
       "112                    0                                       205969   \n",
       "3408                   0                                         6289   \n",
       "3567                   1                                        46642   \n",
       "\n",
       "      q_OpeningHours  q_2017 Total Population  \n",
       "742             27.0                    32416  \n",
       "592             29.5                  1962729  \n",
       "112              0.0                  2285107  \n",
       "3408            20.0                    76357  \n",
       "3567             0.0                   503689  "
      ]
     },
     "execution_count": 54,
     "metadata": {},
     "output_type": "execute_result"
    }
   ],
   "source": [
    "X_test_selected = X_test.loc[:, columns]\n",
    "X_test_selected.head()"
   ]
  },
  {
   "cell_type": "code",
   "execution_count": 55,
   "id": "8d35d7bd-579b-40f1-afdc-2da8e27f5c1f",
   "metadata": {},
   "outputs": [
    {
     "data": {
      "text/html": [
       "<div>\n",
       "<style scoped>\n",
       "    .dataframe tbody tr th:only-of-type {\n",
       "        vertical-align: middle;\n",
       "    }\n",
       "\n",
       "    .dataframe tbody tr th {\n",
       "        vertical-align: top;\n",
       "    }\n",
       "\n",
       "    .dataframe thead th {\n",
       "        text-align: right;\n",
       "    }\n",
       "</style>\n",
       "<table border=\"1\" class=\"dataframe\">\n",
       "  <thead>\n",
       "    <tr style=\"text-align: right;\">\n",
       "      <th></th>\n",
       "      <th>b_specialisation_e</th>\n",
       "      <th>b_specialisation_d</th>\n",
       "      <th>b_specialisation_i</th>\n",
       "      <th>b_specialisation_f</th>\n",
       "      <th>q_2017 Personal Care: Per Capita</th>\n",
       "      <th>q_2017 Pop 15+/Edu: University, Fachhochschule</th>\n",
       "      <th>q_2017 Personal Effects: Per Capita</th>\n",
       "      <th>b_specialisation_j</th>\n",
       "      <th>q_2017 Total Households</th>\n",
       "      <th>b_specialisation_h</th>\n",
       "      <th>b_specialisation_a</th>\n",
       "      <th>q_2017 Medical Products: Per Capita</th>\n",
       "      <th>b_specialisation_b</th>\n",
       "      <th>b_specialisation_g</th>\n",
       "      <th>q_2017 HHs: 5th Quintile (68.759 and above)</th>\n",
       "      <th>q_OpeningHours</th>\n",
       "      <th>q_2017 Total Population</th>\n",
       "      <th>b_gekauft_gesamt</th>\n",
       "    </tr>\n",
       "  </thead>\n",
       "  <tbody>\n",
       "    <tr>\n",
       "      <th>1475</th>\n",
       "      <td>1</td>\n",
       "      <td>0</td>\n",
       "      <td>0</td>\n",
       "      <td>0</td>\n",
       "      <td>592.36</td>\n",
       "      <td>322983</td>\n",
       "      <td>234.87</td>\n",
       "      <td>0</td>\n",
       "      <td>1047901</td>\n",
       "      <td>1</td>\n",
       "      <td>0</td>\n",
       "      <td>325.87</td>\n",
       "      <td>0</td>\n",
       "      <td>1</td>\n",
       "      <td>193787</td>\n",
       "      <td>20.0</td>\n",
       "      <td>2198616</td>\n",
       "      <td>0</td>\n",
       "    </tr>\n",
       "    <tr>\n",
       "      <th>65</th>\n",
       "      <td>0</td>\n",
       "      <td>0</td>\n",
       "      <td>0</td>\n",
       "      <td>0</td>\n",
       "      <td>589.09</td>\n",
       "      <td>69464</td>\n",
       "      <td>237.50</td>\n",
       "      <td>0</td>\n",
       "      <td>211946</td>\n",
       "      <td>0</td>\n",
       "      <td>0</td>\n",
       "      <td>326.34</td>\n",
       "      <td>0</td>\n",
       "      <td>1</td>\n",
       "      <td>42641</td>\n",
       "      <td>0.0</td>\n",
       "      <td>454573</td>\n",
       "      <td>1</td>\n",
       "    </tr>\n",
       "    <tr>\n",
       "      <th>2226</th>\n",
       "      <td>1</td>\n",
       "      <td>0</td>\n",
       "      <td>0</td>\n",
       "      <td>0</td>\n",
       "      <td>590.05</td>\n",
       "      <td>291043</td>\n",
       "      <td>232.02</td>\n",
       "      <td>1</td>\n",
       "      <td>962669</td>\n",
       "      <td>1</td>\n",
       "      <td>0</td>\n",
       "      <td>323.33</td>\n",
       "      <td>0</td>\n",
       "      <td>1</td>\n",
       "      <td>173260</td>\n",
       "      <td>0.0</td>\n",
       "      <td>2015517</td>\n",
       "      <td>0</td>\n",
       "    </tr>\n",
       "    <tr>\n",
       "      <th>2034</th>\n",
       "      <td>1</td>\n",
       "      <td>0</td>\n",
       "      <td>1</td>\n",
       "      <td>1</td>\n",
       "      <td>564.32</td>\n",
       "      <td>18344</td>\n",
       "      <td>238.39</td>\n",
       "      <td>0</td>\n",
       "      <td>109185</td>\n",
       "      <td>0</td>\n",
       "      <td>0</td>\n",
       "      <td>330.21</td>\n",
       "      <td>0</td>\n",
       "      <td>0</td>\n",
       "      <td>22659</td>\n",
       "      <td>27.0</td>\n",
       "      <td>254994</td>\n",
       "      <td>0</td>\n",
       "    </tr>\n",
       "    <tr>\n",
       "      <th>2643</th>\n",
       "      <td>0</td>\n",
       "      <td>0</td>\n",
       "      <td>0</td>\n",
       "      <td>0</td>\n",
       "      <td>592.58</td>\n",
       "      <td>38724</td>\n",
       "      <td>252.89</td>\n",
       "      <td>0</td>\n",
       "      <td>151203</td>\n",
       "      <td>0</td>\n",
       "      <td>0</td>\n",
       "      <td>341.76</td>\n",
       "      <td>0</td>\n",
       "      <td>0</td>\n",
       "      <td>33686</td>\n",
       "      <td>20.0</td>\n",
       "      <td>335485</td>\n",
       "      <td>0</td>\n",
       "    </tr>\n",
       "  </tbody>\n",
       "</table>\n",
       "</div>"
      ],
      "text/plain": [
       "      b_specialisation_e  b_specialisation_d  b_specialisation_i  \\\n",
       "1475                   1                   0                   0   \n",
       "65                     0                   0                   0   \n",
       "2226                   1                   0                   0   \n",
       "2034                   1                   0                   1   \n",
       "2643                   0                   0                   0   \n",
       "\n",
       "      b_specialisation_f  q_2017 Personal Care: Per Capita  \\\n",
       "1475                   0                            592.36   \n",
       "65                     0                            589.09   \n",
       "2226                   0                            590.05   \n",
       "2034                   1                            564.32   \n",
       "2643                   0                            592.58   \n",
       "\n",
       "      q_2017 Pop 15+/Edu: University, Fachhochschule  \\\n",
       "1475                                          322983   \n",
       "65                                             69464   \n",
       "2226                                          291043   \n",
       "2034                                           18344   \n",
       "2643                                           38724   \n",
       "\n",
       "      q_2017 Personal Effects: Per Capita  b_specialisation_j  \\\n",
       "1475                               234.87                   0   \n",
       "65                                 237.50                   0   \n",
       "2226                               232.02                   1   \n",
       "2034                               238.39                   0   \n",
       "2643                               252.89                   0   \n",
       "\n",
       "      q_2017 Total Households  b_specialisation_h  b_specialisation_a  \\\n",
       "1475                  1047901                   1                   0   \n",
       "65                     211946                   0                   0   \n",
       "2226                   962669                   1                   0   \n",
       "2034                   109185                   0                   0   \n",
       "2643                   151203                   0                   0   \n",
       "\n",
       "      q_2017 Medical Products: Per Capita  b_specialisation_b  \\\n",
       "1475                               325.87                   0   \n",
       "65                                 326.34                   0   \n",
       "2226                               323.33                   0   \n",
       "2034                               330.21                   0   \n",
       "2643                               341.76                   0   \n",
       "\n",
       "      b_specialisation_g  q_2017 HHs: 5th Quintile (68.759 and above)  \\\n",
       "1475                   1                                       193787   \n",
       "65                     1                                        42641   \n",
       "2226                   1                                       173260   \n",
       "2034                   0                                        22659   \n",
       "2643                   0                                        33686   \n",
       "\n",
       "      q_OpeningHours  q_2017 Total Population  b_gekauft_gesamt  \n",
       "1475            20.0                  2198616                 0  \n",
       "65               0.0                   454573                 1  \n",
       "2226             0.0                  2015517                 0  \n",
       "2034            27.0                   254994                 0  \n",
       "2643            20.0                   335485                 0  "
      ]
     },
     "execution_count": 55,
     "metadata": {},
     "output_type": "execute_result"
    }
   ],
   "source": [
    "# Join the labels and save as CSV files\n",
    "train_data = pd.concat([X_train_selected, y_train], axis=1)\n",
    "train_data.head()"
   ]
  },
  {
   "cell_type": "code",
   "execution_count": 56,
   "id": "aa91b22a-d66a-4414-a317-cb480445ba8f",
   "metadata": {},
   "outputs": [
    {
     "data": {
      "text/html": [
       "<div>\n",
       "<style scoped>\n",
       "    .dataframe tbody tr th:only-of-type {\n",
       "        vertical-align: middle;\n",
       "    }\n",
       "\n",
       "    .dataframe tbody tr th {\n",
       "        vertical-align: top;\n",
       "    }\n",
       "\n",
       "    .dataframe thead th {\n",
       "        text-align: right;\n",
       "    }\n",
       "</style>\n",
       "<table border=\"1\" class=\"dataframe\">\n",
       "  <thead>\n",
       "    <tr style=\"text-align: right;\">\n",
       "      <th></th>\n",
       "      <th>b_specialisation_e</th>\n",
       "      <th>b_specialisation_d</th>\n",
       "      <th>b_specialisation_i</th>\n",
       "      <th>b_specialisation_f</th>\n",
       "      <th>q_2017 Personal Care: Per Capita</th>\n",
       "      <th>q_2017 Pop 15+/Edu: University, Fachhochschule</th>\n",
       "      <th>q_2017 Personal Effects: Per Capita</th>\n",
       "      <th>b_specialisation_j</th>\n",
       "      <th>q_2017 Total Households</th>\n",
       "      <th>b_specialisation_h</th>\n",
       "      <th>b_specialisation_a</th>\n",
       "      <th>q_2017 Medical Products: Per Capita</th>\n",
       "      <th>b_specialisation_b</th>\n",
       "      <th>b_specialisation_g</th>\n",
       "      <th>q_2017 HHs: 5th Quintile (68.759 and above)</th>\n",
       "      <th>q_OpeningHours</th>\n",
       "      <th>q_2017 Total Population</th>\n",
       "      <th>b_gekauft_gesamt</th>\n",
       "    </tr>\n",
       "  </thead>\n",
       "  <tbody>\n",
       "    <tr>\n",
       "      <th>742</th>\n",
       "      <td>1</td>\n",
       "      <td>0</td>\n",
       "      <td>0</td>\n",
       "      <td>0</td>\n",
       "      <td>536.11</td>\n",
       "      <td>1311</td>\n",
       "      <td>213.21</td>\n",
       "      <td>0</td>\n",
       "      <td>13766</td>\n",
       "      <td>1</td>\n",
       "      <td>0</td>\n",
       "      <td>318.80</td>\n",
       "      <td>0</td>\n",
       "      <td>0</td>\n",
       "      <td>2193</td>\n",
       "      <td>27.0</td>\n",
       "      <td>32416</td>\n",
       "      <td>0</td>\n",
       "    </tr>\n",
       "    <tr>\n",
       "      <th>592</th>\n",
       "      <td>0</td>\n",
       "      <td>0</td>\n",
       "      <td>0</td>\n",
       "      <td>0</td>\n",
       "      <td>589.14</td>\n",
       "      <td>295134</td>\n",
       "      <td>229.28</td>\n",
       "      <td>0</td>\n",
       "      <td>940947</td>\n",
       "      <td>0</td>\n",
       "      <td>0</td>\n",
       "      <td>320.47</td>\n",
       "      <td>0</td>\n",
       "      <td>0</td>\n",
       "      <td>165741</td>\n",
       "      <td>29.5</td>\n",
       "      <td>1962729</td>\n",
       "      <td>0</td>\n",
       "    </tr>\n",
       "    <tr>\n",
       "      <th>112</th>\n",
       "      <td>0</td>\n",
       "      <td>0</td>\n",
       "      <td>0</td>\n",
       "      <td>0</td>\n",
       "      <td>593.74</td>\n",
       "      <td>334839</td>\n",
       "      <td>237.38</td>\n",
       "      <td>1</td>\n",
       "      <td>1085613</td>\n",
       "      <td>0</td>\n",
       "      <td>0</td>\n",
       "      <td>327.78</td>\n",
       "      <td>0</td>\n",
       "      <td>0</td>\n",
       "      <td>205969</td>\n",
       "      <td>0.0</td>\n",
       "      <td>2285107</td>\n",
       "      <td>0</td>\n",
       "    </tr>\n",
       "    <tr>\n",
       "      <th>3408</th>\n",
       "      <td>0</td>\n",
       "      <td>0</td>\n",
       "      <td>0</td>\n",
       "      <td>0</td>\n",
       "      <td>543.27</td>\n",
       "      <td>4057</td>\n",
       "      <td>230.41</td>\n",
       "      <td>0</td>\n",
       "      <td>31967</td>\n",
       "      <td>0</td>\n",
       "      <td>0</td>\n",
       "      <td>333.26</td>\n",
       "      <td>0</td>\n",
       "      <td>0</td>\n",
       "      <td>6289</td>\n",
       "      <td>20.0</td>\n",
       "      <td>76357</td>\n",
       "      <td>0</td>\n",
       "    </tr>\n",
       "    <tr>\n",
       "      <th>3567</th>\n",
       "      <td>1</td>\n",
       "      <td>0</td>\n",
       "      <td>1</td>\n",
       "      <td>1</td>\n",
       "      <td>581.46</td>\n",
       "      <td>70850</td>\n",
       "      <td>235.25</td>\n",
       "      <td>1</td>\n",
       "      <td>230364</td>\n",
       "      <td>0</td>\n",
       "      <td>0</td>\n",
       "      <td>323.27</td>\n",
       "      <td>0</td>\n",
       "      <td>1</td>\n",
       "      <td>46642</td>\n",
       "      <td>0.0</td>\n",
       "      <td>503689</td>\n",
       "      <td>0</td>\n",
       "    </tr>\n",
       "  </tbody>\n",
       "</table>\n",
       "</div>"
      ],
      "text/plain": [
       "      b_specialisation_e  b_specialisation_d  b_specialisation_i  \\\n",
       "742                    1                   0                   0   \n",
       "592                    0                   0                   0   \n",
       "112                    0                   0                   0   \n",
       "3408                   0                   0                   0   \n",
       "3567                   1                   0                   1   \n",
       "\n",
       "      b_specialisation_f  q_2017 Personal Care: Per Capita  \\\n",
       "742                    0                            536.11   \n",
       "592                    0                            589.14   \n",
       "112                    0                            593.74   \n",
       "3408                   0                            543.27   \n",
       "3567                   1                            581.46   \n",
       "\n",
       "      q_2017 Pop 15+/Edu: University, Fachhochschule  \\\n",
       "742                                             1311   \n",
       "592                                           295134   \n",
       "112                                           334839   \n",
       "3408                                            4057   \n",
       "3567                                           70850   \n",
       "\n",
       "      q_2017 Personal Effects: Per Capita  b_specialisation_j  \\\n",
       "742                                213.21                   0   \n",
       "592                                229.28                   0   \n",
       "112                                237.38                   1   \n",
       "3408                               230.41                   0   \n",
       "3567                               235.25                   1   \n",
       "\n",
       "      q_2017 Total Households  b_specialisation_h  b_specialisation_a  \\\n",
       "742                     13766                   1                   0   \n",
       "592                    940947                   0                   0   \n",
       "112                   1085613                   0                   0   \n",
       "3408                    31967                   0                   0   \n",
       "3567                   230364                   0                   0   \n",
       "\n",
       "      q_2017 Medical Products: Per Capita  b_specialisation_b  \\\n",
       "742                                318.80                   0   \n",
       "592                                320.47                   0   \n",
       "112                                327.78                   0   \n",
       "3408                               333.26                   0   \n",
       "3567                               323.27                   0   \n",
       "\n",
       "      b_specialisation_g  q_2017 HHs: 5th Quintile (68.759 and above)  \\\n",
       "742                    0                                         2193   \n",
       "592                    0                                       165741   \n",
       "112                    0                                       205969   \n",
       "3408                   0                                         6289   \n",
       "3567                   1                                        46642   \n",
       "\n",
       "      q_OpeningHours  q_2017 Total Population  b_gekauft_gesamt  \n",
       "742             27.0                    32416                 0  \n",
       "592             29.5                  1962729                 0  \n",
       "112              0.0                  2285107                 0  \n",
       "3408            20.0                    76357                 0  \n",
       "3567             0.0                   503689                 0  "
      ]
     },
     "execution_count": 56,
     "metadata": {},
     "output_type": "execute_result"
    }
   ],
   "source": [
    "test_data = pd.concat([X_test_selected, y_test], axis=1)\n",
    "test_data.head()"
   ]
  },
  {
   "cell_type": "code",
   "execution_count": 57,
   "id": "efec75b4-4735-4d07-a3b4-629c90c71355",
   "metadata": {},
   "outputs": [],
   "source": [
    "train_data_path = os.path.join(data_folder, 'train_data_selected.csv')\n",
    "train_data.to_csv(train_data_path)\n",
    "\n",
    "test_data_path = os.path.join(data_folder, 'test_data_selected.csv')\n",
    "test_data.to_csv(test_data_path)"
   ]
  }
 ],
 "metadata": {
  "kernelspec": {
   "display_name": "MLG",
   "language": "python",
   "name": "mlg"
  },
  "language_info": {
   "codemirror_mode": {
    "name": "ipython",
    "version": 3
   },
   "file_extension": ".py",
   "mimetype": "text/x-python",
   "name": "python",
   "nbconvert_exporter": "python",
   "pygments_lexer": "ipython3",
   "version": "3.10.13"
  }
 },
 "nbformat": 4,
 "nbformat_minor": 5
}
