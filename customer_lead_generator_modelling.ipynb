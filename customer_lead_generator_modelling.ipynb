{
 "cells": [
  {
   "cell_type": "code",
   "execution_count": 2,
   "id": "77022c7b-a955-444e-87cd-55479258f922",
   "metadata": {},
   "outputs": [
    {
     "name": "stdout",
     "output_type": "stream",
     "text": [
      "Collecting imblearn\n",
      "  Downloading imblearn-0.0-py2.py3-none-any.whl (1.9 kB)\n",
      "Collecting imbalanced-learn (from imblearn)\n",
      "  Downloading imbalanced_learn-0.12.0-py3-none-any.whl.metadata (8.2 kB)\n",
      "Requirement already satisfied: numpy>=1.17.3 in /home/constructor_munich/.conda/envs/MLG/lib/python3.10/site-packages (from imbalanced-learn->imblearn) (1.26.0)\n",
      "Requirement already satisfied: scipy>=1.5.0 in /home/constructor_munich/.conda/envs/MLG/lib/python3.10/site-packages (from imbalanced-learn->imblearn) (1.11.4)\n",
      "Requirement already satisfied: scikit-learn>=1.0.2 in /home/constructor_munich/.conda/envs/MLG/lib/python3.10/site-packages (from imbalanced-learn->imblearn) (1.3.0)\n",
      "Requirement already satisfied: joblib>=1.1.1 in /home/constructor_munich/.conda/envs/MLG/lib/python3.10/site-packages (from imbalanced-learn->imblearn) (1.2.0)\n",
      "Requirement already satisfied: threadpoolctl>=2.0.0 in /home/constructor_munich/.conda/envs/MLG/lib/python3.10/site-packages (from imbalanced-learn->imblearn) (2.2.0)\n",
      "Downloading imbalanced_learn-0.12.0-py3-none-any.whl (257 kB)\n",
      "\u001b[2K   \u001b[90m━━━━━━━━━━━━━━━━━━━━━━━━━━━━━━━━━━━━━━━━\u001b[0m \u001b[32m257.7/257.7 kB\u001b[0m \u001b[31m3.5 MB/s\u001b[0m eta \u001b[36m0:00:00\u001b[0m00:01\u001b[0m0:01\u001b[0m\n",
      "\u001b[?25hInstalling collected packages: imbalanced-learn, imblearn\n",
      "Successfully installed imbalanced-learn-0.12.0 imblearn-0.0\n"
     ]
    }
   ],
   "source": [
    "!pip install imblearn"
   ]
  },
  {
   "cell_type": "code",
   "execution_count": 3,
   "id": "72ac976e-0747-42a7-b8de-d447e4c49c70",
   "metadata": {},
   "outputs": [],
   "source": [
    "import numpy as np\n",
    "import pandas as pd\n",
    "\n",
    "from sklearn.metrics import classification_report, confusion_matrix, f1_score, roc_auc_score, roc_curve\n",
    "from sklearn.model_selection import train_test_split\n",
    "from sklearn.pipeline import Pipeline\n",
    "from sklearn.impute import KNNImputer\n",
    "from sklearn.preprocessing import StandardScaler\n",
    "from sklearn.linear_model import LogisticRegression\n",
    "from sklearn.ensemble import RandomForestClassifier\n",
    "\n",
    "from imblearn.pipeline import Pipeline as ImbPipeline # don't overwrite sklearn's \"vanilla\" Pipeline\n",
    "from imblearn.over_sampling import SMOTE # for oversampling the minority class, i.e generating synthetic samples\n",
    "\n",
    "import matplotlib.pyplot as plt\n",
    "import seaborn as sns\n",
    "\n",
    "import os"
   ]
  },
  {
   "cell_type": "markdown",
   "id": "c8478b5f-3fbe-4d6a-be1b-aecc23516f5b",
   "metadata": {},
   "source": [
    "This is the continuation of the notebook `customer_lead_generator_eda.ipynb`.\n",
    "\n",
    "__Helper function__\n",
    "\n",
    "Function to plot the ROC curve, calculate AUC for a base model and the AUC of our model."
   ]
  },
  {
   "cell_type": "code",
   "execution_count": 4,
   "id": "25d0c0d6-6a53-443f-b458-ef5f6294b51b",
   "metadata": {},
   "outputs": [],
   "source": [
    "def plot_roc(y_test, proba_preds, model_name):\n",
    "\n",
    "    # create linear line for dummy classifier with 50% random probability of predictions\n",
    "    base_probs = [0 for _ in range(len(y_test))] # 0 is the majority class, could also sample randomly\n",
    "    base_auc = roc_auc_score(y_test, base_probs)\n",
    "\n",
    "    # get auc for ML model\n",
    "    lr_auc = roc_auc_score(y_test, proba_preds)\n",
    "\n",
    "    # summarize scores\n",
    "    print('Logistic: ROC AUC=%.3f' % (lr_auc))\n",
    "\n",
    "    # calculate roc curves\n",
    "    ns_fpr, ns_tpr, _ = roc_curve(y_test, base_probs) # roc curve for the dummy model (3rd output: threshold, not using for plotting)\n",
    "    lr_fpr, lr_tpr, _ = roc_curve(y_test, proba_preds) # roc curve for your model\n",
    "\n",
    "    # plot the roc curve for the model\n",
    "    plt.plot(ns_fpr, ns_tpr, linestyle='--', label='Base')\n",
    "    plt.plot(lr_fpr, lr_tpr, marker='.', label=model_name)\n",
    "    plt.xlabel('False Positive Rate')\n",
    "    plt.ylabel('True Positive Rate')\n",
    "    plt.legend()\n",
    "    plt.show()"
   ]
  },
  {
   "cell_type": "markdown",
   "id": "fbf23a5e-cff1-4ca0-af0f-9eae99e9678f",
   "metadata": {},
   "source": [
    "## 3. Model Development\n",
    "\n",
    "### Import the processed data"
   ]
  },
  {
   "cell_type": "code",
   "execution_count": 5,
   "id": "a682cd21-a405-4d6b-b145-c32ac0803f96",
   "metadata": {},
   "outputs": [
    {
     "data": {
      "text/html": [
       "<div>\n",
       "<style scoped>\n",
       "    .dataframe tbody tr th:only-of-type {\n",
       "        vertical-align: middle;\n",
       "    }\n",
       "\n",
       "    .dataframe tbody tr th {\n",
       "        vertical-align: top;\n",
       "    }\n",
       "\n",
       "    .dataframe thead th {\n",
       "        text-align: right;\n",
       "    }\n",
       "</style>\n",
       "<table border=\"1\" class=\"dataframe\">\n",
       "  <thead>\n",
       "    <tr style=\"text-align: right;\">\n",
       "      <th></th>\n",
       "      <th>b_specialisation_i</th>\n",
       "      <th>b_specialisation_h</th>\n",
       "      <th>b_specialisation_g</th>\n",
       "      <th>b_specialisation_f</th>\n",
       "      <th>b_specialisation_e</th>\n",
       "      <th>b_specialisation_d</th>\n",
       "      <th>b_specialisation_c</th>\n",
       "      <th>b_specialisation_b</th>\n",
       "      <th>b_specialisation_a</th>\n",
       "      <th>b_specialisation_j</th>\n",
       "      <th>...</th>\n",
       "      <th>q_2017 HHs: 5th Quintile (68.759 and above)</th>\n",
       "      <th>q_5th Quint by Total HH</th>\n",
       "      <th>q_2017 Purchasing Power: Per Capita</th>\n",
       "      <th>q_2017 Total Population</th>\n",
       "      <th>q_2017 Pop 15+/Edu: University, Fachhochschule</th>\n",
       "      <th>q_Uni by Total Pop</th>\n",
       "      <th>q_2017 Personal Care: Per Capita</th>\n",
       "      <th>q_2017 Medical Products: Per Capita</th>\n",
       "      <th>q_2017 Personal Effects: Per Capita</th>\n",
       "      <th>b_gekauft_gesamt</th>\n",
       "    </tr>\n",
       "  </thead>\n",
       "  <tbody>\n",
       "    <tr>\n",
       "      <th>0</th>\n",
       "      <td>0</td>\n",
       "      <td>0</td>\n",
       "      <td>0</td>\n",
       "      <td>0</td>\n",
       "      <td>0</td>\n",
       "      <td>0</td>\n",
       "      <td>0</td>\n",
       "      <td>0</td>\n",
       "      <td>0</td>\n",
       "      <td>1</td>\n",
       "      <td>...</td>\n",
       "      <td>195228</td>\n",
       "      <td>0.186735</td>\n",
       "      <td>23730.35</td>\n",
       "      <td>2194057</td>\n",
       "      <td>324656</td>\n",
       "      <td>0.147971</td>\n",
       "      <td>593.19</td>\n",
       "      <td>326.28</td>\n",
       "      <td>235.75</td>\n",
       "      <td>1</td>\n",
       "    </tr>\n",
       "    <tr>\n",
       "      <th>1</th>\n",
       "      <td>0</td>\n",
       "      <td>0</td>\n",
       "      <td>0</td>\n",
       "      <td>1</td>\n",
       "      <td>1</td>\n",
       "      <td>1</td>\n",
       "      <td>0</td>\n",
       "      <td>0</td>\n",
       "      <td>0</td>\n",
       "      <td>0</td>\n",
       "      <td>...</td>\n",
       "      <td>168291</td>\n",
       "      <td>0.179848</td>\n",
       "      <td>23343.26</td>\n",
       "      <td>1966798</td>\n",
       "      <td>281130</td>\n",
       "      <td>0.142938</td>\n",
       "      <td>588.54</td>\n",
       "      <td>320.36</td>\n",
       "      <td>230.66</td>\n",
       "      <td>1</td>\n",
       "    </tr>\n",
       "    <tr>\n",
       "      <th>2</th>\n",
       "      <td>0</td>\n",
       "      <td>0</td>\n",
       "      <td>0</td>\n",
       "      <td>1</td>\n",
       "      <td>0</td>\n",
       "      <td>1</td>\n",
       "      <td>0</td>\n",
       "      <td>0</td>\n",
       "      <td>0</td>\n",
       "      <td>1</td>\n",
       "      <td>...</td>\n",
       "      <td>189787</td>\n",
       "      <td>0.184935</td>\n",
       "      <td>23674.18</td>\n",
       "      <td>2149624</td>\n",
       "      <td>320326</td>\n",
       "      <td>0.149015</td>\n",
       "      <td>592.88</td>\n",
       "      <td>325.57</td>\n",
       "      <td>234.82</td>\n",
       "      <td>1</td>\n",
       "    </tr>\n",
       "    <tr>\n",
       "      <th>3</th>\n",
       "      <td>0</td>\n",
       "      <td>1</td>\n",
       "      <td>1</td>\n",
       "      <td>0</td>\n",
       "      <td>0</td>\n",
       "      <td>0</td>\n",
       "      <td>0</td>\n",
       "      <td>0</td>\n",
       "      <td>0</td>\n",
       "      <td>0</td>\n",
       "      <td>...</td>\n",
       "      <td>189634</td>\n",
       "      <td>0.184523</td>\n",
       "      <td>23572.26</td>\n",
       "      <td>2161445</td>\n",
       "      <td>310981</td>\n",
       "      <td>0.143876</td>\n",
       "      <td>590.84</td>\n",
       "      <td>324.06</td>\n",
       "      <td>233.81</td>\n",
       "      <td>0</td>\n",
       "    </tr>\n",
       "    <tr>\n",
       "      <th>4</th>\n",
       "      <td>0</td>\n",
       "      <td>0</td>\n",
       "      <td>0</td>\n",
       "      <td>0</td>\n",
       "      <td>0</td>\n",
       "      <td>1</td>\n",
       "      <td>0</td>\n",
       "      <td>0</td>\n",
       "      <td>0</td>\n",
       "      <td>1</td>\n",
       "      <td>...</td>\n",
       "      <td>207590</td>\n",
       "      <td>0.189871</td>\n",
       "      <td>23821.63</td>\n",
       "      <td>2302959</td>\n",
       "      <td>334940</td>\n",
       "      <td>0.145439</td>\n",
       "      <td>593.56</td>\n",
       "      <td>327.75</td>\n",
       "      <td>237.41</td>\n",
       "      <td>1</td>\n",
       "    </tr>\n",
       "  </tbody>\n",
       "</table>\n",
       "<p>5 rows × 24 columns</p>\n",
       "</div>"
      ],
      "text/plain": [
       "   b_specialisation_i  b_specialisation_h  b_specialisation_g  \\\n",
       "0                   0                   0                   0   \n",
       "1                   0                   0                   0   \n",
       "2                   0                   0                   0   \n",
       "3                   0                   1                   1   \n",
       "4                   0                   0                   0   \n",
       "\n",
       "   b_specialisation_f  b_specialisation_e  b_specialisation_d  \\\n",
       "0                   0                   0                   0   \n",
       "1                   1                   1                   1   \n",
       "2                   1                   0                   1   \n",
       "3                   0                   0                   0   \n",
       "4                   0                   0                   1   \n",
       "\n",
       "   b_specialisation_c  b_specialisation_b  b_specialisation_a  \\\n",
       "0                   0                   0                   0   \n",
       "1                   0                   0                   0   \n",
       "2                   0                   0                   0   \n",
       "3                   0                   0                   0   \n",
       "4                   0                   0                   0   \n",
       "\n",
       "   b_specialisation_j  ...  q_2017 HHs: 5th Quintile (68.759 and above)  \\\n",
       "0                   1  ...                                       195228   \n",
       "1                   0  ...                                       168291   \n",
       "2                   1  ...                                       189787   \n",
       "3                   0  ...                                       189634   \n",
       "4                   1  ...                                       207590   \n",
       "\n",
       "   q_5th Quint by Total HH  q_2017 Purchasing Power: Per Capita  \\\n",
       "0                 0.186735                             23730.35   \n",
       "1                 0.179848                             23343.26   \n",
       "2                 0.184935                             23674.18   \n",
       "3                 0.184523                             23572.26   \n",
       "4                 0.189871                             23821.63   \n",
       "\n",
       "   q_2017 Total Population  q_2017 Pop 15+/Edu: University, Fachhochschule  \\\n",
       "0                  2194057                                          324656   \n",
       "1                  1966798                                          281130   \n",
       "2                  2149624                                          320326   \n",
       "3                  2161445                                          310981   \n",
       "4                  2302959                                          334940   \n",
       "\n",
       "   q_Uni by Total Pop  q_2017 Personal Care: Per Capita  \\\n",
       "0            0.147971                            593.19   \n",
       "1            0.142938                            588.54   \n",
       "2            0.149015                            592.88   \n",
       "3            0.143876                            590.84   \n",
       "4            0.145439                            593.56   \n",
       "\n",
       "   q_2017 Medical Products: Per Capita  q_2017 Personal Effects: Per Capita  \\\n",
       "0                               326.28                               235.75   \n",
       "1                               320.36                               230.66   \n",
       "2                               325.57                               234.82   \n",
       "3                               324.06                               233.81   \n",
       "4                               327.75                               237.41   \n",
       "\n",
       "   b_gekauft_gesamt  \n",
       "0                 1  \n",
       "1                 1  \n",
       "2                 1  \n",
       "3                 0  \n",
       "4                 1  \n",
       "\n",
       "[5 rows x 24 columns]"
      ]
     },
     "execution_count": 5,
     "metadata": {},
     "output_type": "execute_result"
    }
   ],
   "source": [
    "data_folder = 'data'\n",
    "filename = 'CustomerData_LeadGenerator.csv'\n",
    "\n",
    "clean_filename = filename.replace('.csv', '_clean.csv')\n",
    "customer_data_path_clean = os.path.join(data_folder, clean_filename)\n",
    "\n",
    "clean_reduced_filename = filename.replace('.csv', '_clean_reduced.csv')\n",
    "customer_data_path_clean_reduced = os.path.join(data_folder, clean_reduced_filename)\n",
    "\n",
    "df = pd.read_csv(customer_data_path_clean, index_col=0)\n",
    "df.head()"
   ]
  },
  {
   "cell_type": "code",
   "execution_count": 6,
   "id": "e7a449c0-8806-4751-8e6c-440c9af85e48",
   "metadata": {},
   "outputs": [
    {
     "data": {
      "text/html": [
       "<div>\n",
       "<style scoped>\n",
       "    .dataframe tbody tr th:only-of-type {\n",
       "        vertical-align: middle;\n",
       "    }\n",
       "\n",
       "    .dataframe tbody tr th {\n",
       "        vertical-align: top;\n",
       "    }\n",
       "\n",
       "    .dataframe thead th {\n",
       "        text-align: right;\n",
       "    }\n",
       "</style>\n",
       "<table border=\"1\" class=\"dataframe\">\n",
       "  <thead>\n",
       "    <tr style=\"text-align: right;\">\n",
       "      <th></th>\n",
       "      <th>b_specialisation_i</th>\n",
       "      <th>b_specialisation_h</th>\n",
       "      <th>b_specialisation_g</th>\n",
       "      <th>b_specialisation_f</th>\n",
       "      <th>b_specialisation_e</th>\n",
       "      <th>b_specialisation_d</th>\n",
       "      <th>b_specialisation_c</th>\n",
       "      <th>b_specialisation_b</th>\n",
       "      <th>b_specialisation_a</th>\n",
       "      <th>b_specialisation_j</th>\n",
       "      <th>q_OpeningDays</th>\n",
       "      <th>q_OpeningHours</th>\n",
       "      <th>q_2017 Average Household Size</th>\n",
       "      <th>q_5th Quint by Total HH</th>\n",
       "      <th>q_2017 Purchasing Power: Per Capita</th>\n",
       "      <th>q_2017 Total Population</th>\n",
       "      <th>q_Uni by Total Pop</th>\n",
       "      <th>q_2017 Medical Products: Per Capita</th>\n",
       "      <th>b_gekauft_gesamt</th>\n",
       "    </tr>\n",
       "  </thead>\n",
       "  <tbody>\n",
       "    <tr>\n",
       "      <th>0</th>\n",
       "      <td>0</td>\n",
       "      <td>0</td>\n",
       "      <td>0</td>\n",
       "      <td>0</td>\n",
       "      <td>0</td>\n",
       "      <td>0</td>\n",
       "      <td>0</td>\n",
       "      <td>0</td>\n",
       "      <td>0</td>\n",
       "      <td>1</td>\n",
       "      <td>4</td>\n",
       "      <td>36.0</td>\n",
       "      <td>2.1</td>\n",
       "      <td>0.186735</td>\n",
       "      <td>23730.35</td>\n",
       "      <td>2194057</td>\n",
       "      <td>0.147971</td>\n",
       "      <td>326.28</td>\n",
       "      <td>1</td>\n",
       "    </tr>\n",
       "    <tr>\n",
       "      <th>1</th>\n",
       "      <td>0</td>\n",
       "      <td>0</td>\n",
       "      <td>0</td>\n",
       "      <td>1</td>\n",
       "      <td>1</td>\n",
       "      <td>1</td>\n",
       "      <td>0</td>\n",
       "      <td>0</td>\n",
       "      <td>0</td>\n",
       "      <td>0</td>\n",
       "      <td>4</td>\n",
       "      <td>20.0</td>\n",
       "      <td>2.1</td>\n",
       "      <td>0.179848</td>\n",
       "      <td>23343.26</td>\n",
       "      <td>1966798</td>\n",
       "      <td>0.142938</td>\n",
       "      <td>320.36</td>\n",
       "      <td>1</td>\n",
       "    </tr>\n",
       "    <tr>\n",
       "      <th>2</th>\n",
       "      <td>0</td>\n",
       "      <td>0</td>\n",
       "      <td>0</td>\n",
       "      <td>1</td>\n",
       "      <td>0</td>\n",
       "      <td>1</td>\n",
       "      <td>0</td>\n",
       "      <td>0</td>\n",
       "      <td>0</td>\n",
       "      <td>1</td>\n",
       "      <td>0</td>\n",
       "      <td>0.0</td>\n",
       "      <td>2.1</td>\n",
       "      <td>0.184935</td>\n",
       "      <td>23674.18</td>\n",
       "      <td>2149624</td>\n",
       "      <td>0.149015</td>\n",
       "      <td>325.57</td>\n",
       "      <td>1</td>\n",
       "    </tr>\n",
       "    <tr>\n",
       "      <th>3</th>\n",
       "      <td>0</td>\n",
       "      <td>1</td>\n",
       "      <td>1</td>\n",
       "      <td>0</td>\n",
       "      <td>0</td>\n",
       "      <td>0</td>\n",
       "      <td>0</td>\n",
       "      <td>0</td>\n",
       "      <td>0</td>\n",
       "      <td>0</td>\n",
       "      <td>4</td>\n",
       "      <td>20.0</td>\n",
       "      <td>2.1</td>\n",
       "      <td>0.184523</td>\n",
       "      <td>23572.26</td>\n",
       "      <td>2161445</td>\n",
       "      <td>0.143876</td>\n",
       "      <td>324.06</td>\n",
       "      <td>0</td>\n",
       "    </tr>\n",
       "    <tr>\n",
       "      <th>4</th>\n",
       "      <td>0</td>\n",
       "      <td>0</td>\n",
       "      <td>0</td>\n",
       "      <td>0</td>\n",
       "      <td>0</td>\n",
       "      <td>1</td>\n",
       "      <td>0</td>\n",
       "      <td>0</td>\n",
       "      <td>0</td>\n",
       "      <td>1</td>\n",
       "      <td>5</td>\n",
       "      <td>33.0</td>\n",
       "      <td>2.1</td>\n",
       "      <td>0.189871</td>\n",
       "      <td>23821.63</td>\n",
       "      <td>2302959</td>\n",
       "      <td>0.145439</td>\n",
       "      <td>327.75</td>\n",
       "      <td>1</td>\n",
       "    </tr>\n",
       "    <tr>\n",
       "      <th>...</th>\n",
       "      <td>...</td>\n",
       "      <td>...</td>\n",
       "      <td>...</td>\n",
       "      <td>...</td>\n",
       "      <td>...</td>\n",
       "      <td>...</td>\n",
       "      <td>...</td>\n",
       "      <td>...</td>\n",
       "      <td>...</td>\n",
       "      <td>...</td>\n",
       "      <td>...</td>\n",
       "      <td>...</td>\n",
       "      <td>...</td>\n",
       "      <td>...</td>\n",
       "      <td>...</td>\n",
       "      <td>...</td>\n",
       "      <td>...</td>\n",
       "      <td>...</td>\n",
       "      <td>...</td>\n",
       "    </tr>\n",
       "    <tr>\n",
       "      <th>3768</th>\n",
       "      <td>0</td>\n",
       "      <td>0</td>\n",
       "      <td>0</td>\n",
       "      <td>0</td>\n",
       "      <td>0</td>\n",
       "      <td>0</td>\n",
       "      <td>0</td>\n",
       "      <td>0</td>\n",
       "      <td>0</td>\n",
       "      <td>0</td>\n",
       "      <td>0</td>\n",
       "      <td>0.0</td>\n",
       "      <td>2.2</td>\n",
       "      <td>0.203542</td>\n",
       "      <td>23869.52</td>\n",
       "      <td>327760</td>\n",
       "      <td>0.125418</td>\n",
       "      <td>325.57</td>\n",
       "      <td>0</td>\n",
       "    </tr>\n",
       "    <tr>\n",
       "      <th>3769</th>\n",
       "      <td>0</td>\n",
       "      <td>0</td>\n",
       "      <td>0</td>\n",
       "      <td>0</td>\n",
       "      <td>0</td>\n",
       "      <td>0</td>\n",
       "      <td>0</td>\n",
       "      <td>0</td>\n",
       "      <td>0</td>\n",
       "      <td>1</td>\n",
       "      <td>0</td>\n",
       "      <td>0.0</td>\n",
       "      <td>2.1</td>\n",
       "      <td>0.184899</td>\n",
       "      <td>23677.97</td>\n",
       "      <td>2150320</td>\n",
       "      <td>0.149148</td>\n",
       "      <td>326.32</td>\n",
       "      <td>0</td>\n",
       "    </tr>\n",
       "    <tr>\n",
       "      <th>3770</th>\n",
       "      <td>0</td>\n",
       "      <td>0</td>\n",
       "      <td>0</td>\n",
       "      <td>0</td>\n",
       "      <td>0</td>\n",
       "      <td>0</td>\n",
       "      <td>0</td>\n",
       "      <td>0</td>\n",
       "      <td>0</td>\n",
       "      <td>0</td>\n",
       "      <td>0</td>\n",
       "      <td>0.0</td>\n",
       "      <td>2.1</td>\n",
       "      <td>0.186292</td>\n",
       "      <td>23721.89</td>\n",
       "      <td>2167556</td>\n",
       "      <td>0.149137</td>\n",
       "      <td>326.22</td>\n",
       "      <td>0</td>\n",
       "    </tr>\n",
       "    <tr>\n",
       "      <th>3771</th>\n",
       "      <td>0</td>\n",
       "      <td>0</td>\n",
       "      <td>0</td>\n",
       "      <td>0</td>\n",
       "      <td>0</td>\n",
       "      <td>0</td>\n",
       "      <td>0</td>\n",
       "      <td>0</td>\n",
       "      <td>0</td>\n",
       "      <td>1</td>\n",
       "      <td>0</td>\n",
       "      <td>0.0</td>\n",
       "      <td>2.2</td>\n",
       "      <td>0.222034</td>\n",
       "      <td>24711.33</td>\n",
       "      <td>328260</td>\n",
       "      <td>0.116490</td>\n",
       "      <td>342.68</td>\n",
       "      <td>0</td>\n",
       "    </tr>\n",
       "    <tr>\n",
       "      <th>3772</th>\n",
       "      <td>0</td>\n",
       "      <td>1</td>\n",
       "      <td>1</td>\n",
       "      <td>0</td>\n",
       "      <td>1</td>\n",
       "      <td>0</td>\n",
       "      <td>0</td>\n",
       "      <td>0</td>\n",
       "      <td>1</td>\n",
       "      <td>0</td>\n",
       "      <td>4</td>\n",
       "      <td>27.0</td>\n",
       "      <td>2.1</td>\n",
       "      <td>0.163071</td>\n",
       "      <td>22698.68</td>\n",
       "      <td>294286</td>\n",
       "      <td>0.099230</td>\n",
       "      <td>343.46</td>\n",
       "      <td>0</td>\n",
       "    </tr>\n",
       "  </tbody>\n",
       "</table>\n",
       "<p>3773 rows × 19 columns</p>\n",
       "</div>"
      ],
      "text/plain": [
       "      b_specialisation_i  b_specialisation_h  b_specialisation_g  \\\n",
       "0                      0                   0                   0   \n",
       "1                      0                   0                   0   \n",
       "2                      0                   0                   0   \n",
       "3                      0                   1                   1   \n",
       "4                      0                   0                   0   \n",
       "...                  ...                 ...                 ...   \n",
       "3768                   0                   0                   0   \n",
       "3769                   0                   0                   0   \n",
       "3770                   0                   0                   0   \n",
       "3771                   0                   0                   0   \n",
       "3772                   0                   1                   1   \n",
       "\n",
       "      b_specialisation_f  b_specialisation_e  b_specialisation_d  \\\n",
       "0                      0                   0                   0   \n",
       "1                      1                   1                   1   \n",
       "2                      1                   0                   1   \n",
       "3                      0                   0                   0   \n",
       "4                      0                   0                   1   \n",
       "...                  ...                 ...                 ...   \n",
       "3768                   0                   0                   0   \n",
       "3769                   0                   0                   0   \n",
       "3770                   0                   0                   0   \n",
       "3771                   0                   0                   0   \n",
       "3772                   0                   1                   0   \n",
       "\n",
       "      b_specialisation_c  b_specialisation_b  b_specialisation_a  \\\n",
       "0                      0                   0                   0   \n",
       "1                      0                   0                   0   \n",
       "2                      0                   0                   0   \n",
       "3                      0                   0                   0   \n",
       "4                      0                   0                   0   \n",
       "...                  ...                 ...                 ...   \n",
       "3768                   0                   0                   0   \n",
       "3769                   0                   0                   0   \n",
       "3770                   0                   0                   0   \n",
       "3771                   0                   0                   0   \n",
       "3772                   0                   0                   1   \n",
       "\n",
       "      b_specialisation_j  q_OpeningDays  q_OpeningHours  \\\n",
       "0                      1              4            36.0   \n",
       "1                      0              4            20.0   \n",
       "2                      1              0             0.0   \n",
       "3                      0              4            20.0   \n",
       "4                      1              5            33.0   \n",
       "...                  ...            ...             ...   \n",
       "3768                   0              0             0.0   \n",
       "3769                   1              0             0.0   \n",
       "3770                   0              0             0.0   \n",
       "3771                   1              0             0.0   \n",
       "3772                   0              4            27.0   \n",
       "\n",
       "      q_2017 Average Household Size  q_5th Quint by Total HH  \\\n",
       "0                               2.1                 0.186735   \n",
       "1                               2.1                 0.179848   \n",
       "2                               2.1                 0.184935   \n",
       "3                               2.1                 0.184523   \n",
       "4                               2.1                 0.189871   \n",
       "...                             ...                      ...   \n",
       "3768                            2.2                 0.203542   \n",
       "3769                            2.1                 0.184899   \n",
       "3770                            2.1                 0.186292   \n",
       "3771                            2.2                 0.222034   \n",
       "3772                            2.1                 0.163071   \n",
       "\n",
       "      q_2017 Purchasing Power: Per Capita  q_2017 Total Population  \\\n",
       "0                                23730.35                  2194057   \n",
       "1                                23343.26                  1966798   \n",
       "2                                23674.18                  2149624   \n",
       "3                                23572.26                  2161445   \n",
       "4                                23821.63                  2302959   \n",
       "...                                   ...                      ...   \n",
       "3768                             23869.52                   327760   \n",
       "3769                             23677.97                  2150320   \n",
       "3770                             23721.89                  2167556   \n",
       "3771                             24711.33                   328260   \n",
       "3772                             22698.68                   294286   \n",
       "\n",
       "      q_Uni by Total Pop  q_2017 Medical Products: Per Capita  \\\n",
       "0               0.147971                               326.28   \n",
       "1               0.142938                               320.36   \n",
       "2               0.149015                               325.57   \n",
       "3               0.143876                               324.06   \n",
       "4               0.145439                               327.75   \n",
       "...                  ...                                  ...   \n",
       "3768            0.125418                               325.57   \n",
       "3769            0.149148                               326.32   \n",
       "3770            0.149137                               326.22   \n",
       "3771            0.116490                               342.68   \n",
       "3772            0.099230                               343.46   \n",
       "\n",
       "      b_gekauft_gesamt  \n",
       "0                    1  \n",
       "1                    1  \n",
       "2                    1  \n",
       "3                    0  \n",
       "4                    1  \n",
       "...                ...  \n",
       "3768                 0  \n",
       "3769                 0  \n",
       "3770                 0  \n",
       "3771                 0  \n",
       "3772                 0  \n",
       "\n",
       "[3773 rows x 19 columns]"
      ]
     },
     "execution_count": 6,
     "metadata": {},
     "output_type": "execute_result"
    }
   ],
   "source": [
    "df_reduced = pd.read_csv(customer_data_path_clean_reduced, index_col=0)\n",
    "df_reduced"
   ]
  },
  {
   "cell_type": "markdown",
   "id": "aab094ee-cf16-4eba-b485-8ec900c63dc6",
   "metadata": {},
   "source": [
    "### Reduced data and logistic regression\n",
    "#### Train - test split"
   ]
  },
  {
   "cell_type": "code",
   "execution_count": 7,
   "id": "37ee90e5-63e1-4a2c-93f3-7ffdf7ed7170",
   "metadata": {},
   "outputs": [
    {
     "data": {
      "text/plain": [
       "((3018, 19), (755, 19))"
      ]
     },
     "execution_count": 7,
     "metadata": {},
     "output_type": "execute_result"
    }
   ],
   "source": [
    "target = \"b_gekauft_gesamt\"\n",
    "df_reduced_train, df_reduced_test = train_test_split(\n",
    "    df_reduced, test_size=0.2, random_state=5, stratify=df_reduced[target])\n",
    "# without stratify=y the class proportions might shift a bit - ensures equal class proportions\n",
    "df_reduced_train.shape, df_reduced_test.shape"
   ]
  },
  {
   "cell_type": "code",
   "execution_count": 8,
   "id": "63dfa49c-dc3f-4d1b-871b-2df90fe92e9b",
   "metadata": {},
   "outputs": [
    {
     "data": {
      "text/plain": [
       "((3018, 18), (755, 18), (3018,), (755,))"
      ]
     },
     "execution_count": 8,
     "metadata": {},
     "output_type": "execute_result"
    }
   ],
   "source": [
    "X_reduced_train = df_reduced_train.drop(columns=[target])\n",
    "y_train = df_reduced_train[target]\n",
    "X_reduced_test = df_reduced_test.drop(columns=[target])\n",
    "y_test = df_reduced_test[target]\n",
    "X_reduced_train.shape, X_reduced_test.shape, y_train.shape, y_test.shape"
   ]
  },
  {
   "cell_type": "code",
   "execution_count": 9,
   "id": "0cc8dbc3-dc66-4c3c-aa83-2b319a2a8340",
   "metadata": {},
   "outputs": [
    {
     "data": {
      "text/plain": [
       "b_gekauft_gesamt\n",
       "0    2972\n",
       "1      46\n",
       "Name: count, dtype: int64"
      ]
     },
     "execution_count": 9,
     "metadata": {},
     "output_type": "execute_result"
    }
   ],
   "source": [
    "# Check how balanced our data is\n",
    "y_train.value_counts()"
   ]
  },
  {
   "cell_type": "code",
   "execution_count": 10,
   "id": "e0903d27-53e7-4242-8bbc-3f76ee9e1e42",
   "metadata": {},
   "outputs": [
    {
     "data": {
      "text/plain": [
       "64.6086956521739"
      ]
     },
     "execution_count": 10,
     "metadata": {},
     "output_type": "execute_result"
    }
   ],
   "source": [
    "2972 / 46"
   ]
  },
  {
   "cell_type": "code",
   "execution_count": 11,
   "id": "f9038d6c-c2bd-442f-bbdb-479aca097792",
   "metadata": {},
   "outputs": [
    {
     "data": {
      "text/plain": [
       "2972.06"
      ]
     },
     "execution_count": 11,
     "metadata": {},
     "output_type": "execute_result"
    }
   ],
   "source": [
    "46 * 64.61"
   ]
  },
  {
   "cell_type": "code",
   "execution_count": 12,
   "id": "7e0fd46d-a5d3-46e0-8518-806e76b0b660",
   "metadata": {},
   "outputs": [
    {
     "data": {
      "text/plain": [
       "b_gekauft_gesamt\n",
       "0    744\n",
       "1     11\n",
       "Name: count, dtype: int64"
      ]
     },
     "execution_count": 12,
     "metadata": {},
     "output_type": "execute_result"
    }
   ],
   "source": [
    "y_test.value_counts()"
   ]
  },
  {
   "cell_type": "markdown",
   "id": "d8b2f71d-0365-46b6-a486-430b3cef9f4a",
   "metadata": {},
   "source": [
    "#### Logistic Regression model using class weights\n",
    "* Using class_weight = ‘balanced’, as the dataset is unbalanced\n",
    "* Using solver = 'lbfgs' because it works for no penalty Logistic Regression"
   ]
  },
  {
   "cell_type": "code",
   "execution_count": 13,
   "id": "476fa2ed-e2a5-411e-8573-b52b13ef96d4",
   "metadata": {},
   "outputs": [
    {
     "data": {
      "text/html": [
       "<style>#sk-container-id-1 {color: black;}#sk-container-id-1 pre{padding: 0;}#sk-container-id-1 div.sk-toggleable {background-color: white;}#sk-container-id-1 label.sk-toggleable__label {cursor: pointer;display: block;width: 100%;margin-bottom: 0;padding: 0.3em;box-sizing: border-box;text-align: center;}#sk-container-id-1 label.sk-toggleable__label-arrow:before {content: \"▸\";float: left;margin-right: 0.25em;color: #696969;}#sk-container-id-1 label.sk-toggleable__label-arrow:hover:before {color: black;}#sk-container-id-1 div.sk-estimator:hover label.sk-toggleable__label-arrow:before {color: black;}#sk-container-id-1 div.sk-toggleable__content {max-height: 0;max-width: 0;overflow: hidden;text-align: left;background-color: #f0f8ff;}#sk-container-id-1 div.sk-toggleable__content pre {margin: 0.2em;color: black;border-radius: 0.25em;background-color: #f0f8ff;}#sk-container-id-1 input.sk-toggleable__control:checked~div.sk-toggleable__content {max-height: 200px;max-width: 100%;overflow: auto;}#sk-container-id-1 input.sk-toggleable__control:checked~label.sk-toggleable__label-arrow:before {content: \"▾\";}#sk-container-id-1 div.sk-estimator input.sk-toggleable__control:checked~label.sk-toggleable__label {background-color: #d4ebff;}#sk-container-id-1 div.sk-label input.sk-toggleable__control:checked~label.sk-toggleable__label {background-color: #d4ebff;}#sk-container-id-1 input.sk-hidden--visually {border: 0;clip: rect(1px 1px 1px 1px);clip: rect(1px, 1px, 1px, 1px);height: 1px;margin: -1px;overflow: hidden;padding: 0;position: absolute;width: 1px;}#sk-container-id-1 div.sk-estimator {font-family: monospace;background-color: #f0f8ff;border: 1px dotted black;border-radius: 0.25em;box-sizing: border-box;margin-bottom: 0.5em;}#sk-container-id-1 div.sk-estimator:hover {background-color: #d4ebff;}#sk-container-id-1 div.sk-parallel-item::after {content: \"\";width: 100%;border-bottom: 1px solid gray;flex-grow: 1;}#sk-container-id-1 div.sk-label:hover label.sk-toggleable__label {background-color: #d4ebff;}#sk-container-id-1 div.sk-serial::before {content: \"\";position: absolute;border-left: 1px solid gray;box-sizing: border-box;top: 0;bottom: 0;left: 50%;z-index: 0;}#sk-container-id-1 div.sk-serial {display: flex;flex-direction: column;align-items: center;background-color: white;padding-right: 0.2em;padding-left: 0.2em;position: relative;}#sk-container-id-1 div.sk-item {position: relative;z-index: 1;}#sk-container-id-1 div.sk-parallel {display: flex;align-items: stretch;justify-content: center;background-color: white;position: relative;}#sk-container-id-1 div.sk-item::before, #sk-container-id-1 div.sk-parallel-item::before {content: \"\";position: absolute;border-left: 1px solid gray;box-sizing: border-box;top: 0;bottom: 0;left: 50%;z-index: -1;}#sk-container-id-1 div.sk-parallel-item {display: flex;flex-direction: column;z-index: 1;position: relative;background-color: white;}#sk-container-id-1 div.sk-parallel-item:first-child::after {align-self: flex-end;width: 50%;}#sk-container-id-1 div.sk-parallel-item:last-child::after {align-self: flex-start;width: 50%;}#sk-container-id-1 div.sk-parallel-item:only-child::after {width: 0;}#sk-container-id-1 div.sk-dashed-wrapped {border: 1px dashed gray;margin: 0 0.4em 0.5em 0.4em;box-sizing: border-box;padding-bottom: 0.4em;background-color: white;}#sk-container-id-1 div.sk-label label {font-family: monospace;font-weight: bold;display: inline-block;line-height: 1.2em;}#sk-container-id-1 div.sk-label-container {text-align: center;}#sk-container-id-1 div.sk-container {/* jupyter's `normalize.less` sets `[hidden] { display: none; }` but bootstrap.min.css set `[hidden] { display: none !important; }` so we also need the `!important` here to be able to override the default hidden behavior on the sphinx rendered scikit-learn.org. See: https://github.com/scikit-learn/scikit-learn/issues/21755 */display: inline-block !important;position: relative;}#sk-container-id-1 div.sk-text-repr-fallback {display: none;}</style><div id=\"sk-container-id-1\" class=\"sk-top-container\"><div class=\"sk-text-repr-fallback\"><pre>LogisticRegression(class_weight=&#x27;balanced&#x27;, max_iter=1000, penalty=None,\n",
       "                   random_state=42)</pre><b>In a Jupyter environment, please rerun this cell to show the HTML representation or trust the notebook. <br />On GitHub, the HTML representation is unable to render, please try loading this page with nbviewer.org.</b></div><div class=\"sk-container\" hidden><div class=\"sk-item\"><div class=\"sk-estimator sk-toggleable\"><input class=\"sk-toggleable__control sk-hidden--visually\" id=\"sk-estimator-id-1\" type=\"checkbox\" checked><label for=\"sk-estimator-id-1\" class=\"sk-toggleable__label sk-toggleable__label-arrow\">LogisticRegression</label><div class=\"sk-toggleable__content\"><pre>LogisticRegression(class_weight=&#x27;balanced&#x27;, max_iter=1000, penalty=None,\n",
       "                   random_state=42)</pre></div></div></div></div></div>"
      ],
      "text/plain": [
       "LogisticRegression(class_weight='balanced', max_iter=1000, penalty=None,\n",
       "                   random_state=42)"
      ]
     },
     "execution_count": 13,
     "metadata": {},
     "output_type": "execute_result"
    }
   ],
   "source": [
    "model_logreg = LogisticRegression(\n",
    "    class_weight=\"balanced\", solver=\"lbfgs\", penalty=None, random_state=42, max_iter=1000\n",
    ")\n",
    "model_logreg"
   ]
  },
  {
   "cell_type": "code",
   "execution_count": 14,
   "id": "26eed0e9-6f6f-4212-80ca-3da7038ab459",
   "metadata": {},
   "outputs": [
    {
     "data": {
      "text/plain": [
       "{'C': 1.0,\n",
       " 'class_weight': 'balanced',\n",
       " 'dual': False,\n",
       " 'fit_intercept': True,\n",
       " 'intercept_scaling': 1,\n",
       " 'l1_ratio': None,\n",
       " 'max_iter': 1000,\n",
       " 'multi_class': 'auto',\n",
       " 'n_jobs': None,\n",
       " 'penalty': None,\n",
       " 'random_state': 42,\n",
       " 'solver': 'lbfgs',\n",
       " 'tol': 0.0001,\n",
       " 'verbose': 0,\n",
       " 'warm_start': False}"
      ]
     },
     "execution_count": 14,
     "metadata": {},
     "output_type": "execute_result"
    }
   ],
   "source": [
    "model_logreg.get_params()"
   ]
  },
  {
   "cell_type": "markdown",
   "id": "3759b90a-d298-4620-901e-3bae6693a19f",
   "metadata": {},
   "source": [
    "* Define Numeric Transformer and Logistic Regression Pipeline\n",
    "* Since we have only numeric features, we simply use `KNNImputer` for missing values imputation and `StandardScaler` for scaling\n",
    "* If we would have categorical features, we would need to\n",
    "  1) separate features by type,\n",
    "  2) in one `Pipeline`, fill missing values using `SimpleImputer` and transform categorical features into integers using `OneHotEncoder`,\n",
    "  3) in other `Pipeline`, transform numerical features using `KNNImputer` and `StandardScaler`,\n",
    "  4) combine the two pipelines into one using `ColumnTransformer` and, finally,\n",
    "  5) add it as the first step in the final `Pipeline` for modelling."
   ]
  },
  {
   "cell_type": "code",
   "execution_count": 15,
   "id": "4cec560e-0d52-4451-aee1-d16549dea6df",
   "metadata": {},
   "outputs": [
    {
     "data": {
      "text/html": [
       "<style>#sk-container-id-2 {color: black;}#sk-container-id-2 pre{padding: 0;}#sk-container-id-2 div.sk-toggleable {background-color: white;}#sk-container-id-2 label.sk-toggleable__label {cursor: pointer;display: block;width: 100%;margin-bottom: 0;padding: 0.3em;box-sizing: border-box;text-align: center;}#sk-container-id-2 label.sk-toggleable__label-arrow:before {content: \"▸\";float: left;margin-right: 0.25em;color: #696969;}#sk-container-id-2 label.sk-toggleable__label-arrow:hover:before {color: black;}#sk-container-id-2 div.sk-estimator:hover label.sk-toggleable__label-arrow:before {color: black;}#sk-container-id-2 div.sk-toggleable__content {max-height: 0;max-width: 0;overflow: hidden;text-align: left;background-color: #f0f8ff;}#sk-container-id-2 div.sk-toggleable__content pre {margin: 0.2em;color: black;border-radius: 0.25em;background-color: #f0f8ff;}#sk-container-id-2 input.sk-toggleable__control:checked~div.sk-toggleable__content {max-height: 200px;max-width: 100%;overflow: auto;}#sk-container-id-2 input.sk-toggleable__control:checked~label.sk-toggleable__label-arrow:before {content: \"▾\";}#sk-container-id-2 div.sk-estimator input.sk-toggleable__control:checked~label.sk-toggleable__label {background-color: #d4ebff;}#sk-container-id-2 div.sk-label input.sk-toggleable__control:checked~label.sk-toggleable__label {background-color: #d4ebff;}#sk-container-id-2 input.sk-hidden--visually {border: 0;clip: rect(1px 1px 1px 1px);clip: rect(1px, 1px, 1px, 1px);height: 1px;margin: -1px;overflow: hidden;padding: 0;position: absolute;width: 1px;}#sk-container-id-2 div.sk-estimator {font-family: monospace;background-color: #f0f8ff;border: 1px dotted black;border-radius: 0.25em;box-sizing: border-box;margin-bottom: 0.5em;}#sk-container-id-2 div.sk-estimator:hover {background-color: #d4ebff;}#sk-container-id-2 div.sk-parallel-item::after {content: \"\";width: 100%;border-bottom: 1px solid gray;flex-grow: 1;}#sk-container-id-2 div.sk-label:hover label.sk-toggleable__label {background-color: #d4ebff;}#sk-container-id-2 div.sk-serial::before {content: \"\";position: absolute;border-left: 1px solid gray;box-sizing: border-box;top: 0;bottom: 0;left: 50%;z-index: 0;}#sk-container-id-2 div.sk-serial {display: flex;flex-direction: column;align-items: center;background-color: white;padding-right: 0.2em;padding-left: 0.2em;position: relative;}#sk-container-id-2 div.sk-item {position: relative;z-index: 1;}#sk-container-id-2 div.sk-parallel {display: flex;align-items: stretch;justify-content: center;background-color: white;position: relative;}#sk-container-id-2 div.sk-item::before, #sk-container-id-2 div.sk-parallel-item::before {content: \"\";position: absolute;border-left: 1px solid gray;box-sizing: border-box;top: 0;bottom: 0;left: 50%;z-index: -1;}#sk-container-id-2 div.sk-parallel-item {display: flex;flex-direction: column;z-index: 1;position: relative;background-color: white;}#sk-container-id-2 div.sk-parallel-item:first-child::after {align-self: flex-end;width: 50%;}#sk-container-id-2 div.sk-parallel-item:last-child::after {align-self: flex-start;width: 50%;}#sk-container-id-2 div.sk-parallel-item:only-child::after {width: 0;}#sk-container-id-2 div.sk-dashed-wrapped {border: 1px dashed gray;margin: 0 0.4em 0.5em 0.4em;box-sizing: border-box;padding-bottom: 0.4em;background-color: white;}#sk-container-id-2 div.sk-label label {font-family: monospace;font-weight: bold;display: inline-block;line-height: 1.2em;}#sk-container-id-2 div.sk-label-container {text-align: center;}#sk-container-id-2 div.sk-container {/* jupyter's `normalize.less` sets `[hidden] { display: none; }` but bootstrap.min.css set `[hidden] { display: none !important; }` so we also need the `!important` here to be able to override the default hidden behavior on the sphinx rendered scikit-learn.org. See: https://github.com/scikit-learn/scikit-learn/issues/21755 */display: inline-block !important;position: relative;}#sk-container-id-2 div.sk-text-repr-fallback {display: none;}</style><div id=\"sk-container-id-2\" class=\"sk-top-container\"><div class=\"sk-text-repr-fallback\"><pre>Pipeline(steps=[(&#x27;knn_imputer&#x27;, KNNImputer()), (&#x27;scaler&#x27;, StandardScaler()),\n",
       "                (&#x27;classifier&#x27;,\n",
       "                 LogisticRegression(class_weight=&#x27;balanced&#x27;, max_iter=1000,\n",
       "                                    penalty=None, random_state=42))])</pre><b>In a Jupyter environment, please rerun this cell to show the HTML representation or trust the notebook. <br />On GitHub, the HTML representation is unable to render, please try loading this page with nbviewer.org.</b></div><div class=\"sk-container\" hidden><div class=\"sk-item sk-dashed-wrapped\"><div class=\"sk-label-container\"><div class=\"sk-label sk-toggleable\"><input class=\"sk-toggleable__control sk-hidden--visually\" id=\"sk-estimator-id-2\" type=\"checkbox\" ><label for=\"sk-estimator-id-2\" class=\"sk-toggleable__label sk-toggleable__label-arrow\">Pipeline</label><div class=\"sk-toggleable__content\"><pre>Pipeline(steps=[(&#x27;knn_imputer&#x27;, KNNImputer()), (&#x27;scaler&#x27;, StandardScaler()),\n",
       "                (&#x27;classifier&#x27;,\n",
       "                 LogisticRegression(class_weight=&#x27;balanced&#x27;, max_iter=1000,\n",
       "                                    penalty=None, random_state=42))])</pre></div></div></div><div class=\"sk-serial\"><div class=\"sk-item\"><div class=\"sk-estimator sk-toggleable\"><input class=\"sk-toggleable__control sk-hidden--visually\" id=\"sk-estimator-id-3\" type=\"checkbox\" ><label for=\"sk-estimator-id-3\" class=\"sk-toggleable__label sk-toggleable__label-arrow\">KNNImputer</label><div class=\"sk-toggleable__content\"><pre>KNNImputer()</pre></div></div></div><div class=\"sk-item\"><div class=\"sk-estimator sk-toggleable\"><input class=\"sk-toggleable__control sk-hidden--visually\" id=\"sk-estimator-id-4\" type=\"checkbox\" ><label for=\"sk-estimator-id-4\" class=\"sk-toggleable__label sk-toggleable__label-arrow\">StandardScaler</label><div class=\"sk-toggleable__content\"><pre>StandardScaler()</pre></div></div></div><div class=\"sk-item\"><div class=\"sk-estimator sk-toggleable\"><input class=\"sk-toggleable__control sk-hidden--visually\" id=\"sk-estimator-id-5\" type=\"checkbox\" ><label for=\"sk-estimator-id-5\" class=\"sk-toggleable__label sk-toggleable__label-arrow\">LogisticRegression</label><div class=\"sk-toggleable__content\"><pre>LogisticRegression(class_weight=&#x27;balanced&#x27;, max_iter=1000, penalty=None,\n",
       "                   random_state=42)</pre></div></div></div></div></div></div></div>"
      ],
      "text/plain": [
       "Pipeline(steps=[('knn_imputer', KNNImputer()), ('scaler', StandardScaler()),\n",
       "                ('classifier',\n",
       "                 LogisticRegression(class_weight='balanced', max_iter=1000,\n",
       "                                    penalty=None, random_state=42))])"
      ]
     },
     "execution_count": 15,
     "metadata": {},
     "output_type": "execute_result"
    }
   ],
   "source": [
    "pipeline_logreg = Pipeline(steps=[\n",
    "    (\"knn_imputer\", KNNImputer(n_neighbors=5).set_output(transform=\"pandas\")),\n",
    "    (\"scaler\", StandardScaler().set_output(transform=\"pandas\")),\n",
    "    (\"classifier\", model_logreg)\n",
    "])\n",
    "\n",
    "pipeline_logreg"
   ]
  },
  {
   "cell_type": "code",
   "execution_count": 16,
   "id": "abd1c1d9-fee5-4487-a18e-09d8a11354c8",
   "metadata": {},
   "outputs": [],
   "source": [
    "scores = {}\n",
    "model_name_reduced = \"Logistic Regression with Class Weights (X_reduced)\"\n",
    "\n",
    "pipeline_logreg.fit(X_reduced_train, y_train)\n",
    "pred_logreg_reduced = pipeline_logreg.predict(X_reduced_test)\n",
    "scores[model_name_reduced] = f1_score(y_test, pred_logreg_reduced) # it is F1 score of the minority class"
   ]
  },
  {
   "cell_type": "code",
   "execution_count": 17,
   "id": "620f0d59-41b5-4323-b321-07fb0664566a",
   "metadata": {},
   "outputs": [
    {
     "name": "stdout",
     "output_type": "stream",
     "text": [
      "              precision    recall  f1-score   support\n",
      "\n",
      "           0       0.99      0.76      0.86       744\n",
      "           1       0.04      0.73      0.08        11\n",
      "\n",
      "    accuracy                           0.76       755\n",
      "   macro avg       0.52      0.75      0.47       755\n",
      "weighted avg       0.98      0.76      0.85       755\n",
      "\n"
     ]
    }
   ],
   "source": [
    "print(classification_report(y_test, pred_logreg_reduced))"
   ]
  },
  {
   "cell_type": "code",
   "execution_count": 18,
   "id": "cf98fa12-abdb-4b8e-9caf-66d9823ab293",
   "metadata": {},
   "outputs": [
    {
     "name": "stdout",
     "output_type": "stream",
     "text": [
      "[[569 175]\n",
      " [  3   8]]\n"
     ]
    }
   ],
   "source": [
    "print(confusion_matrix(y_test, pred_logreg_reduced, labels=[0, 1]))"
   ]
  },
  {
   "cell_type": "code",
   "execution_count": 19,
   "id": "d8bef652-2384-4770-9141-419aa4079642",
   "metadata": {},
   "outputs": [
    {
     "name": "stdout",
     "output_type": "stream",
     "text": [
      "Logistic: ROC AUC=0.780\n"
     ]
    },
    {
     "data": {
      "image/png": "[encoded data removed]",
      "text/plain": [
       "<Figure size 640x480 with 1 Axes>"
      ]
     },
     "metadata": {},
     "output_type": "display_data"
    }
   ],
   "source": [
    "proba_preds_logreg_reduced = pipeline_logreg.predict_proba(X_reduced_test)[:, 1]\n",
    "plot_roc(y_test, proba_preds_logreg_reduced, model_name=model_name_reduced)"
   ]
  },
  {
   "cell_type": "markdown",
   "id": "adce5182-bec9-4640-b415-3d7b42adaf6a",
   "metadata": {},
   "source": [
    "#### Logistic Regression model using SMOTE - Synthetic Over-Sampling"
   ]
  },
  {
   "cell_type": "code",
   "execution_count": 20,
   "id": "b57ceeef-f812-4a8c-8338-cc543d7fc096",
   "metadata": {},
   "outputs": [
    {
     "data": {
      "text/html": [
       "<style>#sk-container-id-3 {color: black;}#sk-container-id-3 pre{padding: 0;}#sk-container-id-3 div.sk-toggleable {background-color: white;}#sk-container-id-3 label.sk-toggleable__label {cursor: pointer;display: block;width: 100%;margin-bottom: 0;padding: 0.3em;box-sizing: border-box;text-align: center;}#sk-container-id-3 label.sk-toggleable__label-arrow:before {content: \"▸\";float: left;margin-right: 0.25em;color: #696969;}#sk-container-id-3 label.sk-toggleable__label-arrow:hover:before {color: black;}#sk-container-id-3 div.sk-estimator:hover label.sk-toggleable__label-arrow:before {color: black;}#sk-container-id-3 div.sk-toggleable__content {max-height: 0;max-width: 0;overflow: hidden;text-align: left;background-color: #f0f8ff;}#sk-container-id-3 div.sk-toggleable__content pre {margin: 0.2em;color: black;border-radius: 0.25em;background-color: #f0f8ff;}#sk-container-id-3 input.sk-toggleable__control:checked~div.sk-toggleable__content {max-height: 200px;max-width: 100%;overflow: auto;}#sk-container-id-3 input.sk-toggleable__control:checked~label.sk-toggleable__label-arrow:before {content: \"▾\";}#sk-container-id-3 div.sk-estimator input.sk-toggleable__control:checked~label.sk-toggleable__label {background-color: #d4ebff;}#sk-container-id-3 div.sk-label input.sk-toggleable__control:checked~label.sk-toggleable__label {background-color: #d4ebff;}#sk-container-id-3 input.sk-hidden--visually {border: 0;clip: rect(1px 1px 1px 1px);clip: rect(1px, 1px, 1px, 1px);height: 1px;margin: -1px;overflow: hidden;padding: 0;position: absolute;width: 1px;}#sk-container-id-3 div.sk-estimator {font-family: monospace;background-color: #f0f8ff;border: 1px dotted black;border-radius: 0.25em;box-sizing: border-box;margin-bottom: 0.5em;}#sk-container-id-3 div.sk-estimator:hover {background-color: #d4ebff;}#sk-container-id-3 div.sk-parallel-item::after {content: \"\";width: 100%;border-bottom: 1px solid gray;flex-grow: 1;}#sk-container-id-3 div.sk-label:hover label.sk-toggleable__label {background-color: #d4ebff;}#sk-container-id-3 div.sk-serial::before {content: \"\";position: absolute;border-left: 1px solid gray;box-sizing: border-box;top: 0;bottom: 0;left: 50%;z-index: 0;}#sk-container-id-3 div.sk-serial {display: flex;flex-direction: column;align-items: center;background-color: white;padding-right: 0.2em;padding-left: 0.2em;position: relative;}#sk-container-id-3 div.sk-item {position: relative;z-index: 1;}#sk-container-id-3 div.sk-parallel {display: flex;align-items: stretch;justify-content: center;background-color: white;position: relative;}#sk-container-id-3 div.sk-item::before, #sk-container-id-3 div.sk-parallel-item::before {content: \"\";position: absolute;border-left: 1px solid gray;box-sizing: border-box;top: 0;bottom: 0;left: 50%;z-index: -1;}#sk-container-id-3 div.sk-parallel-item {display: flex;flex-direction: column;z-index: 1;position: relative;background-color: white;}#sk-container-id-3 div.sk-parallel-item:first-child::after {align-self: flex-end;width: 50%;}#sk-container-id-3 div.sk-parallel-item:last-child::after {align-self: flex-start;width: 50%;}#sk-container-id-3 div.sk-parallel-item:only-child::after {width: 0;}#sk-container-id-3 div.sk-dashed-wrapped {border: 1px dashed gray;margin: 0 0.4em 0.5em 0.4em;box-sizing: border-box;padding-bottom: 0.4em;background-color: white;}#sk-container-id-3 div.sk-label label {font-family: monospace;font-weight: bold;display: inline-block;line-height: 1.2em;}#sk-container-id-3 div.sk-label-container {text-align: center;}#sk-container-id-3 div.sk-container {/* jupyter's `normalize.less` sets `[hidden] { display: none; }` but bootstrap.min.css set `[hidden] { display: none !important; }` so we also need the `!important` here to be able to override the default hidden behavior on the sphinx rendered scikit-learn.org. See: https://github.com/scikit-learn/scikit-learn/issues/21755 */display: inline-block !important;position: relative;}#sk-container-id-3 div.sk-text-repr-fallback {display: none;}</style><div id=\"sk-container-id-3\" class=\"sk-top-container\"><div class=\"sk-text-repr-fallback\"><pre>Pipeline(steps=[(&#x27;knn_imputer&#x27;, KNNImputer()), (&#x27;scaler&#x27;, StandardScaler()),\n",
       "                (&#x27;smote&#x27;, SMOTE(random_state=42)),\n",
       "                (&#x27;classifier&#x27;,\n",
       "                 LogisticRegression(class_weight=&#x27;balanced&#x27;, max_iter=1000,\n",
       "                                    penalty=None, random_state=42))])</pre><b>In a Jupyter environment, please rerun this cell to show the HTML representation or trust the notebook. <br />On GitHub, the HTML representation is unable to render, please try loading this page with nbviewer.org.</b></div><div class=\"sk-container\" hidden><div class=\"sk-item sk-dashed-wrapped\"><div class=\"sk-label-container\"><div class=\"sk-label sk-toggleable\"><input class=\"sk-toggleable__control sk-hidden--visually\" id=\"sk-estimator-id-6\" type=\"checkbox\" ><label for=\"sk-estimator-id-6\" class=\"sk-toggleable__label sk-toggleable__label-arrow\">Pipeline</label><div class=\"sk-toggleable__content\"><pre>Pipeline(steps=[(&#x27;knn_imputer&#x27;, KNNImputer()), (&#x27;scaler&#x27;, StandardScaler()),\n",
       "                (&#x27;smote&#x27;, SMOTE(random_state=42)),\n",
       "                (&#x27;classifier&#x27;,\n",
       "                 LogisticRegression(class_weight=&#x27;balanced&#x27;, max_iter=1000,\n",
       "                                    penalty=None, random_state=42))])</pre></div></div></div><div class=\"sk-serial\"><div class=\"sk-item\"><div class=\"sk-estimator sk-toggleable\"><input class=\"sk-toggleable__control sk-hidden--visually\" id=\"sk-estimator-id-7\" type=\"checkbox\" ><label for=\"sk-estimator-id-7\" class=\"sk-toggleable__label sk-toggleable__label-arrow\">KNNImputer</label><div class=\"sk-toggleable__content\"><pre>KNNImputer()</pre></div></div></div><div class=\"sk-item\"><div class=\"sk-estimator sk-toggleable\"><input class=\"sk-toggleable__control sk-hidden--visually\" id=\"sk-estimator-id-8\" type=\"checkbox\" ><label for=\"sk-estimator-id-8\" class=\"sk-toggleable__label sk-toggleable__label-arrow\">StandardScaler</label><div class=\"sk-toggleable__content\"><pre>StandardScaler()</pre></div></div></div><div class=\"sk-item\"><div class=\"sk-estimator sk-toggleable\"><input class=\"sk-toggleable__control sk-hidden--visually\" id=\"sk-estimator-id-9\" type=\"checkbox\" ><label for=\"sk-estimator-id-9\" class=\"sk-toggleable__label sk-toggleable__label-arrow\">SMOTE</label><div class=\"sk-toggleable__content\"><pre>SMOTE(random_state=42)</pre></div></div></div><div class=\"sk-item\"><div class=\"sk-estimator sk-toggleable\"><input class=\"sk-toggleable__control sk-hidden--visually\" id=\"sk-estimator-id-10\" type=\"checkbox\" ><label for=\"sk-estimator-id-10\" class=\"sk-toggleable__label sk-toggleable__label-arrow\">LogisticRegression</label><div class=\"sk-toggleable__content\"><pre>LogisticRegression(class_weight=&#x27;balanced&#x27;, max_iter=1000, penalty=None,\n",
       "                   random_state=42)</pre></div></div></div></div></div></div></div>"
      ],
      "text/plain": [
       "Pipeline(steps=[('knn_imputer', KNNImputer()), ('scaler', StandardScaler()),\n",
       "                ('smote', SMOTE(random_state=42)),\n",
       "                ('classifier',\n",
       "                 LogisticRegression(class_weight='balanced', max_iter=1000,\n",
       "                                    penalty=None, random_state=42))])"
      ]
     },
     "execution_count": 20,
     "metadata": {},
     "output_type": "execute_result"
    }
   ],
   "source": [
    "pipeline_smote_logreg = ImbPipeline(steps=[\n",
    "    (\"knn_imputer\", KNNImputer(n_neighbors=5).set_output(transform=\"pandas\")),\n",
    "    (\"scaler\", StandardScaler().set_output(transform=\"pandas\")),\n",
    "    (\"smote\", SMOTE(random_state=42)), # this step is only in imblearn.pipeline's Pipeline\n",
    "    (\"classifier\", model_logreg)\n",
    "                              ])\n",
    "pipeline_smote_logreg"
   ]
  },
  {
   "cell_type": "code",
   "execution_count": 21,
   "id": "5bb6675b-8bb2-418f-9d10-3f028d0bd15f",
   "metadata": {},
   "outputs": [
    {
     "data": {
      "text/html": [
       "<style>#sk-container-id-4 {color: black;}#sk-container-id-4 pre{padding: 0;}#sk-container-id-4 div.sk-toggleable {background-color: white;}#sk-container-id-4 label.sk-toggleable__label {cursor: pointer;display: block;width: 100%;margin-bottom: 0;padding: 0.3em;box-sizing: border-box;text-align: center;}#sk-container-id-4 label.sk-toggleable__label-arrow:before {content: \"▸\";float: left;margin-right: 0.25em;color: #696969;}#sk-container-id-4 label.sk-toggleable__label-arrow:hover:before {color: black;}#sk-container-id-4 div.sk-estimator:hover label.sk-toggleable__label-arrow:before {color: black;}#sk-container-id-4 div.sk-toggleable__content {max-height: 0;max-width: 0;overflow: hidden;text-align: left;background-color: #f0f8ff;}#sk-container-id-4 div.sk-toggleable__content pre {margin: 0.2em;color: black;border-radius: 0.25em;background-color: #f0f8ff;}#sk-container-id-4 input.sk-toggleable__control:checked~div.sk-toggleable__content {max-height: 200px;max-width: 100%;overflow: auto;}#sk-container-id-4 input.sk-toggleable__control:checked~label.sk-toggleable__label-arrow:before {content: \"▾\";}#sk-container-id-4 div.sk-estimator input.sk-toggleable__control:checked~label.sk-toggleable__label {background-color: #d4ebff;}#sk-container-id-4 div.sk-label input.sk-toggleable__control:checked~label.sk-toggleable__label {background-color: #d4ebff;}#sk-container-id-4 input.sk-hidden--visually {border: 0;clip: rect(1px 1px 1px 1px);clip: rect(1px, 1px, 1px, 1px);height: 1px;margin: -1px;overflow: hidden;padding: 0;position: absolute;width: 1px;}#sk-container-id-4 div.sk-estimator {font-family: monospace;background-color: #f0f8ff;border: 1px dotted black;border-radius: 0.25em;box-sizing: border-box;margin-bottom: 0.5em;}#sk-container-id-4 div.sk-estimator:hover {background-color: #d4ebff;}#sk-container-id-4 div.sk-parallel-item::after {content: \"\";width: 100%;border-bottom: 1px solid gray;flex-grow: 1;}#sk-container-id-4 div.sk-label:hover label.sk-toggleable__label {background-color: #d4ebff;}#sk-container-id-4 div.sk-serial::before {content: \"\";position: absolute;border-left: 1px solid gray;box-sizing: border-box;top: 0;bottom: 0;left: 50%;z-index: 0;}#sk-container-id-4 div.sk-serial {display: flex;flex-direction: column;align-items: center;background-color: white;padding-right: 0.2em;padding-left: 0.2em;position: relative;}#sk-container-id-4 div.sk-item {position: relative;z-index: 1;}#sk-container-id-4 div.sk-parallel {display: flex;align-items: stretch;justify-content: center;background-color: white;position: relative;}#sk-container-id-4 div.sk-item::before, #sk-container-id-4 div.sk-parallel-item::before {content: \"\";position: absolute;border-left: 1px solid gray;box-sizing: border-box;top: 0;bottom: 0;left: 50%;z-index: -1;}#sk-container-id-4 div.sk-parallel-item {display: flex;flex-direction: column;z-index: 1;position: relative;background-color: white;}#sk-container-id-4 div.sk-parallel-item:first-child::after {align-self: flex-end;width: 50%;}#sk-container-id-4 div.sk-parallel-item:last-child::after {align-self: flex-start;width: 50%;}#sk-container-id-4 div.sk-parallel-item:only-child::after {width: 0;}#sk-container-id-4 div.sk-dashed-wrapped {border: 1px dashed gray;margin: 0 0.4em 0.5em 0.4em;box-sizing: border-box;padding-bottom: 0.4em;background-color: white;}#sk-container-id-4 div.sk-label label {font-family: monospace;font-weight: bold;display: inline-block;line-height: 1.2em;}#sk-container-id-4 div.sk-label-container {text-align: center;}#sk-container-id-4 div.sk-container {/* jupyter's `normalize.less` sets `[hidden] { display: none; }` but bootstrap.min.css set `[hidden] { display: none !important; }` so we also need the `!important` here to be able to override the default hidden behavior on the sphinx rendered scikit-learn.org. See: https://github.com/scikit-learn/scikit-learn/issues/21755 */display: inline-block !important;position: relative;}#sk-container-id-4 div.sk-text-repr-fallback {display: none;}</style><div id=\"sk-container-id-4\" class=\"sk-top-container\"><div class=\"sk-text-repr-fallback\"><pre>Pipeline(steps=[(&#x27;knn_imputer&#x27;, KNNImputer()), (&#x27;scaler&#x27;, StandardScaler()),\n",
       "                (&#x27;smote&#x27;, SMOTE(random_state=42))])</pre><b>In a Jupyter environment, please rerun this cell to show the HTML representation or trust the notebook. <br />On GitHub, the HTML representation is unable to render, please try loading this page with nbviewer.org.</b></div><div class=\"sk-container\" hidden><div class=\"sk-item sk-dashed-wrapped\"><div class=\"sk-label-container\"><div class=\"sk-label sk-toggleable\"><input class=\"sk-toggleable__control sk-hidden--visually\" id=\"sk-estimator-id-11\" type=\"checkbox\" ><label for=\"sk-estimator-id-11\" class=\"sk-toggleable__label sk-toggleable__label-arrow\">Pipeline</label><div class=\"sk-toggleable__content\"><pre>Pipeline(steps=[(&#x27;knn_imputer&#x27;, KNNImputer()), (&#x27;scaler&#x27;, StandardScaler()),\n",
       "                (&#x27;smote&#x27;, SMOTE(random_state=42))])</pre></div></div></div><div class=\"sk-serial\"><div class=\"sk-item\"><div class=\"sk-estimator sk-toggleable\"><input class=\"sk-toggleable__control sk-hidden--visually\" id=\"sk-estimator-id-12\" type=\"checkbox\" ><label for=\"sk-estimator-id-12\" class=\"sk-toggleable__label sk-toggleable__label-arrow\">KNNImputer</label><div class=\"sk-toggleable__content\"><pre>KNNImputer()</pre></div></div></div><div class=\"sk-item\"><div class=\"sk-estimator sk-toggleable\"><input class=\"sk-toggleable__control sk-hidden--visually\" id=\"sk-estimator-id-13\" type=\"checkbox\" ><label for=\"sk-estimator-id-13\" class=\"sk-toggleable__label sk-toggleable__label-arrow\">StandardScaler</label><div class=\"sk-toggleable__content\"><pre>StandardScaler()</pre></div></div></div><div class=\"sk-item\"><div class=\"sk-estimator sk-toggleable\"><input class=\"sk-toggleable__control sk-hidden--visually\" id=\"sk-estimator-id-14\" type=\"checkbox\" ><label for=\"sk-estimator-id-14\" class=\"sk-toggleable__label sk-toggleable__label-arrow\">SMOTE</label><div class=\"sk-toggleable__content\"><pre>SMOTE(random_state=42)</pre></div></div></div></div></div></div></div>"
      ],
      "text/plain": [
       "Pipeline(steps=[('knn_imputer', KNNImputer()), ('scaler', StandardScaler()),\n",
       "                ('smote', SMOTE(random_state=42))])"
      ]
     },
     "execution_count": 21,
     "metadata": {},
     "output_type": "execute_result"
    }
   ],
   "source": [
    "# Checking the upsampling\n",
    "pipeline_smote_logreg[:3]"
   ]
  },
  {
   "cell_type": "code",
   "execution_count": 22,
   "id": "cb402f33-ea5b-4325-9779-62e44dcb7edd",
   "metadata": {},
   "outputs": [
    {
     "data": {
      "text/plain": [
       "b_gekauft_gesamt\n",
       "0    2972\n",
       "1    2972\n",
       "Name: count, dtype: int64"
      ]
     },
     "execution_count": 22,
     "metadata": {},
     "output_type": "execute_result"
    }
   ],
   "source": [
    "X_train_res, y_train_res = pipeline_smote_logreg[:3].fit_resample(X_reduced_train, y_train)\n",
    "y_train_res.value_counts() # now 1 label is as frequent as 0"
   ]
  },
  {
   "cell_type": "code",
   "execution_count": 23,
   "id": "431a0e27-71f7-4733-9a69-69fa24e49d52",
   "metadata": {},
   "outputs": [
    {
     "data": {
      "text/plain": [
       "b_gekauft_gesamt\n",
       "0    2972\n",
       "1      46\n",
       "Name: count, dtype: int64"
      ]
     },
     "execution_count": 23,
     "metadata": {},
     "output_type": "execute_result"
    }
   ],
   "source": [
    "y_train.value_counts() # before"
   ]
  },
  {
   "cell_type": "code",
   "execution_count": 24,
   "id": "a0f8dd2d-7f64-4efb-9126-dcc8fc45d52e",
   "metadata": {},
   "outputs": [],
   "source": [
    "model_name_smote_reduced = \"Logistic Regression with SMOTE (X_reduced)\"\n",
    "\n",
    "pipeline_smote_logreg.fit(X_reduced_train, y_train)\n",
    "pred_logreg_smote_reduced = pipeline_smote_logreg.predict(X_reduced_test)\n",
    "scores[model_name_smote_reduced] = f1_score(y_test, pred_logreg_smote_reduced) # it is F1 score of the minority class"
   ]
  },
  {
   "cell_type": "code",
   "execution_count": 25,
   "id": "d3feba84-f9e9-4660-b6f3-041e18fb75a9",
   "metadata": {},
   "outputs": [
    {
     "name": "stdout",
     "output_type": "stream",
     "text": [
      "              precision    recall  f1-score   support\n",
      "\n",
      "           0       0.99      0.74      0.85       744\n",
      "           1       0.04      0.73      0.08        11\n",
      "\n",
      "    accuracy                           0.74       755\n",
      "   macro avg       0.52      0.73      0.46       755\n",
      "weighted avg       0.98      0.74      0.84       755\n",
      "\n"
     ]
    }
   ],
   "source": [
    "print(classification_report(y_test, pred_logreg_smote_reduced))"
   ]
  },
  {
   "cell_type": "code",
   "execution_count": 26,
   "id": "7e5e293b-b226-4053-b210-e68ded306185",
   "metadata": {},
   "outputs": [
    {
     "name": "stdout",
     "output_type": "stream",
     "text": [
      "[[550 194]\n",
      " [  3   8]]\n"
     ]
    }
   ],
   "source": [
    "print(confusion_matrix(y_test, pred_logreg_smote_reduced, labels=[0, 1]))"
   ]
  },
  {
   "cell_type": "code",
   "execution_count": 27,
   "id": "de763906-c264-4b43-a4bf-7370e8ad0e5e",
   "metadata": {},
   "outputs": [
    {
     "name": "stdout",
     "output_type": "stream",
     "text": [
      "Logistic: ROC AUC=0.759\n"
     ]
    },
    {
     "data": {
      "image/png": "[encoded data removed]",
      "text/plain": [
       "<Figure size 640x480 with 1 Axes>"
      ]
     },
     "metadata": {},
     "output_type": "display_data"
    }
   ],
   "source": [
    "proba_preds_logreg_smote_reduced = pipeline_smote_logreg.predict_proba(X_reduced_test)[:, 1]\n",
    "plot_roc(y_test, proba_preds_logreg_smote_reduced, model_name=model_name_smote_reduced)"
   ]
  },
  {
   "cell_type": "markdown",
   "id": "30d9b7c5-4b68-461b-a259-5d65f96280dc",
   "metadata": {},
   "source": [
    "### Full data and logistic regression\n",
    "#### Train - test split"
   ]
  },
  {
   "cell_type": "code",
   "execution_count": 28,
   "id": "0e1b7752-df69-4319-abba-9cdd0bd197c6",
   "metadata": {},
   "outputs": [
    {
     "data": {
      "text/plain": [
       "((3018, 24), (755, 24))"
      ]
     },
     "execution_count": 28,
     "metadata": {},
     "output_type": "execute_result"
    }
   ],
   "source": [
    "df_train, df_test = train_test_split(\n",
    "    df, test_size=0.2, random_state=5, stratify=df[target])\n",
    "df_train.shape, df_test.shape"
   ]
  },
  {
   "cell_type": "code",
   "execution_count": 29,
   "id": "6c9153e1-f179-4bb7-9220-0e68158c42e1",
   "metadata": {},
   "outputs": [
    {
     "data": {
      "text/plain": [
       "((3018, 23), (755, 23), (3018,), (755,))"
      ]
     },
     "execution_count": 29,
     "metadata": {},
     "output_type": "execute_result"
    }
   ],
   "source": [
    "X_train = df_train.drop(columns=[target])\n",
    "#y_train = df_train[target] #same as before\n",
    "X_test = df_test.drop(columns=[target])\n",
    "#y_test = df_test[target] #same as before\n",
    "X_train.shape, X_test.shape, y_train.shape, y_test.shape"
   ]
  },
  {
   "cell_type": "markdown",
   "id": "c6236519-bd2e-4ee3-8804-2fe766e5c513",
   "metadata": {},
   "source": [
    "#### Logistic Regression model using class weights"
   ]
  },
  {
   "cell_type": "code",
   "execution_count": 30,
   "id": "cc3c4b25-ee60-4792-8960-2b5fb8b0ea17",
   "metadata": {},
   "outputs": [],
   "source": [
    "model_name = \"Logistic Regression with Class Weights (X full)\"\n",
    "\n",
    "pipeline_logreg.fit(X_train, y_train)\n",
    "pred_logreg = pipeline_logreg.predict(X_test)\n",
    "scores[model_name] = f1_score(y_test, pred_logreg)"
   ]
  },
  {
   "cell_type": "code",
   "execution_count": 31,
   "id": "9c9cb1a1-c081-4eef-82e2-f48759b772a4",
   "metadata": {},
   "outputs": [
    {
     "name": "stdout",
     "output_type": "stream",
     "text": [
      "              precision    recall  f1-score   support\n",
      "\n",
      "           0       0.99      0.76      0.86       744\n",
      "           1       0.04      0.73      0.08        11\n",
      "\n",
      "    accuracy                           0.76       755\n",
      "   macro avg       0.52      0.74      0.47       755\n",
      "weighted avg       0.98      0.76      0.85       755\n",
      "\n"
     ]
    }
   ],
   "source": [
    "print(classification_report(y_test, pred_logreg))"
   ]
  },
  {
   "cell_type": "code",
   "execution_count": 32,
   "id": "37e6d406-f71b-423a-ab0a-25bceca12fb1",
   "metadata": {},
   "outputs": [
    {
     "name": "stdout",
     "output_type": "stream",
     "text": [
      "[[563 181]\n",
      " [  3   8]]\n"
     ]
    }
   ],
   "source": [
    "print(confusion_matrix(y_test, pred_logreg, labels=[0, 1]))"
   ]
  },
  {
   "cell_type": "code",
   "execution_count": 33,
   "id": "f30520ba-4d59-456e-8efa-38d35690ec8f",
   "metadata": {},
   "outputs": [
    {
     "name": "stdout",
     "output_type": "stream",
     "text": [
      "Logistic: ROC AUC=0.772\n"
     ]
    },
    {
     "data": {
      "image/png": "[encoded data removed]",
      "text/plain": [
       "<Figure size 640x480 with 1 Axes>"
      ]
     },
     "metadata": {},
     "output_type": "display_data"
    }
   ],
   "source": [
    "proba_preds_logreg = pipeline_logreg.predict_proba(X_test)[:, 1]\n",
    "plot_roc(y_test, proba_preds_logreg, model_name=model_name)"
   ]
  },
  {
   "cell_type": "markdown",
   "id": "26c2c746-b65f-441c-b64b-709387082d13",
   "metadata": {},
   "source": [
    "### Compare model performance"
   ]
  },
  {
   "cell_type": "code",
   "execution_count": 34,
   "id": "3cfe6a62-72bb-4679-9820-d34aafa55c20",
   "metadata": {},
   "outputs": [
    {
     "data": {
      "image/png": "[encoded data removed]",
      "text/plain": [
       "<Figure size 1000x1000 with 1 Axes>"
      ]
     },
     "metadata": {},
     "output_type": "display_data"
    }
   ],
   "source": [
    "def plot_scores(scores):\n",
    "    scores_df = pd.DataFrame({\n",
    "        'model': scores.keys(), 'F1 score of minority class': scores.values()\n",
    "    })\n",
    "    scores_df = scores_df.sort_values('F1 score of minority class', ascending=True).set_index(\"model\")\n",
    "    f, ax = plt.subplots(figsize=(10,10)) \n",
    "    scores_df.plot(kind=\"barh\", ax=ax);\n",
    "\n",
    "plot_scores(scores)"
   ]
  },
  {
   "cell_type": "markdown",
   "id": "0eec4872-f272-46f2-9964-a5be13381a82",
   "metadata": {},
   "source": [
    "__Conclusion__\n",
    "* Logistic regression model using SMOTE performes worse for the majority class and the same for the minority class compared to using class weights.\n",
    "* Logistic regression model using full data performes comparable to the same model but using reduced data.\n",
    "* Will not try undersamling because there is already very little data for the minority label (46 samples).\n",
    "* It's time to try a tree-based model, which is more robust to class inbalance."
   ]
  },
  {
   "cell_type": "markdown",
   "id": "e925b985-1688-4106-a51b-088ee17aa633",
   "metadata": {},
   "source": [
    "#### RandomForestClassifier"
   ]
  },
  {
   "cell_type": "code",
   "execution_count": 35,
   "id": "baf0aca4-e4ae-44b8-9e25-6f1ad1e3419e",
   "metadata": {},
   "outputs": [
    {
     "data": {
      "text/html": [
       "<style>#sk-container-id-5 {color: black;}#sk-container-id-5 pre{padding: 0;}#sk-container-id-5 div.sk-toggleable {background-color: white;}#sk-container-id-5 label.sk-toggleable__label {cursor: pointer;display: block;width: 100%;margin-bottom: 0;padding: 0.3em;box-sizing: border-box;text-align: center;}#sk-container-id-5 label.sk-toggleable__label-arrow:before {content: \"▸\";float: left;margin-right: 0.25em;color: #696969;}#sk-container-id-5 label.sk-toggleable__label-arrow:hover:before {color: black;}#sk-container-id-5 div.sk-estimator:hover label.sk-toggleable__label-arrow:before {color: black;}#sk-container-id-5 div.sk-toggleable__content {max-height: 0;max-width: 0;overflow: hidden;text-align: left;background-color: #f0f8ff;}#sk-container-id-5 div.sk-toggleable__content pre {margin: 0.2em;color: black;border-radius: 0.25em;background-color: #f0f8ff;}#sk-container-id-5 input.sk-toggleable__control:checked~div.sk-toggleable__content {max-height: 200px;max-width: 100%;overflow: auto;}#sk-container-id-5 input.sk-toggleable__control:checked~label.sk-toggleable__label-arrow:before {content: \"▾\";}#sk-container-id-5 div.sk-estimator input.sk-toggleable__control:checked~label.sk-toggleable__label {background-color: #d4ebff;}#sk-container-id-5 div.sk-label input.sk-toggleable__control:checked~label.sk-toggleable__label {background-color: #d4ebff;}#sk-container-id-5 input.sk-hidden--visually {border: 0;clip: rect(1px 1px 1px 1px);clip: rect(1px, 1px, 1px, 1px);height: 1px;margin: -1px;overflow: hidden;padding: 0;position: absolute;width: 1px;}#sk-container-id-5 div.sk-estimator {font-family: monospace;background-color: #f0f8ff;border: 1px dotted black;border-radius: 0.25em;box-sizing: border-box;margin-bottom: 0.5em;}#sk-container-id-5 div.sk-estimator:hover {background-color: #d4ebff;}#sk-container-id-5 div.sk-parallel-item::after {content: \"\";width: 100%;border-bottom: 1px solid gray;flex-grow: 1;}#sk-container-id-5 div.sk-label:hover label.sk-toggleable__label {background-color: #d4ebff;}#sk-container-id-5 div.sk-serial::before {content: \"\";position: absolute;border-left: 1px solid gray;box-sizing: border-box;top: 0;bottom: 0;left: 50%;z-index: 0;}#sk-container-id-5 div.sk-serial {display: flex;flex-direction: column;align-items: center;background-color: white;padding-right: 0.2em;padding-left: 0.2em;position: relative;}#sk-container-id-5 div.sk-item {position: relative;z-index: 1;}#sk-container-id-5 div.sk-parallel {display: flex;align-items: stretch;justify-content: center;background-color: white;position: relative;}#sk-container-id-5 div.sk-item::before, #sk-container-id-5 div.sk-parallel-item::before {content: \"\";position: absolute;border-left: 1px solid gray;box-sizing: border-box;top: 0;bottom: 0;left: 50%;z-index: -1;}#sk-container-id-5 div.sk-parallel-item {display: flex;flex-direction: column;z-index: 1;position: relative;background-color: white;}#sk-container-id-5 div.sk-parallel-item:first-child::after {align-self: flex-end;width: 50%;}#sk-container-id-5 div.sk-parallel-item:last-child::after {align-self: flex-start;width: 50%;}#sk-container-id-5 div.sk-parallel-item:only-child::after {width: 0;}#sk-container-id-5 div.sk-dashed-wrapped {border: 1px dashed gray;margin: 0 0.4em 0.5em 0.4em;box-sizing: border-box;padding-bottom: 0.4em;background-color: white;}#sk-container-id-5 div.sk-label label {font-family: monospace;font-weight: bold;display: inline-block;line-height: 1.2em;}#sk-container-id-5 div.sk-label-container {text-align: center;}#sk-container-id-5 div.sk-container {/* jupyter's `normalize.less` sets `[hidden] { display: none; }` but bootstrap.min.css set `[hidden] { display: none !important; }` so we also need the `!important` here to be able to override the default hidden behavior on the sphinx rendered scikit-learn.org. See: https://github.com/scikit-learn/scikit-learn/issues/21755 */display: inline-block !important;position: relative;}#sk-container-id-5 div.sk-text-repr-fallback {display: none;}</style><div id=\"sk-container-id-5\" class=\"sk-top-container\"><div class=\"sk-text-repr-fallback\"><pre>Pipeline(steps=[(&#x27;knn_imputer&#x27;, KNNImputer()),\n",
       "                (&#x27;classifier&#x27;,\n",
       "                 RandomForestClassifier(n_estimators=500, random_state=42))])</pre><b>In a Jupyter environment, please rerun this cell to show the HTML representation or trust the notebook. <br />On GitHub, the HTML representation is unable to render, please try loading this page with nbviewer.org.</b></div><div class=\"sk-container\" hidden><div class=\"sk-item sk-dashed-wrapped\"><div class=\"sk-label-container\"><div class=\"sk-label sk-toggleable\"><input class=\"sk-toggleable__control sk-hidden--visually\" id=\"sk-estimator-id-15\" type=\"checkbox\" ><label for=\"sk-estimator-id-15\" class=\"sk-toggleable__label sk-toggleable__label-arrow\">Pipeline</label><div class=\"sk-toggleable__content\"><pre>Pipeline(steps=[(&#x27;knn_imputer&#x27;, KNNImputer()),\n",
       "                (&#x27;classifier&#x27;,\n",
       "                 RandomForestClassifier(n_estimators=500, random_state=42))])</pre></div></div></div><div class=\"sk-serial\"><div class=\"sk-item\"><div class=\"sk-estimator sk-toggleable\"><input class=\"sk-toggleable__control sk-hidden--visually\" id=\"sk-estimator-id-16\" type=\"checkbox\" ><label for=\"sk-estimator-id-16\" class=\"sk-toggleable__label sk-toggleable__label-arrow\">KNNImputer</label><div class=\"sk-toggleable__content\"><pre>KNNImputer()</pre></div></div></div><div class=\"sk-item\"><div class=\"sk-estimator sk-toggleable\"><input class=\"sk-toggleable__control sk-hidden--visually\" id=\"sk-estimator-id-17\" type=\"checkbox\" ><label for=\"sk-estimator-id-17\" class=\"sk-toggleable__label sk-toggleable__label-arrow\">RandomForestClassifier</label><div class=\"sk-toggleable__content\"><pre>RandomForestClassifier(n_estimators=500, random_state=42)</pre></div></div></div></div></div></div></div>"
      ],
      "text/plain": [
       "Pipeline(steps=[('knn_imputer', KNNImputer()),\n",
       "                ('classifier',\n",
       "                 RandomForestClassifier(n_estimators=500, random_state=42))])"
      ]
     },
     "execution_count": 35,
     "metadata": {},
     "output_type": "execute_result"
    }
   ],
   "source": [
    "#class_weights = {0: 1, 1: 65}\n",
    "\n",
    "rfc = RandomForestClassifier(#class_weight=class_weights, # does not work\n",
    "                             n_estimators=500, random_state=42)\n",
    "# Tree-based models do not require scaling\n",
    "pipeline_rfc = Pipeline([\n",
    "    (\"knn_imputer\", KNNImputer(n_neighbors=5).set_output(transform=\"pandas\")),\n",
    "    #(\"smote\", SMOTE(random_state=42)), # does not work\n",
    "    (\"classifier\", rfc)\n",
    "])\n",
    "pipeline_rfc"
   ]
  },
  {
   "cell_type": "code",
   "execution_count": 36,
   "id": "d6e6f6dd-a945-4920-8f63-dfdb1d06fc5e",
   "metadata": {},
   "outputs": [],
   "source": [
    "model_name = \"RandomForestClassifier (X full)\"\n",
    "\n",
    "pipeline_rfc.fit(X_train, y_train)\n",
    "pred_rfc = pipeline_rfc.predict(X_test)\n",
    "scores[model_name] = f1_score(y_test, pred_rfc)"
   ]
  },
  {
   "cell_type": "code",
   "execution_count": 37,
   "id": "77577c7f-f4ce-4a51-8bb4-75cd164f731b",
   "metadata": {},
   "outputs": [
    {
     "name": "stdout",
     "output_type": "stream",
     "text": [
      "              precision    recall  f1-score   support\n",
      "\n",
      "           0       0.99      1.00      0.99       744\n",
      "           1       0.00      0.00      0.00        11\n",
      "\n",
      "    accuracy                           0.98       755\n",
      "   macro avg       0.49      0.50      0.50       755\n",
      "weighted avg       0.97      0.98      0.98       755\n",
      "\n"
     ]
    }
   ],
   "source": [
    "print(classification_report(y_test, pred_rfc))"
   ]
  },
  {
   "cell_type": "code",
   "execution_count": 38,
   "id": "96f24ab6-0ff3-4a2c-8697-1df57a785ce6",
   "metadata": {},
   "outputs": [
    {
     "name": "stdout",
     "output_type": "stream",
     "text": [
      "[[743   1]\n",
      " [ 11   0]]\n"
     ]
    }
   ],
   "source": [
    "print(confusion_matrix(y_test, pred_rfc, labels=[0, 1]))"
   ]
  },
  {
   "cell_type": "code",
   "execution_count": 39,
   "id": "375305b7-d5f8-4318-85ff-b7152bb50a2a",
   "metadata": {},
   "outputs": [
    {
     "name": "stdout",
     "output_type": "stream",
     "text": [
      "Logistic: ROC AUC=0.772\n"
     ]
    },
    {
     "data": {
      "image/png": "[encoded data removed]",
      "text/plain": [
       "<Figure size 640x480 with 1 Axes>"
      ]
     },
     "metadata": {},
     "output_type": "display_data"
    }
   ],
   "source": [
    "proba_preds_rfc = pipeline_logreg.predict_proba(X_test)[:, 1]\n",
    "plot_roc(y_test, proba_preds_rfc, model_name=model_name)"
   ]
  },
  {
   "cell_type": "markdown",
   "id": "41e0b3f3-1342-4f97-b0fc-e380d83e960d",
   "metadata": {},
   "source": [
    "#### Feature importance\n",
    "\n",
    "Trees based models like RandomForest, XGBoost, etc. provide us feature importance based on the training."
   ]
  },
  {
   "cell_type": "code",
   "execution_count": 41,
   "id": "8f34ad7c-9ce3-4928-9b43-194b2618564d",
   "metadata": {},
   "outputs": [
    {
     "data": {
      "text/plain": [
       "array([0.01293051, 0.00929341, 0.01255709, 0.01615892, 0.00913437,\n",
       "       0.05322836, 0.00795306, 0.00862272, 0.00983555, 0.0148406 ,\n",
       "       0.02779578, 0.05920474, 0.01003993, 0.07419029, 0.07967095,\n",
       "       0.07728299, 0.0722226 , 0.07545666, 0.07853636, 0.08044893,\n",
       "       0.07219984, 0.07167484, 0.06672152])"
      ]
     },
     "execution_count": 41,
     "metadata": {},
     "output_type": "execute_result"
    }
   ],
   "source": [
    "rfc.feature_importances_"
   ]
  },
  {
   "cell_type": "code",
   "execution_count": 42,
   "id": "06bbbff1-41e7-40a8-a261-16529694dd63",
   "metadata": {},
   "outputs": [
    {
     "data": {
      "text/html": [
       "<div>\n",
       "<style scoped>\n",
       "    .dataframe tbody tr th:only-of-type {\n",
       "        vertical-align: middle;\n",
       "    }\n",
       "\n",
       "    .dataframe tbody tr th {\n",
       "        vertical-align: top;\n",
       "    }\n",
       "\n",
       "    .dataframe thead th {\n",
       "        text-align: right;\n",
       "    }\n",
       "</style>\n",
       "<table border=\"1\" class=\"dataframe\">\n",
       "  <thead>\n",
       "    <tr style=\"text-align: right;\">\n",
       "      <th></th>\n",
       "      <th>importance</th>\n",
       "    </tr>\n",
       "    <tr>\n",
       "      <th>feature</th>\n",
       "      <th></th>\n",
       "    </tr>\n",
       "  </thead>\n",
       "  <tbody>\n",
       "    <tr>\n",
       "      <th>q_2017 HHs: 5th Quintile (68.759 and above)</th>\n",
       "      <td>0.080</td>\n",
       "    </tr>\n",
       "    <tr>\n",
       "      <th>q_Uni by Total Pop</th>\n",
       "      <td>0.080</td>\n",
       "    </tr>\n",
       "    <tr>\n",
       "      <th>q_2017 Pop 15+/Edu: University, Fachhochschule</th>\n",
       "      <td>0.079</td>\n",
       "    </tr>\n",
       "    <tr>\n",
       "      <th>q_5th Quint by Total HH</th>\n",
       "      <td>0.077</td>\n",
       "    </tr>\n",
       "    <tr>\n",
       "      <th>q_2017 Total Population</th>\n",
       "      <td>0.075</td>\n",
       "    </tr>\n",
       "    <tr>\n",
       "      <th>q_2017 Total Households</th>\n",
       "      <td>0.074</td>\n",
       "    </tr>\n",
       "    <tr>\n",
       "      <th>q_2017 Personal Care: Per Capita</th>\n",
       "      <td>0.072</td>\n",
       "    </tr>\n",
       "    <tr>\n",
       "      <th>q_2017 Medical Products: Per Capita</th>\n",
       "      <td>0.072</td>\n",
       "    </tr>\n",
       "    <tr>\n",
       "      <th>q_2017 Purchasing Power: Per Capita</th>\n",
       "      <td>0.072</td>\n",
       "    </tr>\n",
       "    <tr>\n",
       "      <th>q_2017 Personal Effects: Per Capita</th>\n",
       "      <td>0.067</td>\n",
       "    </tr>\n",
       "    <tr>\n",
       "      <th>q_OpeningHours</th>\n",
       "      <td>0.059</td>\n",
       "    </tr>\n",
       "    <tr>\n",
       "      <th>b_specialisation_d</th>\n",
       "      <td>0.053</td>\n",
       "    </tr>\n",
       "    <tr>\n",
       "      <th>q_OpeningDays</th>\n",
       "      <td>0.028</td>\n",
       "    </tr>\n",
       "    <tr>\n",
       "      <th>b_specialisation_f</th>\n",
       "      <td>0.016</td>\n",
       "    </tr>\n",
       "    <tr>\n",
       "      <th>b_specialisation_j</th>\n",
       "      <td>0.015</td>\n",
       "    </tr>\n",
       "    <tr>\n",
       "      <th>b_specialisation_i</th>\n",
       "      <td>0.013</td>\n",
       "    </tr>\n",
       "    <tr>\n",
       "      <th>b_specialisation_g</th>\n",
       "      <td>0.013</td>\n",
       "    </tr>\n",
       "    <tr>\n",
       "      <th>q_2017 Average Household Size</th>\n",
       "      <td>0.010</td>\n",
       "    </tr>\n",
       "    <tr>\n",
       "      <th>b_specialisation_a</th>\n",
       "      <td>0.010</td>\n",
       "    </tr>\n",
       "    <tr>\n",
       "      <th>b_specialisation_h</th>\n",
       "      <td>0.009</td>\n",
       "    </tr>\n",
       "    <tr>\n",
       "      <th>b_specialisation_e</th>\n",
       "      <td>0.009</td>\n",
       "    </tr>\n",
       "    <tr>\n",
       "      <th>b_specialisation_b</th>\n",
       "      <td>0.009</td>\n",
       "    </tr>\n",
       "    <tr>\n",
       "      <th>b_specialisation_c</th>\n",
       "      <td>0.008</td>\n",
       "    </tr>\n",
       "  </tbody>\n",
       "</table>\n",
       "</div>"
      ],
      "text/plain": [
       "                                                importance\n",
       "feature                                                   \n",
       "q_2017 HHs: 5th Quintile (68.759 and above)          0.080\n",
       "q_Uni by Total Pop                                   0.080\n",
       "q_2017 Pop 15+/Edu: University, Fachhochschule       0.079\n",
       "q_5th Quint by Total HH                              0.077\n",
       "q_2017 Total Population                              0.075\n",
       "q_2017 Total Households                              0.074\n",
       "q_2017 Personal Care: Per Capita                     0.072\n",
       "q_2017 Medical Products: Per Capita                  0.072\n",
       "q_2017 Purchasing Power: Per Capita                  0.072\n",
       "q_2017 Personal Effects: Per Capita                  0.067\n",
       "q_OpeningHours                                       0.059\n",
       "b_specialisation_d                                   0.053\n",
       "q_OpeningDays                                        0.028\n",
       "b_specialisation_f                                   0.016\n",
       "b_specialisation_j                                   0.015\n",
       "b_specialisation_i                                   0.013\n",
       "b_specialisation_g                                   0.013\n",
       "q_2017 Average Household Size                        0.010\n",
       "b_specialisation_a                                   0.010\n",
       "b_specialisation_h                                   0.009\n",
       "b_specialisation_e                                   0.009\n",
       "b_specialisation_b                                   0.009\n",
       "b_specialisation_c                                   0.008"
      ]
     },
     "execution_count": 42,
     "metadata": {},
     "output_type": "execute_result"
    }
   ],
   "source": [
    "rfc_importances = pd.DataFrame(\n",
    "    {\"feature\": X_train.columns, \"importance\": np.round(rfc.feature_importances_, 3)}\n",
    ")\n",
    "rfc_importances = rfc_importances.sort_values(\"importance\", ascending=False).set_index(\n",
    "    \"feature\"\n",
    ")\n",
    "rfc_importances"
   ]
  },
  {
   "cell_type": "code",
   "execution_count": 43,
   "id": "1b1ed2df-2027-4495-9f4e-a1d3824eaba4",
   "metadata": {},
   "outputs": [
    {
     "data": {
      "image/png": "[encoded data removed]",
      "text/plain": [
       "<Figure size 1000x1000 with 1 Axes>"
      ]
     },
     "metadata": {},
     "output_type": "display_data"
    }
   ],
   "source": [
    "f, ax = plt.subplots(figsize=(10, 10)) \n",
    "rfc_importances.plot(kind=\"barh\",ax=ax);"
   ]
  }
 ],
 "metadata": {
  "kernelspec": {
   "display_name": "MLG",
   "language": "python",
   "name": "mlg"
  },
  "language_info": {
   "codemirror_mode": {
    "name": "ipython",
    "version": 3
   },
   "file_extension": ".py",
   "mimetype": "text/x-python",
   "name": "python",
   "nbconvert_exporter": "python",
   "pygments_lexer": "ipython3",
   "version": "3.10.13"
  }
 },
 "nbformat": 4,
 "nbformat_minor": 5
}
